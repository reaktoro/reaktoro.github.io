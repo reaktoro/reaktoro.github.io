{
 "cells": [
  {
   "attachments": {},
   "cell_type": "markdown",
   "metadata": {},
   "source": [
    "# Analysis of the Evian water\n",
    "\n",
    "<p class=\"acknowledgement\">Written by Svetlana Kyas (ETH Zurich) on March 31th, 2022.</p>\n",
    "\n",
    "```{attention}\n",
    "Always make sure you are using the [latest version of Reaktoro](https://anaconda.org/conda-forge/reaktoro). Otherwise, some new features documented on this website will not work on your machine and you may receive unintuitive errors. Follow these [update instructions](updating_reaktoro_via_conda) to get the latest version of Reaktoro!\n",
    "```\n",
    "\n",
    "This tutorial demonstrates the use of Reaktoro to calculate the saturation indices of minerals for a water sample with composition and pH shown below:\n",
    "\n",
    "|![Evian water label](../../images/applications/evian-chemical-water-composition.png)|\n",
    "|:--:|\n",
    "|Evian water label, Source: wikipedia.org|\n",
    "\n",
    "We start by defining the chemical system with just an aqueous phase:"
   ]
  },
  {
   "cell_type": "code",
   "execution_count": 20,
   "metadata": {},
   "outputs": [],
   "source": [
    "from reaktoro import *\n",
    "from math import *\n",
    "\n",
    "db = PhreeqcDatabase(\"phreeqc.dat\")\n",
    "\n",
    "# Create an aqueous phase whose species are automatically determined from given list of elements\n",
    "solution = AqueousPhase(speciate(\"C Ca Cl K Mg N Na S Si\"))\n",
    "solution.set(ActivityModelPhreeqc(db))  # Ensure consistency with PHREEQC by using the same activity model PHREEQC would use with the phreeqc.dat database!\n",
    "\n",
    "# Create the chemical system with only the aqueous phase\n",
    "system = ChemicalSystem(db, solution)"
   ]
  },
  {
   "attachments": {},
   "cell_type": "markdown",
   "metadata": {},
   "source": [
    "Next, we create an initial chemical state (in disequilibrium) representative of the water sample we are analysing:"
   ]
  },
  {
   "cell_type": "code",
   "execution_count": null,
   "metadata": {},
   "outputs": [],
   "source": [
    "state = ChemicalState(system)\n",
    "state.set(\"H2O\"   , 1.000, \"kg\")\n",
    "state.set(\"Ca+2\"  , 80.00, \"mg\")\n",
    "state.set(\"Cl-\"   , 6.800, \"mg\")\n",
    "state.set(\"HCO3-\" , 350.0, \"mg\")\n",
    "state.set(\"Mg+2\"  , 26.00, \"mg\")\n",
    "state.set(\"NO3-\"  , 3.700, \"mg\")\n",
    "state.set(\"K+\"    , 1.000, \"mg\")\n",
    "state.set(\"Na+\"   , 6.500, \"mg\")\n",
    "state.set(\"SO4-2\" , 12.60, \"mg\")\n",
    "state.set(\"H4SiO4\", 24.00, \"mg\")"
   ]
  },
  {
   "attachments": {},
   "cell_type": "markdown",
   "metadata": {},
   "source": [
    "Note that the PHREEQC database `phreeqc.dat` does not have any aqueous species with formula `SiO2`. Therefore, we had to convert 15 mg of `SiO2`, with molar mass of 60.0843 g/mol, to the mass of `H4SiO4`, which has a molar mass of 96.1163 g/mol, in order to obtain the same molar amount of Si as in 15 mg of `SiO2`. \n",
    "\n",
    "For our speciation calculation, we require an equilibrium solver that allow us to specify not only temperature and pressure but also the pH of the solution, which is done next:"
   ]
  },
  {
   "cell_type": "code",
   "execution_count": null,
   "metadata": {},
   "outputs": [],
   "source": [
    "# Specify the constraints we want to impose for the equilibrium calculation\n",
    "specs = EquilibriumSpecs(system)\n",
    "specs.temperature()\n",
    "specs.pressure()\n",
    "specs.pH()\n",
    "\n",
    "# Create our equilibrium solver with the specifications above\n",
    "solver = EquilibriumSolver(specs)"
   ]
  },
  {
   "attachments": {},
   "cell_type": "markdown",
   "metadata": {},
   "source": [
    "We can now equilibrate our initial state and determine its full composition:"
   ]
  },
  {
   "cell_type": "code",
   "execution_count": 21,
   "metadata": {},
   "outputs": [],
   "source": [
    "# The conditions to be satisfied at the chemical equilibrium state\n",
    "conditions = EquilibriumConditions(specs)\n",
    "conditions.temperature(25.0, \"celsius\")\n",
    "conditions.pressure(1.0, \"atm\")\n",
    "conditions.pH(7.2)\n",
    "\n",
    "# Equilibrate the solution with the given initial chemical state and desired conditions at equilibrium\n",
    "result = solver.solve(state, conditions)\n",
    "\n",
    "assert result.succeeded()"
   ]
  },
  {
   "attachments": {},
   "cell_type": "markdown",
   "metadata": {},
   "source": [
    "We can now evaluate the aqueous properties of the solution and determine the saturation indices of the minerals and gases:"
   ]
  },
  {
   "cell_type": "code",
   "execution_count": 25,
   "metadata": {
    "tags": [
     "scroll-output"
    ]
   },
   "outputs": [
    {
     "name": "stdout",
     "output_type": "stream",
     "text": [
      "+--------------------------------------+-------------+-------+\n",
      "| Property                             |       Value |  Unit |\n",
      "+--------------------------------------+-------------+-------+\n",
      "| Temperature                          |    298.1500 |     K |\n",
      "| Pressure                             |      1.0132 |   bar |\n",
      "| Ionic Strength (Effective)           |      0.0089 | molal |\n",
      "| Ionic Strength (Stoichiometric)      |      0.0090 | molal |\n",
      "| pH                                   |      7.2000 |       |\n",
      "| pE                                   |     12.1304 |       |\n",
      "| Eh                                   |      0.7176 |     V |\n",
      "| Charge Molality                      |  8.1165e-04 | molal |\n",
      "| Element Molality:                    |             |       |\n",
      "| :: C                                 |  5.7358e-03 | molal |\n",
      "| :: N                                 |  5.9670e-05 | molal |\n",
      "| :: Na                                |  2.8274e-04 | molal |\n",
      "| :: Mg                                |  1.0695e-03 | molal |\n",
      "| :: Si                                |  2.4969e-04 | molal |\n",
      "| :: S                                 |  1.3116e-04 | molal |\n",
      "| :: Cl                                |  1.9180e-04 | molal |\n",
      "| :: K                                 |  2.5574e-05 | molal |\n",
      "| :: Ca                                |  1.9960e-03 | molal |\n",
      "| Species Molality:                    |             |       |\n",
      "| :: CO3-2                             |  4.9629e-06 | molal |\n",
      "| :: H+                                |  6.9652e-08 | molal |\n",
      "| :: CO2                               |  6.3698e-04 | molal |\n",
      "| :: (CO2)2                            |  7.4630e-09 | molal |\n",
      "| :: SO4-2                             |  1.0400e-04 | molal |\n",
      "| :: HS-                               |  9.9999e-17 | molal |\n",
      "| :: H2S                               |  9.9999e-17 | molal |\n",
      "| :: (H2S)2                            |  9.9999e-17 | molal |\n",
      "| :: HSO4-                             |  4.7424e-10 | molal |\n",
      "| :: HCO3-                             |  4.9634e-03 | molal |\n",
      "| :: CH4                               |  9.9999e-17 | molal |\n",
      "| :: Ca+2                              |  1.8924e-03 | molal |\n",
      "| :: CaCO3                             |  7.1389e-06 | molal |\n",
      "| :: CaHCO3+                           |  8.0694e-05 | molal |\n",
      "| :: CaHSO4+                           |  7.2654e-12 | molal |\n",
      "| :: CaOH+                             |  3.6972e-09 | molal |\n",
      "| :: CaSO4                             |  1.5836e-05 | molal |\n",
      "| :: Cl-                               |  1.9180e-04 | molal |\n",
      "| :: NO3-                              |  5.9668e-05 | molal |\n",
      "| :: H2                                |  9.9999e-17 | molal |\n",
      "| :: H4SiO4                            |  2.4905e-04 | molal |\n",
      "| :: H2SiO4-2                          |  9.3376e-13 | molal |\n",
      "| :: H3SiO4-                           |  6.4383e-07 | molal |\n",
      "| :: Mg+2                              |  1.0163e-03 | molal |\n",
      "| :: K+                                |  2.5562e-05 | molal |\n",
      "| :: KSO4-                             |  1.2578e-08 | molal |\n",
      "| :: MgCO3                             |  2.1778e-06 | molal |\n",
      "| :: MgHCO3+                           |  3.9744e-05 | molal |\n",
      "| :: MgOH+                             |  4.3440e-08 | molal |\n",
      "| :: MgSO4                             |  1.1211e-05 | molal |\n",
      "| :: N2                                |  6.9545e-10 | molal |\n",
      "| :: NH4+                              |  9.9999e-17 | molal |\n",
      "| :: NH3                               |  9.9999e-17 | molal |\n",
      "| :: NH4SO4-                           |  9.9999e-17 | molal |\n",
      "| :: NO2-                              |  4.8438e-15 | molal |\n",
      "| :: Na+                               |  2.8198e-04 | molal |\n",
      "| :: NaCO3-                            |  1.7547e-08 | molal |\n",
      "| :: NaHCO3                            |  6.4450e-07 | molal |\n",
      "| :: OH-                               |  1.7696e-07 | molal |\n",
      "| :: NaOH                              |  9.9999e-17 | molal |\n",
      "| :: NaSO4-                            |  9.8970e-08 | molal |\n",
      "| :: O2                                |  1.7386e-09 | molal |\n",
      "| :: S-2                               |  9.9999e-17 | molal |\n",
      "| Saturation Indices:                  |             |       |\n",
      "| :: CH4(g)                            |   -130.6514 |     - |\n",
      "| :: CO2(g)                            |     -1.7325 |     - |\n",
      "| :: H2(g)                             |    -38.7155 |     - |\n",
      "| :: H2O(g)                            |     -1.5089 |     - |\n",
      "| :: H2S(g)                            |   -131.6165 |     - |\n",
      "| :: N2(g)                             |     -5.9868 |     - |\n",
      "| :: NH3(g)                            |    -58.0789 |     - |\n",
      "| :: O2(g)                             |     -5.8723 |     - |\n",
      "| :: Talc :: Mg3Si4O10(OH)2            |     -2.1031 |     - |\n",
      "| :: Anhydrite :: CaSO4                |     -2.7719 |     - |\n",
      "| :: Sylvite :: KCl                    |     -9.2954 |     - |\n",
      "| :: Sulfur                            |    -98.8264 |     - |\n",
      "| :: SiO2(a)                           |     -0.8904 |     - |\n",
      "| :: Sepiolite(d) :: Mg2Si3O7.5OH:3H2O |     -6.9977 |     - |\n",
      "| :: Sepiolite :: Mg2Si3O7.5OH:3H2O    |     -4.0977 |     - |\n",
      "| :: Quartz :: SiO2                    |      0.3782 |     - |\n",
      "| :: Halite :: NaCl                    |     -8.9228 |     - |\n",
      "| :: Gypsum :: CaSO4:2H2O              |     -2.4677 |     - |\n",
      "| :: Dolomite :: CaMg(CO3)2            |      0.0725 |     - |\n",
      "| :: Chrysotile :: Mg3Si2O5(OH)4       |     -5.7012 |     - |\n",
      "| :: Chalcedony :: SiO2                |     -0.0508 |     - |\n",
      "| :: Calcite :: CaCO3                  |      0.1092 |     - |\n",
      "| :: Aragonite :: CaCO3                |     -0.0347 |     - |\n",
      "| Saturation Ratios:                   |             |       |\n",
      "| :: CH4(g)                            | 2.2315e-131 |     - |\n",
      "| :: CO2(g)                            |  1.8513e-02 |     - |\n",
      "| :: H2(g)                             |  1.9252e-39 |     - |\n",
      "| :: H2O(g)                            |  3.0984e-02 |     - |\n",
      "| :: H2S(g)                            | 2.4183e-132 |     - |\n",
      "| :: N2(g)                             |  1.0308e-06 |     - |\n",
      "| :: NH3(g)                            |  8.3390e-59 |     - |\n",
      "| :: O2(g)                             |  1.3420e-06 |     - |\n",
      "| :: Talc :: Mg3Si4O10(OH)2            |  7.8859e-03 |     - |\n",
      "| :: Anhydrite :: CaSO4                |  1.6907e-03 |     - |\n",
      "| :: Sylvite :: KCl                    |  5.0648e-10 |     - |\n",
      "| :: Sulfur                            |  1.4915e-99 |     - |\n",
      "| :: SiO2(a)                           |  1.2871e-01 |     - |\n",
      "| :: Sepiolite(d) :: Mg2Si3O7.5OH:3H2O |  1.0052e-07 |     - |\n",
      "| :: Sepiolite :: Mg2Si3O7.5OH:3H2O    |  7.9849e-05 |     - |\n",
      "| :: Quartz :: SiO2                    |  2.3891e+00 |     - |\n",
      "| :: Halite :: NaCl                    |  1.1945e-09 |     - |\n",
      "| :: Gypsum :: CaSO4:2H2O              |  3.4064e-03 |     - |\n",
      "| :: Dolomite :: CaMg(CO3)2            |  1.1818e+00 |     - |\n",
      "| :: Chrysotile :: Mg3Si2O5(OH)4       |  1.9899e-06 |     - |\n",
      "| :: Chalcedony :: SiO2                |  8.8956e-01 |     - |\n",
      "| :: Calcite :: CaCO3                  |  1.2859e+00 |     - |\n",
      "| :: Aragonite :: CaCO3                |  9.2323e-01 |     - |\n",
      "+--------------------------------------+-------------+-------+\n"
     ]
    }
   ],
   "source": [
    "aprops = AqueousProps(state)\n",
    "print(aprops)"
   ]
  },
  {
   "attachments": {},
   "cell_type": "markdown",
   "metadata": {},
   "source": [
    "The code below determines which minerals have a *super-saturated* state in the water sample (i.e., SI > 0):"
   ]
  },
  {
   "cell_type": "code",
   "execution_count": 35,
   "metadata": {},
   "outputs": [
    {
     "name": "stdout",
     "output_type": "stream",
     "text": [
      "Minerals for which the water is super-saturated:\n",
      " - Quartz\n",
      " - Dolomite\n",
      " - Calcite\n"
     ]
    }
   ],
   "source": [
    "print(\"Minerals for which the water is super-saturated:\")\n",
    "for species in aprops.saturationSpecies():\n",
    "    name = species.name()\n",
    "    SI = aprops.saturationIndex(name)\n",
    "    if SI > 0.0:\n",
    "        print(\" - \" + name)"
   ]
  }
 ],
 "metadata": {
  "kernelspec": {
   "display_name": "Python 3.9.9 ('reaktoro-jupyter-book')",
   "language": "python",
   "name": "python3"
  },
  "language_info": {
   "codemirror_mode": {
    "name": "ipython",
    "version": 3
   },
   "file_extension": ".py",
   "mimetype": "text/x-python",
   "name": "python",
   "nbconvert_exporter": "python",
   "pygments_lexer": "ipython3",
   "version": "3.10.11"
  },
  "vscode": {
   "interpreter": {
    "hash": "e4e8b2f3ae27709963f14fd23a6560d362beea55eaec742263828e04d814e23c"
   }
  }
 },
 "nbformat": 4,
 "nbformat_minor": 4
}
