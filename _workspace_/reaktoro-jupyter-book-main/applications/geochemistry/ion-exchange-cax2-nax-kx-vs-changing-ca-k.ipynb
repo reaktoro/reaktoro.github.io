{
    "cells": [
        {
            "attachments": {},
            "cell_type": "markdown",
            "metadata": {},
            "source": [
                "# Cation exchange competition among Na<sup>+</sup>, K<sup>+</sup> and Ca<sup>2+</sup>\n",
                "\n",
                "<p class=\"acknowledgement\">Written by Svetlana Kyas (ETH Zurich) on Mar 10th, 2022.<br>Last revised on Mar 16, 2023 by Allan Leal.</p>\n",
                "\n",
                "```{attention}\n",
                "Always make sure you are using the [latest version of Reaktoro](https://anaconda.org/conda-forge/reaktoro). Otherwise, some new features documented on this website will not work on your machine and you may receive unintuitive errors. Follow these [update instructions](updating_reaktoro_via_conda) to get the latest version of Reaktoro!\n",
                "```\n",
                "\n",
                "In this tutorial, we show how Reaktoro can be used to model ion exchange processes. We use the PHREEQC database `phreeqc.dat` for this purpose. We assume that there is an ion exchanger X<sup>-</sup> on which the aqueous cations Na<sup>+</sup>, K<sup>+</sup> and Ca<sup>2+</sup> can bind and form the exchange phases NaX, KX and CaX<sub>2</sub> respectively. We are interested in calculating the amounts of these phases as the concentrations of K<sup>+</sup> and Ca<sup>2+</sup> vary in the aqueous solution.\n",
                "\n",
                "First, we define a chemical system representative of the process we want to model."
            ]
        },
        {
            "cell_type": "code",
            "execution_count": 47,
            "metadata": {},
            "outputs": [],
            "source": [
                "import numpy as np\n",
                "from reaktoro import *\n",
                "import pandas as pd\n",
                "\n",
                "# Initialize the PHREEQC database\n",
                "db = PhreeqcDatabase(\"phreeqc.dat\")\n",
                "\n",
                "# Define an aqueous phase\n",
                "solution = AqueousPhase(\"H2O Na+ Cl- H+ OH- K+ Ca+2 Mg+2\")\n",
                "solution.set(ActivityModelPhreeqc(db))\n",
                "\n",
                "# Define an ion exchange phase\n",
                "exchange = IonExchangePhase(\"NaX KX CaX2\")\n",
                "exchange.set(ActivityModelIonExchangeGainesThomas())\n",
                "\n",
                "# Create the chemical system\n",
                "system = ChemicalSystem(db, solution, exchange)"
            ]
        },
        {
            "cell_type": "markdown",
            "metadata": {},
            "source": [
                "As we are going to perform a sequence of chemical equilibrium calculations, we define an object of {{EquilibriumSolver}} as well as {{IonExchangeProps}} and {{AqueousProps}} using the chemical system. These objects will be updated after every equilibrium calculation."
            ]
        },
        {
            "cell_type": "code",
            "execution_count": 48,
            "metadata": {},
            "outputs": [],
            "source": [
                "# Define the equilibrium solver\n",
                "solver = EquilibriumSolver(system)\n",
                "\n",
                "# Define exchange, aqueous, and chemical properties\n",
                "exprops = IonExchangeProps(system)\n",
                "aqprops = AqueousProps(system)"
            ]
        },
        {
            "cell_type": "markdown",
            "metadata": {},
            "source": [
                "```{note}\n",
                "Note that at the end of each equilibrium calculation, `state.props()` can be used to access a {{ChemicalProps}} object with the chemical properties of the system evaluated in the last iteration of the algorithm.\n",
                "```\n",
                "\n",
                "Next, we define the range of Ca<sup>2+</sup> and K<sup>+</sup> initial amounts as well as auxiliary `pandas.DataFrame` to collect the results of the ion exchange simulations."
            ]
        },
        {
            "cell_type": "code",
            "execution_count": 49,
            "metadata": {},
            "outputs": [],
            "source": [
                "# Output dataframe\n",
                "df = pd.DataFrame(columns=[\n",
                "    \"amount_K\", \n",
                "    \"amount_Ca\",\n",
                "    \"amount_K_ion\", \n",
                "    \"amount_Na_ion\", \n",
                "    \"amount_Ca_ion\",\n",
                "    \"amount_KX\", \n",
                "    \"amount_NaX\", \n",
                "    \"amount_CaX2\",\n",
                "    \"pH\"\n",
                "])\n",
                "\n",
                "# Sampling arrays storing the amounts of ions\n",
                "steps = 21\n",
                "\n",
                "mols_K  = np.linspace(0.1, 0.0, num=steps)\n",
                "mols_Ca = np.linspace(0.0, 0.5, num=steps)"
            ]
        },
        {
            "cell_type": "markdown",
            "metadata": {},
            "source": [
                "We'll now perform a sequence of equilibrium calculations by varying the initial amounts of ions Ca<sup>2+</sup> and K<sup>+</sup> ions (taken from the arrays `mols_Ca` and `mols_K`, respectively). At the end of each calculation, we'll extract the following properties from the computed chemical state:\n",
                "* amount of K,\n",
                "* amount of Ca,\n",
                "* amount of K<sup>+</sup>,\n",
                "* amount of Na<sup>+</sup>,\n",
                "* amount of Ca<sup>2+</sup>,\n",
                "* amount of KX,\n",
                "* amount of NaX,\n",
                "* amount of CaX2,\n",
                "* pH."
            ]
        },
        {
            "cell_type": "code",
            "execution_count": 50,
            "metadata": {},
            "outputs": [],
            "source": [
                "for mol_K, mol_Ca in zip(mols_K, mols_Ca):\n",
                "\n",
                "    # Define initial chemical state\n",
                "    state = ChemicalState(system)\n",
                "    state.setTemperature(25, \"celsius\")\n",
                "    state.setPressure(1, \"atm\")\n",
                "    state.set(\"H2O\" , 1.0   , \"kg\")\n",
                "    state.set(\"NaX\" , 0.4   , \"mol\")\n",
                "    state.set(\"K+\"  , mol_K , \"mol\")\n",
                "    state.set(\"Ca+2\", mol_Ca, \"mol\")\n",
                "\n",
                "    # Equilibrate the chemical state\n",
                "    res = solver.solve(state)\n",
                "    \n",
                "    # Stop if the equilibration did not converge or failed\n",
                "    assert res.succeeded()\n",
                "\n",
                "    # Update exchange and aqueous properties\n",
                "    chemprops = state.props()\n",
                "\n",
                "    exprops.update(chemprops)\n",
                "    aqprops.update(chemprops)\n",
                "\n",
                "    # Update output arrays:\n",
                "    df.loc[len(df)] = [\n",
                "        chemprops.elementAmount('K'),   # amount_K\n",
                "        chemprops.elementAmount('Ca'),  # amount_Ca\n",
                "        state.speciesAmount('K+'),      # amount_K+\n",
                "        state.speciesAmount('Na+'),     # amount_Na+\n",
                "        state.speciesAmount('Ca+2'),    # amount_Ca+2\n",
                "        state.speciesAmount('KX'),      # amount_KX\n",
                "        state.speciesAmount('NaX'),     # amount_NaX\n",
                "        state.speciesAmount('CaX2'),    # amount_CaX2\n",
                "        aqprops.pH()                    # pH\n",
                "    ]"
            ]
        },
        {
            "attachments": {},
            "cell_type": "markdown",
            "metadata": {},
            "source": [
                "The data collected in the previous calculations can be inspected by printing the `pandas.DataFrame` object `df`:"
            ]
        },
        {
            "cell_type": "code",
            "execution_count": 51,
            "metadata": {
                "tags": [
                    "scroll-output"
                ]
            },
            "outputs": [
                {
                    "data": {
                        "text/html": [
                            "<div>\n",
                            "<style scoped>\n",
                            "    .dataframe tbody tr th:only-of-type {\n",
                            "        vertical-align: middle;\n",
                            "    }\n",
                            "\n",
                            "    .dataframe tbody tr th {\n",
                            "        vertical-align: top;\n",
                            "    }\n",
                            "\n",
                            "    .dataframe thead th {\n",
                            "        text-align: right;\n",
                            "    }\n",
                            "</style>\n",
                            "<table border=\"1\" class=\"dataframe\">\n",
                            "  <thead>\n",
                            "    <tr style=\"text-align: right;\">\n",
                            "      <th></th>\n",
                            "      <th>amount_K</th>\n",
                            "      <th>amount_Ca</th>\n",
                            "      <th>amount_K_ion</th>\n",
                            "      <th>amount_Na_ion</th>\n",
                            "      <th>amount_Ca_ion</th>\n",
                            "      <th>amount_KX</th>\n",
                            "      <th>amount_NaX</th>\n",
                            "      <th>amount_CaX2</th>\n",
                            "      <th>pH</th>\n",
                            "    </tr>\n",
                            "  </thead>\n",
                            "  <tbody>\n",
                            "    <tr>\n",
                            "      <th>0</th>\n",
                            "      <td>0.1</td>\n",
                            "      <td>2e-16</td>\n",
                            "      <td>0.00571081</td>\n",
                            "      <td>0.0942892</td>\n",
                            "      <td>1e-16</td>\n",
                            "      <td>0.0942892</td>\n",
                            "      <td>0.305711</td>\n",
                            "      <td>1e-16</td>\n",
                            "      <td>6.99674</td>\n",
                            "    </tr>\n",
                            "    <tr>\n",
                            "      <th>1</th>\n",
                            "      <td>0.095</td>\n",
                            "      <td>0.025</td>\n",
                            "      <td>0.00857519</td>\n",
                            "      <td>0.134804</td>\n",
                            "      <td>0.000810585</td>\n",
                            "      <td>0.0864248</td>\n",
                            "      <td>0.265196</td>\n",
                            "      <td>0.0241894</td>\n",
                            "      <td>6.99694</td>\n",
                            "    </tr>\n",
                            "    <tr>\n",
                            "      <th>2</th>\n",
                            "      <td>0.09</td>\n",
                            "      <td>0.05</td>\n",
                            "      <td>0.0114588</td>\n",
                            "      <td>0.17168</td>\n",
                            "      <td>0.0034304</td>\n",
                            "      <td>0.0785412</td>\n",
                            "      <td>0.22832</td>\n",
                            "      <td>0.0465696</td>\n",
                            "      <td>6.99732</td>\n",
                            "    </tr>\n",
                            "    <tr>\n",
                            "      <th>3</th>\n",
                            "      <td>0.085</td>\n",
                            "      <td>0.075</td>\n",
                            "      <td>0.014057</td>\n",
                            "      <td>0.20273</td>\n",
                            "      <td>0.00910655</td>\n",
                            "      <td>0.070943</td>\n",
                            "      <td>0.19727</td>\n",
                            "      <td>0.0658934</td>\n",
                            "      <td>6.99787</td>\n",
                            "    </tr>\n",
                            "    <tr>\n",
                            "      <th>4</th>\n",
                            "      <td>0.08</td>\n",
                            "      <td>0.1</td>\n",
                            "      <td>0.0160688</td>\n",
                            "      <td>0.227017</td>\n",
                            "      <td>0.0184573</td>\n",
                            "      <td>0.0639312</td>\n",
                            "      <td>0.172983</td>\n",
                            "      <td>0.0815427</td>\n",
                            "      <td>6.9986</td>\n",
                            "    </tr>\n",
                            "    <tr>\n",
                            "      <th>5</th>\n",
                            "      <td>0.075</td>\n",
                            "      <td>0.125</td>\n",
                            "      <td>0.0173796</td>\n",
                            "      <td>0.245317</td>\n",
                            "      <td>0.0311517</td>\n",
                            "      <td>0.0576204</td>\n",
                            "      <td>0.154683</td>\n",
                            "      <td>0.0938483</td>\n",
                            "      <td>6.99952</td>\n",
                            "    </tr>\n",
                            "    <tr>\n",
                            "      <th>6</th>\n",
                            "      <td>0.07</td>\n",
                            "      <td>0.15</td>\n",
                            "      <td>0.0180442</td>\n",
                            "      <td>0.259116</td>\n",
                            "      <td>0.04642</td>\n",
                            "      <td>0.0519558</td>\n",
                            "      <td>0.140884</td>\n",
                            "      <td>0.10358</td>\n",
                            "      <td>7.00062</td>\n",
                            "    </tr>\n",
                            "    <tr>\n",
                            "      <th>7</th>\n",
                            "      <td>0.065</td>\n",
                            "      <td>0.175</td>\n",
                            "      <td>0.0181777</td>\n",
                            "      <td>0.269738</td>\n",
                            "      <td>0.063542</td>\n",
                            "      <td>0.0468223</td>\n",
                            "      <td>0.130262</td>\n",
                            "      <td>0.111458</td>\n",
                            "      <td>7.00187</td>\n",
                            "    </tr>\n",
                            "    <tr>\n",
                            "      <th>8</th>\n",
                            "      <td>0.06</td>\n",
                            "      <td>0.2</td>\n",
                            "      <td>0.0178905</td>\n",
                            "      <td>0.278134</td>\n",
                            "      <td>0.0819878</td>\n",
                            "      <td>0.0421095</td>\n",
                            "      <td>0.121866</td>\n",
                            "      <td>0.118012</td>\n",
                            "      <td>7.00326</td>\n",
                            "    </tr>\n",
                            "    <tr>\n",
                            "      <th>9</th>\n",
                            "      <td>0.055</td>\n",
                            "      <td>0.225</td>\n",
                            "      <td>0.0172712</td>\n",
                            "      <td>0.28494</td>\n",
                            "      <td>0.101394</td>\n",
                            "      <td>0.0377288</td>\n",
                            "      <td>0.11506</td>\n",
                            "      <td>0.123606</td>\n",
                            "      <td>7.00477</td>\n",
                            "    </tr>\n",
                            "    <tr>\n",
                            "      <th>10</th>\n",
                            "      <td>0.05</td>\n",
                            "      <td>0.25</td>\n",
                            "      <td>0.016387</td>\n",
                            "      <td>0.290582</td>\n",
                            "      <td>0.121516</td>\n",
                            "      <td>0.033613</td>\n",
                            "      <td>0.109418</td>\n",
                            "      <td>0.128484</td>\n",
                            "      <td>7.00637</td>\n",
                            "    </tr>\n",
                            "    <tr>\n",
                            "      <th>11</th>\n",
                            "      <td>0.045</td>\n",
                            "      <td>0.275</td>\n",
                            "      <td>0.0152885</td>\n",
                            "      <td>0.295349</td>\n",
                            "      <td>0.142181</td>\n",
                            "      <td>0.0297115</td>\n",
                            "      <td>0.104651</td>\n",
                            "      <td>0.132819</td>\n",
                            "      <td>7.00806</td>\n",
                            "    </tr>\n",
                            "    <tr>\n",
                            "      <th>12</th>\n",
                            "      <td>0.04</td>\n",
                            "      <td>0.3</td>\n",
                            "      <td>0.0140141</td>\n",
                            "      <td>0.299441</td>\n",
                            "      <td>0.163273</td>\n",
                            "      <td>0.0259859</td>\n",
                            "      <td>0.100559</td>\n",
                            "      <td>0.136727</td>\n",
                            "      <td>7.00982</td>\n",
                            "    </tr>\n",
                            "    <tr>\n",
                            "      <th>13</th>\n",
                            "      <td>0.035</td>\n",
                            "      <td>0.325</td>\n",
                            "      <td>0.0125931</td>\n",
                            "      <td>0.303002</td>\n",
                            "      <td>0.184702</td>\n",
                            "      <td>0.0224069</td>\n",
                            "      <td>0.0969978</td>\n",
                            "      <td>0.140298</td>\n",
                            "      <td>7.01164</td>\n",
                            "    </tr>\n",
                            "    <tr>\n",
                            "      <th>14</th>\n",
                            "      <td>0.03</td>\n",
                            "      <td>0.35</td>\n",
                            "      <td>0.0110485</td>\n",
                            "      <td>0.306137</td>\n",
                            "      <td>0.206407</td>\n",
                            "      <td>0.0189515</td>\n",
                            "      <td>0.0938626</td>\n",
                            "      <td>0.143593</td>\n",
                            "      <td>7.01353</td>\n",
                            "    </tr>\n",
                            "    <tr>\n",
                            "      <th>15</th>\n",
                            "      <td>0.025</td>\n",
                            "      <td>0.375</td>\n",
                            "      <td>0.00939862</td>\n",
                            "      <td>0.308925</td>\n",
                            "      <td>0.228338</td>\n",
                            "      <td>0.0156014</td>\n",
                            "      <td>0.0910751</td>\n",
                            "      <td>0.146662</td>\n",
                            "      <td>7.01546</td>\n",
                            "    </tr>\n",
                            "    <tr>\n",
                            "      <th>16</th>\n",
                            "      <td>0.02</td>\n",
                            "      <td>0.4</td>\n",
                            "      <td>0.00765805</td>\n",
                            "      <td>0.311425</td>\n",
                            "      <td>0.250459</td>\n",
                            "      <td>0.0123419</td>\n",
                            "      <td>0.0885754</td>\n",
                            "      <td>0.149541</td>\n",
                            "      <td>7.01744</td>\n",
                            "    </tr>\n",
                            "    <tr>\n",
                            "      <th>17</th>\n",
                            "      <td>0.015</td>\n",
                            "      <td>0.425</td>\n",
                            "      <td>0.00583879</td>\n",
                            "      <td>0.313683</td>\n",
                            "      <td>0.272739</td>\n",
                            "      <td>0.00916121</td>\n",
                            "      <td>0.0863171</td>\n",
                            "      <td>0.152261</td>\n",
                            "      <td>7.01945</td>\n",
                            "    </tr>\n",
                            "    <tr>\n",
                            "      <th>18</th>\n",
                            "      <td>0.01</td>\n",
                            "      <td>0.45</td>\n",
                            "      <td>0.00395073</td>\n",
                            "      <td>0.315736</td>\n",
                            "      <td>0.295156</td>\n",
                            "      <td>0.00604927</td>\n",
                            "      <td>0.0842636</td>\n",
                            "      <td>0.154844</td>\n",
                            "      <td>7.02151</td>\n",
                            "    </tr>\n",
                            "    <tr>\n",
                            "      <th>19</th>\n",
                            "      <td>0.005</td>\n",
                            "      <td>0.475</td>\n",
                            "      <td>0.00200214</td>\n",
                            "      <td>0.317615</td>\n",
                            "      <td>0.317692</td>\n",
                            "      <td>0.00299786</td>\n",
                            "      <td>0.0823854</td>\n",
                            "      <td>0.157308</td>\n",
                            "      <td>7.02359</td>\n",
                            "    </tr>\n",
                            "    <tr>\n",
                            "      <th>20</th>\n",
                            "      <td>2e-16</td>\n",
                            "      <td>0.5</td>\n",
                            "      <td>1e-16</td>\n",
                            "      <td>0.319341</td>\n",
                            "      <td>0.340329</td>\n",
                            "      <td>1e-16</td>\n",
                            "      <td>0.0806589</td>\n",
                            "      <td>0.159671</td>\n",
                            "      <td>7.02571</td>\n",
                            "    </tr>\n",
                            "  </tbody>\n",
                            "</table>\n",
                            "</div>"
                        ],
                        "text/plain": [
                            "   amount_K amount_Ca amount_K_ion amount_Na_ion amount_Ca_ion   amount_KX  \\\n",
                            "0       0.1     2e-16   0.00571081     0.0942892         1e-16   0.0942892   \n",
                            "1     0.095     0.025   0.00857519      0.134804   0.000810585   0.0864248   \n",
                            "2      0.09      0.05    0.0114588       0.17168     0.0034304   0.0785412   \n",
                            "3     0.085     0.075     0.014057       0.20273    0.00910655    0.070943   \n",
                            "4      0.08       0.1    0.0160688      0.227017     0.0184573   0.0639312   \n",
                            "5     0.075     0.125    0.0173796      0.245317     0.0311517   0.0576204   \n",
                            "6      0.07      0.15    0.0180442      0.259116       0.04642   0.0519558   \n",
                            "7     0.065     0.175    0.0181777      0.269738      0.063542   0.0468223   \n",
                            "8      0.06       0.2    0.0178905      0.278134     0.0819878   0.0421095   \n",
                            "9     0.055     0.225    0.0172712       0.28494      0.101394   0.0377288   \n",
                            "10     0.05      0.25     0.016387      0.290582      0.121516    0.033613   \n",
                            "11    0.045     0.275    0.0152885      0.295349      0.142181   0.0297115   \n",
                            "12     0.04       0.3    0.0140141      0.299441      0.163273   0.0259859   \n",
                            "13    0.035     0.325    0.0125931      0.303002      0.184702   0.0224069   \n",
                            "14     0.03      0.35    0.0110485      0.306137      0.206407   0.0189515   \n",
                            "15    0.025     0.375   0.00939862      0.308925      0.228338   0.0156014   \n",
                            "16     0.02       0.4   0.00765805      0.311425      0.250459   0.0123419   \n",
                            "17    0.015     0.425   0.00583879      0.313683      0.272739  0.00916121   \n",
                            "18     0.01      0.45   0.00395073      0.315736      0.295156  0.00604927   \n",
                            "19    0.005     0.475   0.00200214      0.317615      0.317692  0.00299786   \n",
                            "20    2e-16       0.5        1e-16      0.319341      0.340329       1e-16   \n",
                            "\n",
                            "   amount_NaX amount_CaX2       pH  \n",
                            "0    0.305711       1e-16  6.99674  \n",
                            "1    0.265196   0.0241894  6.99694  \n",
                            "2     0.22832   0.0465696  6.99732  \n",
                            "3     0.19727   0.0658934  6.99787  \n",
                            "4    0.172983   0.0815427   6.9986  \n",
                            "5    0.154683   0.0938483  6.99952  \n",
                            "6    0.140884     0.10358  7.00062  \n",
                            "7    0.130262    0.111458  7.00187  \n",
                            "8    0.121866    0.118012  7.00326  \n",
                            "9     0.11506    0.123606  7.00477  \n",
                            "10   0.109418    0.128484  7.00637  \n",
                            "11   0.104651    0.132819  7.00806  \n",
                            "12   0.100559    0.136727  7.00982  \n",
                            "13  0.0969978    0.140298  7.01164  \n",
                            "14  0.0938626    0.143593  7.01353  \n",
                            "15  0.0910751    0.146662  7.01546  \n",
                            "16  0.0885754    0.149541  7.01744  \n",
                            "17  0.0863171    0.152261  7.01945  \n",
                            "18  0.0842636    0.154844  7.02151  \n",
                            "19  0.0823854    0.157308  7.02359  \n",
                            "20  0.0806589    0.159671  7.02571  "
                        ]
                    },
                    "execution_count": 51,
                    "metadata": {},
                    "output_type": "execute_result"
                }
            ],
            "source": [
                "df"
            ]
        },
        {
            "attachments": {},
            "cell_type": "markdown",
            "metadata": {},
            "source": [
                "We can now construct an interactive plot from this data:"
            ]
        },
        {
            "cell_type": "code",
            "execution_count": 52,
            "metadata": {},
            "outputs": [
                {
                    "data": {
                        "application/vnd.plotly.v1+json": {
                            "config": {
                                "plotlyServerURL": "https://plot.ly"
                            },
                            "data": [
                                {
                                    "mode": "lines+markers",
                                    "name": "KX",
                                    "type": "scatter",
                                    "x": [
                                        2e-16,
                                        0.025000000000000102,
                                        0.0500000000000001,
                                        0.07500000000000011,
                                        0.1000000000000001,
                                        0.1250000000000001,
                                        0.15000000000000013,
                                        0.17500000000000013,
                                        0.20000000000000012,
                                        0.22500000000000012,
                                        0.2500000000000001,
                                        0.27500000000000013,
                                        0.30000000000000016,
                                        0.3250000000000001,
                                        0.35000000000000014,
                                        0.3750000000000001,
                                        0.40000000000000013,
                                        0.42500000000000016,
                                        0.45000000000000007,
                                        0.4750000000000001,
                                        0.5000000000000001
                                    ],
                                    "y": [
                                        0.0942891907599077,
                                        0.08642480979191905,
                                        0.0785411975591026,
                                        0.07094295048829433,
                                        0.06393117952622078,
                                        0.05762042953233461,
                                        0.05195575187475899,
                                        0.046822291995077245,
                                        0.04210952081597851,
                                        0.037728846015855286,
                                        0.033613021514147946,
                                        0.029711487025104566,
                                        0.02598593400652614,
                                        0.02240692646390264,
                                        0.01895148425573399,
                                        0.015601382043144856,
                                        0.012341948627615562,
                                        0.009161210528088796,
                                        0.006049272719052523,
                                        0.0029978642532490197,
                                        1e-16
                                    ]
                                },
                                {
                                    "mode": "lines+markers",
                                    "name": "CaX<sub>2</sub>",
                                    "type": "scatter",
                                    "x": [
                                        2e-16,
                                        0.025000000000000102,
                                        0.0500000000000001,
                                        0.07500000000000011,
                                        0.1000000000000001,
                                        0.1250000000000001,
                                        0.15000000000000013,
                                        0.17500000000000013,
                                        0.20000000000000012,
                                        0.22500000000000012,
                                        0.2500000000000001,
                                        0.27500000000000013,
                                        0.30000000000000016,
                                        0.3250000000000001,
                                        0.35000000000000014,
                                        0.3750000000000001,
                                        0.40000000000000013,
                                        0.42500000000000016,
                                        0.45000000000000007,
                                        0.4750000000000001,
                                        0.5000000000000001
                                    ],
                                    "y": [
                                        1e-16,
                                        0.02418941453853374,
                                        0.046569602695023485,
                                        0.06589344913196482,
                                        0.08154267014777286,
                                        0.09384834288490612,
                                        0.10358003185252734,
                                        0.11145795156787815,
                                        0.11801216031977817,
                                        0.12360557408032681,
                                        0.12848448478673546,
                                        0.13281857625413962,
                                        0.13672747645905942,
                                        0.14029761796814622,
                                        0.14359293485361174,
                                        0.14666175168083342,
                                        0.149541313579004,
                                        0.15226083228439266,
                                        0.15484357962734915,
                                        0.15730835662697343,
                                        0.15967054390830931
                                    ]
                                },
                                {
                                    "mode": "lines+markers",
                                    "name": "NaX",
                                    "type": "scatter",
                                    "x": [
                                        2e-16,
                                        0.025000000000000102,
                                        0.0500000000000001,
                                        0.07500000000000011,
                                        0.1000000000000001,
                                        0.1250000000000001,
                                        0.15000000000000013,
                                        0.17500000000000013,
                                        0.20000000000000012,
                                        0.22500000000000012,
                                        0.2500000000000001,
                                        0.27500000000000013,
                                        0.30000000000000016,
                                        0.3250000000000001,
                                        0.35000000000000014,
                                        0.3750000000000001,
                                        0.40000000000000013,
                                        0.42500000000000016,
                                        0.45000000000000007,
                                        0.4750000000000001,
                                        0.5000000000000001
                                    ],
                                    "y": [
                                        0.30571080924009264,
                                        0.2651963611310138,
                                        0.2283195970508508,
                                        0.19727015124777642,
                                        0.1729834801782339,
                                        0.1546828846978535,
                                        0.1408841844201867,
                                        0.1302618048691668,
                                        0.1218661585444655,
                                        0.11506000582349146,
                                        0.10941800891238147,
                                        0.10465136046661655,
                                        0.10055911307535541,
                                        0.0969978375998053,
                                        0.0938626460370429,
                                        0.0910751145951886,
                                        0.0885754242143768,
                                        0.0863171249031262,
                                        0.08426356802624949,
                                        0.08238542249280445,
                                        0.0806589121833816
                                    ]
                                }
                            ],
                            "layout": {
                                "height": 800,
                                "template": {
                                    "data": {
                                        "scatter": [
                                            {
                                                "line": {
                                                    "width": 4
                                                },
                                                "marker": {
                                                    "size": 10,
                                                    "symbol": "circle"
                                                },
                                                "type": "scatter"
                                            }
                                        ]
                                    },
                                    "layout": {
                                        "colorway": [
                                            "#4C78A8",
                                            "#F58518",
                                            "#E45756",
                                            "#72B7B2",
                                            "#54A24B",
                                            "#EECA3B",
                                            "#B279A2",
                                            "#FF9DA6",
                                            "#9D755D",
                                            "#BAB0AC"
                                        ],
                                        "font": {
                                            "color": "#2e2e2e",
                                            "family": "Arial",
                                            "size": 16
                                        },
                                        "legend": {
                                            "title": {
                                                "text": ""
                                            }
                                        },
                                        "margin": {
                                            "b": 100,
                                            "l": 100,
                                            "pad": 5,
                                            "r": 100,
                                            "t": 100
                                        },
                                        "paper_bgcolor": "#f7f7f7",
                                        "plot_bgcolor": "#f7f7f7",
                                        "title": {
                                            "font": {
                                                "color": "#636363",
                                                "size": 24
                                            },
                                            "x": 0,
                                            "xref": "paper",
                                            "yanchor": "middle",
                                            "yref": "paper"
                                        },
                                        "xaxis": {
                                            "title": {
                                                "font": {
                                                    "size": 20
                                                }
                                            },
                                            "zerolinecolor": "#2e2e2e",
                                            "zerolinewidth": 0
                                        },
                                        "yaxis": {
                                            "title": {
                                                "font": {
                                                    "size": 20
                                                }
                                            },
                                            "zerolinecolor": "#2e2e2e",
                                            "zerolinewidth": 0
                                        }
                                    }
                                },
                                "title": {
                                    "text": "AMOUNTS OF EXCHANGE SPECIES KX, CaX<sub>2</sub>, NaX"
                                },
                                "xaxis": {
                                    "title": {
                                        "text": "Ca<sup>2+</sup> [molal]"
                                    }
                                },
                                "yaxis": {
                                    "title": {
                                        "text": "Amount [mol]"
                                    }
                                }
                            }
                        },
                        "text/html": [
                            "<div>                            <div id=\"6dd834c4-9f77-4b6c-b405-fbe0045bb19e\" class=\"plotly-graph-div\" style=\"height:800px; width:100%;\"></div>            <script type=\"text/javascript\">                require([\"plotly\"], function(Plotly) {                    window.PLOTLYENV=window.PLOTLYENV || {};                                    if (document.getElementById(\"6dd834c4-9f77-4b6c-b405-fbe0045bb19e\")) {                    Plotly.newPlot(                        \"6dd834c4-9f77-4b6c-b405-fbe0045bb19e\",                        [{\"mode\":\"lines+markers\",\"name\":\"KX\",\"x\":[2e-16,0.025000000000000102,0.0500000000000001,0.07500000000000011,0.1000000000000001,0.1250000000000001,0.15000000000000013,0.17500000000000013,0.20000000000000012,0.22500000000000012,0.2500000000000001,0.27500000000000013,0.30000000000000016,0.3250000000000001,0.35000000000000014,0.3750000000000001,0.40000000000000013,0.42500000000000016,0.45000000000000007,0.4750000000000001,0.5000000000000001],\"y\":[0.0942891907599077,0.08642480979191905,0.0785411975591026,0.07094295048829433,0.06393117952622078,0.05762042953233461,0.05195575187475899,0.046822291995077245,0.04210952081597851,0.037728846015855286,0.033613021514147946,0.029711487025104566,0.02598593400652614,0.02240692646390264,0.01895148425573399,0.015601382043144856,0.012341948627615562,0.009161210528088796,0.006049272719052523,0.0029978642532490197,1e-16],\"type\":\"scatter\"},{\"mode\":\"lines+markers\",\"name\":\"CaX<sub>2</sub>\",\"x\":[2e-16,0.025000000000000102,0.0500000000000001,0.07500000000000011,0.1000000000000001,0.1250000000000001,0.15000000000000013,0.17500000000000013,0.20000000000000012,0.22500000000000012,0.2500000000000001,0.27500000000000013,0.30000000000000016,0.3250000000000001,0.35000000000000014,0.3750000000000001,0.40000000000000013,0.42500000000000016,0.45000000000000007,0.4750000000000001,0.5000000000000001],\"y\":[1e-16,0.02418941453853374,0.046569602695023485,0.06589344913196482,0.08154267014777286,0.09384834288490612,0.10358003185252734,0.11145795156787815,0.11801216031977817,0.12360557408032681,0.12848448478673546,0.13281857625413962,0.13672747645905942,0.14029761796814622,0.14359293485361174,0.14666175168083342,0.149541313579004,0.15226083228439266,0.15484357962734915,0.15730835662697343,0.15967054390830931],\"type\":\"scatter\"},{\"mode\":\"lines+markers\",\"name\":\"NaX\",\"x\":[2e-16,0.025000000000000102,0.0500000000000001,0.07500000000000011,0.1000000000000001,0.1250000000000001,0.15000000000000013,0.17500000000000013,0.20000000000000012,0.22500000000000012,0.2500000000000001,0.27500000000000013,0.30000000000000016,0.3250000000000001,0.35000000000000014,0.3750000000000001,0.40000000000000013,0.42500000000000016,0.45000000000000007,0.4750000000000001,0.5000000000000001],\"y\":[0.30571080924009264,0.2651963611310138,0.2283195970508508,0.19727015124777642,0.1729834801782339,0.1546828846978535,0.1408841844201867,0.1302618048691668,0.1218661585444655,0.11506000582349146,0.10941800891238147,0.10465136046661655,0.10055911307535541,0.0969978375998053,0.0938626460370429,0.0910751145951886,0.0885754242143768,0.0863171249031262,0.08426356802624949,0.08238542249280445,0.0806589121833816],\"type\":\"scatter\"}],                        {\"template\":{\"data\":{\"scatter\":[{\"line\":{\"width\":4},\"marker\":{\"size\":10,\"symbol\":\"circle\"},\"type\":\"scatter\"}]},\"layout\":{\"colorway\":[\"#4C78A8\",\"#F58518\",\"#E45756\",\"#72B7B2\",\"#54A24B\",\"#EECA3B\",\"#B279A2\",\"#FF9DA6\",\"#9D755D\",\"#BAB0AC\"],\"font\":{\"color\":\"#2e2e2e\",\"family\":\"Arial\",\"size\":16},\"legend\":{\"title\":{\"text\":\"\"}},\"margin\":{\"b\":100,\"l\":100,\"pad\":5,\"r\":100,\"t\":100},\"paper_bgcolor\":\"#f7f7f7\",\"plot_bgcolor\":\"#f7f7f7\",\"title\":{\"font\":{\"color\":\"#636363\",\"size\":24},\"x\":0.0,\"xref\":\"paper\",\"yanchor\":\"middle\",\"yref\":\"paper\"},\"xaxis\":{\"title\":{\"font\":{\"size\":20}},\"zerolinecolor\":\"#2e2e2e\",\"zerolinewidth\":0},\"yaxis\":{\"title\":{\"font\":{\"size\":20}},\"zerolinecolor\":\"#2e2e2e\",\"zerolinewidth\":0}}},\"title\":{\"text\":\"AMOUNTS OF EXCHANGE SPECIES KX, CaX<sub>2</sub>, NaX\"},\"height\":800,\"xaxis\":{\"title\":{\"text\":\"Ca<sup>2+</sup> [molal]\"}},\"yaxis\":{\"title\":{\"text\":\"Amount [mol]\"}}},                        {\"responsive\": true}                    ).then(function(){\n",
                            "                            \n",
                            "var gd = document.getElementById('6dd834c4-9f77-4b6c-b405-fbe0045bb19e');\n",
                            "var x = new MutationObserver(function (mutations, observer) {{\n",
                            "        var display = window.getComputedStyle(gd).display;\n",
                            "        if (!display || display === 'none') {{\n",
                            "            console.log([gd, 'removed!']);\n",
                            "            Plotly.purge(gd);\n",
                            "            observer.disconnect();\n",
                            "        }}\n",
                            "}});\n",
                            "\n",
                            "// Listen for the removal of the full notebook cells\n",
                            "var notebookContainer = gd.closest('#notebook-container');\n",
                            "if (notebookContainer) {{\n",
                            "    x.observe(notebookContainer, {childList: true});\n",
                            "}}\n",
                            "\n",
                            "// Listen for the clearing of the current output cell\n",
                            "var outputEl = gd.closest('.output');\n",
                            "if (outputEl) {{\n",
                            "    x.observe(outputEl, {childList: true});\n",
                            "}}\n",
                            "\n",
                            "                        })                };                });            </script>        </div>"
                        ]
                    },
                    "metadata": {},
                    "output_type": "display_data"
                }
            ],
            "source": [
                "from reaktplot import *\n",
                "\n",
                "fig = Figure()\n",
                "fig.title(\"AMOUNTS OF EXCHANGE SPECIES KX, CaX<sub>2</sub>, NaX\")\n",
                "fig.xaxisTitle('Ca<sup>2+</sup> [molal]')\n",
                "fig.yaxisTitle('Amount [mol]')\n",
                "\n",
                "fig.drawLineWithMarkers(df[\"amount_Ca\"], df[\"amount_KX\"], name=\"KX\")\n",
                "fig.drawLineWithMarkers(df[\"amount_Ca\"], df[\"amount_CaX2\"], name=\"CaX<sub>2</sub>\")\n",
                "fig.drawLineWithMarkers(df[\"amount_Ca\"], df[\"amount_NaX\"], name=\"NaX\")\n",
                "\n",
                "fig.show()"
            ]
        },
        {
            "attachments": {},
            "cell_type": "markdown",
            "metadata": {
                "tags": [
                    "hide-cell"
                ]
            },
            "source": [
                "This figure shows that as the concentration of Ca<sup>2+</sup> increases from 0.0 to 0.5 molal, while the concentration of K<sup>+</sup> decreases from 0.1 to 0.0 molal, there is a tendency for the cations Na<sup>+</sup> and K<sup>+</sup> to unbind from their respective NaX and KX exchange phases. In the process, the cations Ca<sup>2+</sup> tend to bind to the available ion exchange species X<sup>-</sup>, with the exchange phase CaX{{_2}} becoming predominant among the others.\n",
                "\n",
                "The next figure shows how the concentrations of Na<sup>+</sup>, K<sup>+</sup> and Ca<sup>2+</sup> behave in the process."
            ]
        },
        {
            "cell_type": "code",
            "execution_count": 53,
            "metadata": {},
            "outputs": [
                {
                    "data": {
                        "application/vnd.plotly.v1+json": {
                            "config": {
                                "plotlyServerURL": "https://plot.ly"
                            },
                            "data": [
                                {
                                    "mode": "lines+markers",
                                    "name": "K<sup>+</sup>",
                                    "type": "scatter",
                                    "x": [
                                        2e-16,
                                        0.025000000000000102,
                                        0.0500000000000001,
                                        0.07500000000000011,
                                        0.1000000000000001,
                                        0.1250000000000001,
                                        0.15000000000000013,
                                        0.17500000000000013,
                                        0.20000000000000012,
                                        0.22500000000000012,
                                        0.2500000000000001,
                                        0.27500000000000013,
                                        0.30000000000000016,
                                        0.3250000000000001,
                                        0.35000000000000014,
                                        0.3750000000000001,
                                        0.40000000000000013,
                                        0.42500000000000016,
                                        0.45000000000000007,
                                        0.4750000000000001,
                                        0.5000000000000001
                                    ],
                                    "y": [
                                        0.005710809240092396,
                                        0.008575190208081049,
                                        0.011458802440897507,
                                        0.014057049511705772,
                                        0.01606882047377932,
                                        0.017379570467665504,
                                        0.01804424812524111,
                                        0.018177708004922858,
                                        0.01789047918402159,
                                        0.01727115398414482,
                                        0.016386978485852154,
                                        0.015288512974895536,
                                        0.014014065993473964,
                                        0.012593073536097461,
                                        0.011048515744266109,
                                        0.009398617956855253,
                                        0.007658051372384542,
                                        0.005838789471911304,
                                        0.003950727280947587,
                                        0.0020021357467510845,
                                        1e-16
                                    ]
                                },
                                {
                                    "mode": "lines+markers",
                                    "name": "Ca<sup>2+</sup>",
                                    "type": "scatter",
                                    "x": [
                                        2e-16,
                                        0.025000000000000102,
                                        0.0500000000000001,
                                        0.07500000000000011,
                                        0.1000000000000001,
                                        0.1250000000000001,
                                        0.15000000000000013,
                                        0.17500000000000013,
                                        0.20000000000000012,
                                        0.22500000000000012,
                                        0.2500000000000001,
                                        0.27500000000000013,
                                        0.30000000000000016,
                                        0.3250000000000001,
                                        0.35000000000000014,
                                        0.3750000000000001,
                                        0.40000000000000013,
                                        0.42500000000000016,
                                        0.45000000000000007,
                                        0.4750000000000001,
                                        0.5000000000000001
                                    ],
                                    "y": [
                                        1e-16,
                                        0.0008105854614663591,
                                        0.0034303973049766155,
                                        0.009106550868035291,
                                        0.01845732985222724,
                                        0.03115165711509399,
                                        0.0464199681474728,
                                        0.06354204843212198,
                                        0.08198783968022196,
                                        0.1013944259196733,
                                        0.12151551521326465,
                                        0.1421814237458605,
                                        0.16327252354094074,
                                        0.1847023820318539,
                                        0.2064070651463884,
                                        0.2283382483191667,
                                        0.25045868642099617,
                                        0.27273916771560747,
                                        0.29515642037265094,
                                        0.3176916433730267,
                                        0.3403294560916908
                                    ]
                                },
                                {
                                    "mode": "lines+markers",
                                    "name": "Na<sup>+</sup>",
                                    "type": "scatter",
                                    "x": [
                                        2e-16,
                                        0.025000000000000102,
                                        0.0500000000000001,
                                        0.07500000000000011,
                                        0.1000000000000001,
                                        0.1250000000000001,
                                        0.15000000000000013,
                                        0.17500000000000013,
                                        0.20000000000000012,
                                        0.22500000000000012,
                                        0.2500000000000001,
                                        0.27500000000000013,
                                        0.30000000000000016,
                                        0.3250000000000001,
                                        0.35000000000000014,
                                        0.3750000000000001,
                                        0.40000000000000013,
                                        0.42500000000000016,
                                        0.45000000000000007,
                                        0.4750000000000001,
                                        0.5000000000000001
                                    ],
                                    "y": [
                                        0.09428919075990748,
                                        0.1348036388689863,
                                        0.17168040294914935,
                                        0.20272984875222375,
                                        0.22701651982176627,
                                        0.24531711530214664,
                                        0.25911581557981345,
                                        0.2697381951308333,
                                        0.27813384145553466,
                                        0.28493999417650867,
                                        0.2905819910876187,
                                        0.2953486395333836,
                                        0.2994408869246447,
                                        0.30300216240019484,
                                        0.3061373539629572,
                                        0.3089248854048115,
                                        0.3114245757856233,
                                        0.3136828750968739,
                                        0.3157364319737506,
                                        0.3176145775071957,
                                        0.3193410878166185
                                    ]
                                }
                            ],
                            "layout": {
                                "height": 800,
                                "template": {
                                    "data": {
                                        "scatter": [
                                            {
                                                "line": {
                                                    "width": 4
                                                },
                                                "marker": {
                                                    "size": 10,
                                                    "symbol": "circle"
                                                },
                                                "type": "scatter"
                                            }
                                        ]
                                    },
                                    "layout": {
                                        "colorway": [
                                            "#4C78A8",
                                            "#F58518",
                                            "#E45756",
                                            "#72B7B2",
                                            "#54A24B",
                                            "#EECA3B",
                                            "#B279A2",
                                            "#FF9DA6",
                                            "#9D755D",
                                            "#BAB0AC"
                                        ],
                                        "font": {
                                            "color": "#2e2e2e",
                                            "family": "Arial",
                                            "size": 16
                                        },
                                        "legend": {
                                            "title": {
                                                "text": ""
                                            }
                                        },
                                        "margin": {
                                            "b": 100,
                                            "l": 100,
                                            "pad": 5,
                                            "r": 100,
                                            "t": 100
                                        },
                                        "paper_bgcolor": "#f7f7f7",
                                        "plot_bgcolor": "#f7f7f7",
                                        "title": {
                                            "font": {
                                                "color": "#636363",
                                                "size": 24
                                            },
                                            "x": 0,
                                            "xref": "paper",
                                            "yanchor": "middle",
                                            "yref": "paper"
                                        },
                                        "xaxis": {
                                            "title": {
                                                "font": {
                                                    "size": 20
                                                }
                                            },
                                            "zerolinecolor": "#2e2e2e",
                                            "zerolinewidth": 0
                                        },
                                        "yaxis": {
                                            "title": {
                                                "font": {
                                                    "size": 20
                                                }
                                            },
                                            "zerolinecolor": "#2e2e2e",
                                            "zerolinewidth": 0
                                        }
                                    }
                                },
                                "title": {
                                    "text": "CONCENTRATIONS OF IONS K<sup>+</sup>, Ca<sup>2+</sup>, Na<sup>+</sup>"
                                },
                                "xaxis": {
                                    "title": {
                                        "text": "Ca<sup>2+</sup> [molal]"
                                    }
                                },
                                "yaxis": {
                                    "title": {
                                        "text": "Concentration [molal]"
                                    }
                                }
                            }
                        },
                        "text/html": [
                            "<div>                            <div id=\"4af61259-bec1-4b72-a75c-83d0e217d194\" class=\"plotly-graph-div\" style=\"height:800px; width:100%;\"></div>            <script type=\"text/javascript\">                require([\"plotly\"], function(Plotly) {                    window.PLOTLYENV=window.PLOTLYENV || {};                                    if (document.getElementById(\"4af61259-bec1-4b72-a75c-83d0e217d194\")) {                    Plotly.newPlot(                        \"4af61259-bec1-4b72-a75c-83d0e217d194\",                        [{\"mode\":\"lines+markers\",\"name\":\"K<sup>+</sup>\",\"x\":[2e-16,0.025000000000000102,0.0500000000000001,0.07500000000000011,0.1000000000000001,0.1250000000000001,0.15000000000000013,0.17500000000000013,0.20000000000000012,0.22500000000000012,0.2500000000000001,0.27500000000000013,0.30000000000000016,0.3250000000000001,0.35000000000000014,0.3750000000000001,0.40000000000000013,0.42500000000000016,0.45000000000000007,0.4750000000000001,0.5000000000000001],\"y\":[0.005710809240092396,0.008575190208081049,0.011458802440897507,0.014057049511705772,0.01606882047377932,0.017379570467665504,0.01804424812524111,0.018177708004922858,0.01789047918402159,0.01727115398414482,0.016386978485852154,0.015288512974895536,0.014014065993473964,0.012593073536097461,0.011048515744266109,0.009398617956855253,0.007658051372384542,0.005838789471911304,0.003950727280947587,0.0020021357467510845,1e-16],\"type\":\"scatter\"},{\"mode\":\"lines+markers\",\"name\":\"Ca<sup>2+</sup>\",\"x\":[2e-16,0.025000000000000102,0.0500000000000001,0.07500000000000011,0.1000000000000001,0.1250000000000001,0.15000000000000013,0.17500000000000013,0.20000000000000012,0.22500000000000012,0.2500000000000001,0.27500000000000013,0.30000000000000016,0.3250000000000001,0.35000000000000014,0.3750000000000001,0.40000000000000013,0.42500000000000016,0.45000000000000007,0.4750000000000001,0.5000000000000001],\"y\":[1e-16,0.0008105854614663591,0.0034303973049766155,0.009106550868035291,0.01845732985222724,0.03115165711509399,0.0464199681474728,0.06354204843212198,0.08198783968022196,0.1013944259196733,0.12151551521326465,0.1421814237458605,0.16327252354094074,0.1847023820318539,0.2064070651463884,0.2283382483191667,0.25045868642099617,0.27273916771560747,0.29515642037265094,0.3176916433730267,0.3403294560916908],\"type\":\"scatter\"},{\"mode\":\"lines+markers\",\"name\":\"Na<sup>+</sup>\",\"x\":[2e-16,0.025000000000000102,0.0500000000000001,0.07500000000000011,0.1000000000000001,0.1250000000000001,0.15000000000000013,0.17500000000000013,0.20000000000000012,0.22500000000000012,0.2500000000000001,0.27500000000000013,0.30000000000000016,0.3250000000000001,0.35000000000000014,0.3750000000000001,0.40000000000000013,0.42500000000000016,0.45000000000000007,0.4750000000000001,0.5000000000000001],\"y\":[0.09428919075990748,0.1348036388689863,0.17168040294914935,0.20272984875222375,0.22701651982176627,0.24531711530214664,0.25911581557981345,0.2697381951308333,0.27813384145553466,0.28493999417650867,0.2905819910876187,0.2953486395333836,0.2994408869246447,0.30300216240019484,0.3061373539629572,0.3089248854048115,0.3114245757856233,0.3136828750968739,0.3157364319737506,0.3176145775071957,0.3193410878166185],\"type\":\"scatter\"}],                        {\"template\":{\"data\":{\"scatter\":[{\"line\":{\"width\":4},\"marker\":{\"size\":10,\"symbol\":\"circle\"},\"type\":\"scatter\"}]},\"layout\":{\"colorway\":[\"#4C78A8\",\"#F58518\",\"#E45756\",\"#72B7B2\",\"#54A24B\",\"#EECA3B\",\"#B279A2\",\"#FF9DA6\",\"#9D755D\",\"#BAB0AC\"],\"font\":{\"color\":\"#2e2e2e\",\"family\":\"Arial\",\"size\":16},\"legend\":{\"title\":{\"text\":\"\"}},\"margin\":{\"b\":100,\"l\":100,\"pad\":5,\"r\":100,\"t\":100},\"paper_bgcolor\":\"#f7f7f7\",\"plot_bgcolor\":\"#f7f7f7\",\"title\":{\"font\":{\"color\":\"#636363\",\"size\":24},\"x\":0.0,\"xref\":\"paper\",\"yanchor\":\"middle\",\"yref\":\"paper\"},\"xaxis\":{\"title\":{\"font\":{\"size\":20}},\"zerolinecolor\":\"#2e2e2e\",\"zerolinewidth\":0},\"yaxis\":{\"title\":{\"font\":{\"size\":20}},\"zerolinecolor\":\"#2e2e2e\",\"zerolinewidth\":0}}},\"title\":{\"text\":\"CONCENTRATIONS OF IONS K<sup>+</sup>, Ca<sup>2+</sup>, Na<sup>+</sup>\"},\"height\":800,\"xaxis\":{\"title\":{\"text\":\"Ca<sup>2+</sup> [molal]\"}},\"yaxis\":{\"title\":{\"text\":\"Concentration [molal]\"}}},                        {\"responsive\": true}                    ).then(function(){\n",
                            "                            \n",
                            "var gd = document.getElementById('4af61259-bec1-4b72-a75c-83d0e217d194');\n",
                            "var x = new MutationObserver(function (mutations, observer) {{\n",
                            "        var display = window.getComputedStyle(gd).display;\n",
                            "        if (!display || display === 'none') {{\n",
                            "            console.log([gd, 'removed!']);\n",
                            "            Plotly.purge(gd);\n",
                            "            observer.disconnect();\n",
                            "        }}\n",
                            "}});\n",
                            "\n",
                            "// Listen for the removal of the full notebook cells\n",
                            "var notebookContainer = gd.closest('#notebook-container');\n",
                            "if (notebookContainer) {{\n",
                            "    x.observe(notebookContainer, {childList: true});\n",
                            "}}\n",
                            "\n",
                            "// Listen for the clearing of the current output cell\n",
                            "var outputEl = gd.closest('.output');\n",
                            "if (outputEl) {{\n",
                            "    x.observe(outputEl, {childList: true});\n",
                            "}}\n",
                            "\n",
                            "                        })                };                });            </script>        </div>"
                        ]
                    },
                    "metadata": {},
                    "output_type": "display_data"
                }
            ],
            "source": [
                "fig = Figure()\n",
                "fig.title(\"CONCENTRATIONS OF IONS K<sup>+</sup>, Ca<sup>2+</sup>, Na<sup>+</sup>\")\n",
                "fig.xaxisTitle('Ca<sup>2+</sup> [molal]')\n",
                "fig.yaxisTitle('Concentration [molal]')\n",
                "\n",
                "fig.drawLineWithMarkers(df[\"amount_Ca\"], df[\"amount_K_ion\"], name=\"K<sup>+</sup>\")\n",
                "fig.drawLineWithMarkers(df[\"amount_Ca\"], df[\"amount_Ca_ion\"], name=\"Ca<sup>2+</sup>\")\n",
                "fig.drawLineWithMarkers(df[\"amount_Ca\"], df[\"amount_Na_ion\"], name=\"Na<sup>+</sup>\")\n",
                "\n",
                "fig.show()"
            ]
        },
        {
            "attachments": {},
            "cell_type": "markdown",
            "metadata": {},
            "source": [
                "Finally, we present how the pH of the solution changes in the process, whose changes are not significant."
            ]
        },
        {
            "cell_type": "code",
            "execution_count": 54,
            "metadata": {},
            "outputs": [
                {
                    "data": {
                        "application/vnd.plotly.v1+json": {
                            "config": {
                                "plotlyServerURL": "https://plot.ly"
                            },
                            "data": [
                                {
                                    "mode": "lines+markers",
                                    "name": "",
                                    "type": "scatter",
                                    "x": [
                                        2e-16,
                                        0.025000000000000102,
                                        0.0500000000000001,
                                        0.07500000000000011,
                                        0.1000000000000001,
                                        0.1250000000000001,
                                        0.15000000000000013,
                                        0.17500000000000013,
                                        0.20000000000000012,
                                        0.22500000000000012,
                                        0.2500000000000001,
                                        0.27500000000000013,
                                        0.30000000000000016,
                                        0.3250000000000001,
                                        0.35000000000000014,
                                        0.3750000000000001,
                                        0.40000000000000013,
                                        0.42500000000000016,
                                        0.45000000000000007,
                                        0.4750000000000001,
                                        0.5000000000000001
                                    ],
                                    "y": [
                                        6.996736738179069,
                                        6.996944617693211,
                                        6.997321026258027,
                                        6.997866226948209,
                                        6.998597062355108,
                                        6.999518563938173,
                                        7.000617959492438,
                                        7.001873816997958,
                                        7.0032639498491935,
                                        7.00476868062959,
                                        7.006371522104882,
                                        7.008058911259963,
                                        7.009819722579127,
                                        7.011644788275413,
                                        7.0135264990785275,
                                        7.015458486812465,
                                        7.017435376966072,
                                        7.0194525965863965,
                                        7.021506224705334,
                                        7.0235928751705305,
                                        7.025709604180525
                                    ]
                                }
                            ],
                            "layout": {
                                "template": {
                                    "data": {
                                        "scatter": [
                                            {
                                                "line": {
                                                    "width": 4
                                                },
                                                "marker": {
                                                    "size": 10,
                                                    "symbol": "circle"
                                                },
                                                "type": "scatter"
                                            }
                                        ]
                                    },
                                    "layout": {
                                        "colorway": [
                                            "#4C78A8",
                                            "#F58518",
                                            "#E45756",
                                            "#72B7B2",
                                            "#54A24B",
                                            "#EECA3B",
                                            "#B279A2",
                                            "#FF9DA6",
                                            "#9D755D",
                                            "#BAB0AC"
                                        ],
                                        "font": {
                                            "color": "#2e2e2e",
                                            "family": "Arial",
                                            "size": 16
                                        },
                                        "legend": {
                                            "title": {
                                                "text": ""
                                            }
                                        },
                                        "margin": {
                                            "b": 100,
                                            "l": 100,
                                            "pad": 5,
                                            "r": 100,
                                            "t": 100
                                        },
                                        "paper_bgcolor": "#f7f7f7",
                                        "plot_bgcolor": "#f7f7f7",
                                        "title": {
                                            "font": {
                                                "color": "#636363",
                                                "size": 24
                                            },
                                            "x": 0,
                                            "xref": "paper",
                                            "yanchor": "middle",
                                            "yref": "paper"
                                        },
                                        "xaxis": {
                                            "title": {
                                                "font": {
                                                    "size": 20
                                                }
                                            },
                                            "zerolinecolor": "#2e2e2e",
                                            "zerolinewidth": 0
                                        },
                                        "yaxis": {
                                            "title": {
                                                "font": {
                                                    "size": 20
                                                }
                                            },
                                            "zerolinecolor": "#2e2e2e",
                                            "zerolinewidth": 0
                                        }
                                    }
                                },
                                "title": {
                                    "text": "AQUEOUS SOLUTION pH"
                                },
                                "xaxis": {
                                    "title": {
                                        "text": "Ca<sup>2+</sup> [molal]"
                                    }
                                },
                                "yaxis": {
                                    "title": {
                                        "text": "pH"
                                    }
                                }
                            }
                        },
                        "text/html": [
                            "<div>                            <div id=\"e333332d-0745-4de3-aa07-991f5c1d68d4\" class=\"plotly-graph-div\" style=\"height:525px; width:100%;\"></div>            <script type=\"text/javascript\">                require([\"plotly\"], function(Plotly) {                    window.PLOTLYENV=window.PLOTLYENV || {};                                    if (document.getElementById(\"e333332d-0745-4de3-aa07-991f5c1d68d4\")) {                    Plotly.newPlot(                        \"e333332d-0745-4de3-aa07-991f5c1d68d4\",                        [{\"mode\":\"lines+markers\",\"name\":\"\",\"x\":[2e-16,0.025000000000000102,0.0500000000000001,0.07500000000000011,0.1000000000000001,0.1250000000000001,0.15000000000000013,0.17500000000000013,0.20000000000000012,0.22500000000000012,0.2500000000000001,0.27500000000000013,0.30000000000000016,0.3250000000000001,0.35000000000000014,0.3750000000000001,0.40000000000000013,0.42500000000000016,0.45000000000000007,0.4750000000000001,0.5000000000000001],\"y\":[6.996736738179069,6.996944617693211,6.997321026258027,6.997866226948209,6.998597062355108,6.999518563938173,7.000617959492438,7.001873816997958,7.0032639498491935,7.00476868062959,7.006371522104882,7.008058911259963,7.009819722579127,7.011644788275413,7.0135264990785275,7.015458486812465,7.017435376966072,7.0194525965863965,7.021506224705334,7.0235928751705305,7.025709604180525],\"type\":\"scatter\"}],                        {\"template\":{\"data\":{\"scatter\":[{\"line\":{\"width\":4},\"marker\":{\"size\":10,\"symbol\":\"circle\"},\"type\":\"scatter\"}]},\"layout\":{\"colorway\":[\"#4C78A8\",\"#F58518\",\"#E45756\",\"#72B7B2\",\"#54A24B\",\"#EECA3B\",\"#B279A2\",\"#FF9DA6\",\"#9D755D\",\"#BAB0AC\"],\"font\":{\"color\":\"#2e2e2e\",\"family\":\"Arial\",\"size\":16},\"legend\":{\"title\":{\"text\":\"\"}},\"margin\":{\"b\":100,\"l\":100,\"pad\":5,\"r\":100,\"t\":100},\"paper_bgcolor\":\"#f7f7f7\",\"plot_bgcolor\":\"#f7f7f7\",\"title\":{\"font\":{\"color\":\"#636363\",\"size\":24},\"x\":0.0,\"xref\":\"paper\",\"yanchor\":\"middle\",\"yref\":\"paper\"},\"xaxis\":{\"title\":{\"font\":{\"size\":20}},\"zerolinecolor\":\"#2e2e2e\",\"zerolinewidth\":0},\"yaxis\":{\"title\":{\"font\":{\"size\":20}},\"zerolinecolor\":\"#2e2e2e\",\"zerolinewidth\":0}}},\"title\":{\"text\":\"AQUEOUS SOLUTION pH\"},\"xaxis\":{\"title\":{\"text\":\"Ca<sup>2+</sup> [molal]\"}},\"yaxis\":{\"title\":{\"text\":\"pH\"}}},                        {\"responsive\": true}                    ).then(function(){\n",
                            "                            \n",
                            "var gd = document.getElementById('e333332d-0745-4de3-aa07-991f5c1d68d4');\n",
                            "var x = new MutationObserver(function (mutations, observer) {{\n",
                            "        var display = window.getComputedStyle(gd).display;\n",
                            "        if (!display || display === 'none') {{\n",
                            "            console.log([gd, 'removed!']);\n",
                            "            Plotly.purge(gd);\n",
                            "            observer.disconnect();\n",
                            "        }}\n",
                            "}});\n",
                            "\n",
                            "// Listen for the removal of the full notebook cells\n",
                            "var notebookContainer = gd.closest('#notebook-container');\n",
                            "if (notebookContainer) {{\n",
                            "    x.observe(notebookContainer, {childList: true});\n",
                            "}}\n",
                            "\n",
                            "// Listen for the clearing of the current output cell\n",
                            "var outputEl = gd.closest('.output');\n",
                            "if (outputEl) {{\n",
                            "    x.observe(outputEl, {childList: true});\n",
                            "}}\n",
                            "\n",
                            "                        })                };                });            </script>        </div>"
                        ]
                    },
                    "metadata": {},
                    "output_type": "display_data"
                }
            ],
            "source": [
                "fig = Figure()\n",
                "fig.title(\"AQUEOUS SOLUTION pH\")\n",
                "fig.xaxisTitle('Ca<sup>2+</sup> [molal]')\n",
                "fig.yaxisTitle('pH')\n",
                "\n",
                "fig.drawLineWithMarkers(df[\"amount_Ca\"], df[\"pH\"], name=\"\")\n",
                "\n",
                "fig.show()"
            ]
        }
    ],
    "metadata": {
        "kernelspec": {
            "display_name": "reaktoro-jupyter-book",
            "language": "python",
            "name": "python3"
        },
        "language_info": {
            "codemirror_mode": {
                "name": "ipython",
                "version": 3
            },
            "file_extension": ".py",
            "mimetype": "text/x-python",
            "name": "python",
            "nbconvert_exporter": "python",
            "pygments_lexer": "ipython3",
            "version": "3.10.9"
        },
        "vscode": {
            "interpreter": {
                "hash": "e4e8b2f3ae27709963f14fd23a6560d362beea55eaec742263828e04d814e23c"
            }
        }
    },
    "nbformat": 4,
    "nbformat_minor": 4
}
