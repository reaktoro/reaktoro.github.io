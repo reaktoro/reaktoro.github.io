{
 "cells": [
  {
   "attachments": {},
   "cell_type": "markdown",
   "metadata": {},
   "source": [
    "# Chemical equilibrium with fixed phase amount\n",
    "\n",
    "<p class=\"acknowledgement\">Written by Allan Leal (ETH Zurich) on Jan 7th, 2022</p>\n",
    "\n",
    "```{attention}\n",
    "Always make sure you are using the [latest version of Reaktoro](https://anaconda.org/conda-forge/reaktoro). Otherwise, some new features documented on this website will not work on your machine and you may receive unintuitive errors. Follow these [update instructions](updating_reaktoro_via_conda) to get the latest version of Reaktoro!\n",
    "```\n",
    "\n",
    "Consider an aqueous solution at 60 °C obtained by mixing 1 kg of H{{_2}}O, 1 mol of NaCl and 1 mol of CO{{_2}}. What must the pressure of this aqueous solution be so that it is saturated with CO{{_2}}? In other words, what is the pressure that causes a bubble of CO{{_2}} to form (the bubble pressure)?\n",
    "\n",
    "In this tutorial, we formulate a chemical equilibrium problem to calculate the CO{{_2}} bubble/saturation pressure of this aqueous saline solution. In this problem, we consider a chemical system with aqueous and gaseous phases. Our equilibrium problem will consider **a constraint that imposes the amount of the gas phase to be a minuscule value** (to model the limit condition in which a bubble is formed).\n",
    "\n",
    "Let's create our {{ChemicalSystem}} object with these phases:"
   ]
  },
  {
   "cell_type": "code",
   "execution_count": 13,
   "metadata": {},
   "outputs": [],
   "source": [
    "from reaktoro import *\n",
    "\n",
    "db = PhreeqcDatabase(\"pitzer.dat\")\n",
    "\n",
    "solution = AqueousPhase(speciate(\"H O Na Cl C\"))\n",
    "solution.set(ActivityModelPitzer())\n",
    "\n",
    "gases = GaseousPhase(\"CO2(g) H2O(g)\")\n",
    "gases.set(ActivityModelPengRobinsonPhreeqcOriginal())\n",
    "\n",
    "system = ChemicalSystem(db, solution, gases)"
   ]
  },
  {
   "cell_type": "markdown",
   "metadata": {},
   "source": [
    "Next, we create an initial chemical state for this system representing our aqueous solution at 60 °C (with composition 1 molal NaCl and 1 molal CO{{_2}}):"
   ]
  },
  {
   "cell_type": "code",
   "execution_count": 14,
   "metadata": {},
   "outputs": [
    {
     "name": "stdout",
     "output_type": "stream",
     "text": [
      "INITIAL STATE\n",
      "+-----------------+-------------+------+\n",
      "| Property        |       Value | Unit |\n",
      "+-----------------+-------------+------+\n",
      "| Temperature     |    333.1500 |    K |\n",
      "| Pressure        |      1.0000 |  bar |\n",
      "| Charge:         | -1.0000e-16 |  mol |\n",
      "| Element Amount: |             |      |\n",
      "| :: H            |  1.1101e+02 |  mol |\n",
      "| :: C            |  1.0000e+00 |  mol |\n",
      "| :: O            |  5.7506e+01 |  mol |\n",
      "| :: Na           |  1.0000e+00 |  mol |\n",
      "| :: Cl           |  1.0000e+00 |  mol |\n",
      "| Species Amount: |             |      |\n",
      "| :: H+           |  1.0000e-16 |  mol |\n",
      "| :: H2O          |  5.5506e+01 |  mol |\n",
      "| :: CO3-2        |  1.0000e-16 |  mol |\n",
      "| :: CO2          |  1.0000e+00 |  mol |\n",
      "| :: Cl-          |  1.0000e+00 |  mol |\n",
      "| :: HCO3-        |  1.0000e-16 |  mol |\n",
      "| :: Na+          |  1.0000e+00 |  mol |\n",
      "| :: OH-          |  1.0000e-16 |  mol |\n",
      "| :: CO2(g)       |  1.0000e-16 |  mol |\n",
      "| :: H2O(g)       |  1.0000e-16 |  mol |\n",
      "+-----------------+-------------+------+\n"
     ]
    }
   ],
   "source": [
    "state = ChemicalState(system)\n",
    "state.temperature(60.0, \"celsius\")\n",
    "state.set(\"H2O\", 1.0, \"kg\")\n",
    "state.set(\"Na+\", 1.0, \"mol\")\n",
    "state.set(\"Cl-\", 1.0, \"mol\")\n",
    "state.set(\"CO2\", 1.0, \"mol\")\n",
    "\n",
    "print(\"INITIAL STATE\")\n",
    "print(state)"
   ]
  },
  {
   "cell_type": "markdown",
   "metadata": {},
   "source": [
    "We need now to create an {{EquilibriumSolver}} that can solve equilibrium problems with the following constrained properties:\n",
    "\n",
    "* temperature and\n",
    "* amount of gaseous phase.\n",
    "\n",
    "These constraint specifications are provided to the {{EquilibriumSpecs}} object below, which is then used to construct our {{EquilibriumSolver}} object:"
   ]
  },
  {
   "cell_type": "code",
   "execution_count": 15,
   "metadata": {},
   "outputs": [],
   "source": [
    "specs = EquilibriumSpecs(system)\n",
    "specs.temperature()\n",
    "specs.phaseAmount(\"GaseousPhase\")\n",
    "\n",
    "solver = EquilibriumSolver(specs)"
   ]
  },
  {
   "cell_type": "markdown",
   "metadata": {},
   "source": [
    "The next step is to create an object {{EquilibriumConditions}} in which we specify the values of **temperature** and **amount of gas phase** (which should be a small amount). We do this in the next code block, which also defines the lower and upper limits for pressure (to avoid negative and unrealistic large pressure values during the equilibrium calculation!):"
   ]
  },
  {
   "cell_type": "code",
   "execution_count": 16,
   "metadata": {},
   "outputs": [],
   "source": [
    "conditions = EquilibriumConditions(specs)\n",
    "conditions.temperature(60.0, \"celsius\")\n",
    "conditions.phaseAmount(\"GaseousPhase\", 1.0, \"umol\")  # umol = 1e-6 moles\n",
    "conditions.setLowerBoundPressure(1.0, \"bar\")\n",
    "conditions.setUpperBoundPressure(1000.0, \"bar\")"
   ]
  },
  {
   "cell_type": "markdown",
   "metadata": {},
   "source": [
    "We now have everything needed to perform the calculation:"
   ]
  },
  {
   "cell_type": "code",
   "execution_count": 17,
   "metadata": {},
   "outputs": [
    {
     "name": "stdout",
     "output_type": "stream",
     "text": [
      "FINAL STATE\n",
      "+-----------------+-------------+------+\n",
      "| Property        |       Value | Unit |\n",
      "+-----------------+-------------+------+\n",
      "| Temperature     |    333.1500 |    K |\n",
      "| Pressure        |    149.2486 |  bar |\n",
      "| Charge:         | -3.4994e-19 |  mol |\n",
      "| Element Amount: |             |      |\n",
      "| :: H            |  1.1101e+02 |  mol |\n",
      "| :: C            |  1.0000e+00 |  mol |\n",
      "| :: O            |  5.7506e+01 |  mol |\n",
      "| :: Na           |  1.0000e+00 |  mol |\n",
      "| :: Cl           |  1.0000e+00 |  mol |\n",
      "| Species Amount: |             |      |\n",
      "| :: H+           |  1.2655e-03 |  mol |\n",
      "| :: H2O          |  5.5505e+01 |  mol |\n",
      "| :: CO3-2        |  5.2102e-10 |  mol |\n",
      "| :: CO2          |  9.9873e-01 |  mol |\n",
      "| :: Cl-          |  1.0000e+00 |  mol |\n",
      "| :: HCO3-        |  1.2655e-03 |  mol |\n",
      "| :: Na+          |  1.0000e+00 |  mol |\n",
      "| :: OH-          |  1.6776e-10 |  mol |\n",
      "| :: CO2(g)       |  9.9293e-07 |  mol |\n",
      "| :: H2O(g)       |  7.0668e-09 |  mol |\n",
      "+-----------------+-------------+------+\n"
     ]
    }
   ],
   "source": [
    "solver.solve(state, conditions)\n",
    "\n",
    "print(\"FINAL STATE\")\n",
    "print(state)"
   ]
  },
  {
   "cell_type": "markdown",
   "metadata": {},
   "source": [
    "The CO{{_2}} saturation pressure for our aqueous solution is printed next: "
   ]
  },
  {
   "cell_type": "code",
   "execution_count": 18,
   "metadata": {},
   "outputs": [
    {
     "name": "stdout",
     "output_type": "stream",
     "text": [
      "Computed saturation pressure is 149.249 bar\n"
     ]
    }
   ],
   "source": [
    "P = state.pressure() * 1e-5  # convert pressure from Pa to bar\n",
    "print(\"Computed saturation pressure is\", P, \"bar\")"
   ]
  },
  {
   "cell_type": "markdown",
   "metadata": {},
   "source": [
    "And with that, we conclude this tutorial, which demonstrates how Reaktoro can perform chemical equilibrium calculations with given **temperature** and **phase amounts** to calculate the CO{{_2}} saturation/bubble pressure of an aqueous electrolyte solution."
   ]
  }
 ],
 "metadata": {
  "interpreter": {
   "hash": "e4e8b2f3ae27709963f14fd23a6560d362beea55eaec742263828e04d814e23c"
  },
  "kernelspec": {
   "display_name": "Python 3.9.7 64-bit ('reaktoro-jupyter-book': conda)",
   "language": "python",
   "name": "python3"
  },
  "language_info": {
   "codemirror_mode": {
    "name": "ipython",
    "version": 3
   },
   "file_extension": ".py",
   "mimetype": "text/x-python",
   "name": "python",
   "nbconvert_exporter": "python",
   "pygments_lexer": "ipython3",
   "version": "3.11.5"
  },
  "orig_nbformat": 4
 },
 "nbformat": 4,
 "nbformat_minor": 2
}
