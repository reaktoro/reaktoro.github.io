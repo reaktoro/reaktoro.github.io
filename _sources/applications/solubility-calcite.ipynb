{
 "cells": [
  {
   "cell_type": "markdown",
   "metadata": {},
   "source": [
    "# Solubility calculation of calcite in water\n",
    "\n",
    "This tutorial demonstrates how Reaktoro can be used for performing a relatively simple chemical equilibrium calculation involving an aqueous solution and a mineral.\n",
    "\n",
    "We want to compute how much calcite (CaCO<sub>3</sub>) dissolves in pure water at 30 °C and 1 atm.\n",
    "\n",
    "The first step is to import the Python package `reaktoro`:"
   ]
  },
  {
   "cell_type": "code",
   "execution_count": 19,
   "metadata": {},
   "outputs": [],
   "source": [
    "import reaktoro as rkt"
   ]
  },
  {
   "cell_type": "markdown",
   "metadata": {},
   "source": [
    "Note that, for convenience, we create an alias `rkt` for the name `reaktoro`.\n",
    "\n",
    "We now need to load a thermodynamic database from which thermodynamic data for the aqueous and mineral species can be found. For this, we will use the PHREEQC database `phreeqc.dat`:"
   ]
  },
  {
   "cell_type": "code",
   "execution_count": 20,
   "metadata": {},
   "outputs": [],
   "source": [
    "db = rkt.PhreeqcDatabase(\"phreeqc.dat\")"
   ]
  },
  {
   "cell_type": "markdown",
   "metadata": {},
   "source": [
    "We can now use the database object `db` to specify the phases that will be considered in our multiphase chemical system. We are interested in all aqueous species in the database that contains the elements H, O, Ca, and C."
   ]
  },
  {
   "cell_type": "code",
   "execution_count": 21,
   "metadata": {},
   "outputs": [
    {
     "name": "stdout",
     "output_type": "stream",
     "text": [
      "CO3-2\n",
      "H+\n",
      "H2O\n",
      "CO2\n",
      "(CO2)2\n",
      "HCO3-\n",
      "CH4\n",
      "Ca+2\n",
      "CaCO3\n",
      "CaHCO3+\n",
      "CaOH+\n",
      "H2\n",
      "OH-\n",
      "O2\n",
      "Aragonite\n",
      "Calcite\n",
      "CH4(g)\n",
      "CO2(g)\n",
      "H2(g)\n",
      "H2O(g)\n",
      "O2(g)\n"
     ]
    }
   ],
   "source": [
    "for species in db.species().withElements(\"H O C Ca\"):\n",
    "    print(species.name())"
   ]
  },
  {
   "cell_type": "code",
   "execution_count": 27,
   "metadata": {},
   "outputs": [],
   "source": [
    "solution = rkt.AqueousPhase(rkt.speciate(\"Ca C\"))\n",
    "solution.setActivityModel(rkt.ActivityModelHKF());"
   ]
  },
  {
   "cell_type": "code",
   "execution_count": 23,
   "metadata": {},
   "outputs": [],
   "source": [
    "calcite = rkt.MineralPhase(\"Calcite\")"
   ]
  },
  {
   "cell_type": "code",
   "execution_count": 24,
   "metadata": {},
   "outputs": [],
   "source": [
    "system = rkt.ChemicalSystem(db, solution, calcite)"
   ]
  },
  {
   "cell_type": "code",
   "execution_count": 25,
   "metadata": {},
   "outputs": [],
   "source": [
    "state = rkt.ChemicalState(system)\n",
    "state.temperature(30.0, \"celsius\")\n",
    "state.pressure(1.0, \"atm\")\n",
    "state.set(\"H2O\"    , 1.0, \"kg\")\n",
    "state.set(\"Calcite\", 1.0, \"mol\")\n"
   ]
  },
  {
   "cell_type": "code",
   "execution_count": 26,
   "metadata": {},
   "outputs": [
    {
     "name": "stdout",
     "output_type": "stream",
     "text": [
      "+-----------------+---------+------+\n",
      "| Property        |   Value | Unit |\n",
      "+-----------------+---------+------+\n",
      "| Temperature     |  303.15 |    K |\n",
      "| Pressure        |  101325 |   Pa |\n",
      "| Element Amount: |         |      |\n",
      "| :: H            | 111.012 |  mol |\n",
      "| :: C            |       1 |  mol |\n",
      "| :: O            | 58.5062 |  mol |\n",
      "| :: Ca           |       1 |  mol |\n",
      "| Species Amount: |         |      |\n",
      "| :: CO3-2        |       0 |  mol |\n",
      "| :: H+           |       0 |  mol |\n",
      "| :: H2O          | 55.5062 |  mol |\n",
      "| :: CO2          |       0 |  mol |\n",
      "| :: (CO2)2       |       0 |  mol |\n",
      "| :: HCO3-        |       0 |  mol |\n",
      "| :: CH4          |       0 |  mol |\n",
      "| :: Ca+2         |       0 |  mol |\n",
      "| :: CaCO3        |       0 |  mol |\n",
      "| :: CaHCO3+      |       0 |  mol |\n",
      "| :: CaOH+        |       0 |  mol |\n",
      "| :: H2           |       0 |  mol |\n",
      "| :: OH-          |       0 |  mol |\n",
      "| :: O2           |       0 |  mol |\n",
      "| :: Calcite      |       1 |  mol |\n",
      "+-----------------+---------+------+\n"
     ]
    }
   ],
   "source": [
    "print(state)"
   ]
  },
  {
   "cell_type": "code",
   "execution_count": null,
   "metadata": {},
   "outputs": [],
   "source": []
  }
 ],
 "metadata": {
  "interpreter": {
   "hash": "e4e8b2f3ae27709963f14fd23a6560d362beea55eaec742263828e04d814e23c"
  },
  "kernelspec": {
   "display_name": "Python 3.9.7 64-bit ('reaktoro-jupyter-book': conda)",
   "name": "python3"
  },
  "language_info": {
   "codemirror_mode": {
    "name": "ipython",
    "version": 3
   },
   "file_extension": ".py",
   "mimetype": "text/x-python",
   "name": "python",
   "nbconvert_exporter": "python",
   "pygments_lexer": "ipython3",
   "version": "3.9.7"
  },
  "orig_nbformat": 4
 },
 "nbformat": 4,
 "nbformat_minor": 2
}
