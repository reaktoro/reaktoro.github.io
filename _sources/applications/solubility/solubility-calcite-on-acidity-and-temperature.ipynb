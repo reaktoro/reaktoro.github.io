{
 "cells": [
  {
   "cell_type": "markdown",
   "metadata": {
    "tags": []
   },
   "source": [
    "# Calcite solubility in water, rainwater, and seawater\n",
    "\n",
    "<p class=\"acknowledgement\">Written by Svetlana Kyas (ETH Zurich) on Mar 30th, 2022</p>\n",
    "\n",
    "Studying the solubility of carbon dioxide in rainwater is important for understanding climate change. Anthropogenic CO<sub>2</sub> absorbed by the oceans increases the concentration of hydrogen ions (H<sup>+</sup>), and thus its acidification.\n",
    "In a review article by *Figuerola et al., A Review and Meta-Analysis of Potential Impacts of Ocean Acidification on Marine Calcifiers From the Southern Ocean, Front. Mar. Sci., 2021*, **ocean acidification (OA)** (accompanied by CO reduction, see figure below) is identified as a critical problem for the shells and skeletons of marine calcifiers such as foraminifera, corals, echinoderms, mollusks, and bryozoans. The OA process reduces the **carbonate saturation horizon** (the depth below which calcium carbonate dissolves), which likely increases the vulnerability of many resident marine calcifiers to dissolution. In addition, ocean warming could further exacerbate the effects of the OA process on these particular species. For this reason, understanding the dependence of calcite solubility on various factors is an important issue in modeling.\n",
    "\n",
    "In this tutorial, we examine the solubility of calcite in water, rainwater, and seawater. We also look at how it is affected by changes in temperature, pressure and the amount of carbon dioxide dissolved.\n",
    "\n",
    "|![Infographic of the ocean acidification process](../../images/applications/ocian-acidification.jpeg)|\n",
    "|:--:|\n",
    "|Infographic of the ocean acidification process, Source: frontiersin.org|\n",
    "\n",
    "First, we initialize the chemical system with aqueous, gaseous, and calcite phases."
   ]
  },
  {
   "cell_type": "code",
   "execution_count": 1,
   "metadata": {
    "lines_to_next_cell": 1
   },
   "outputs": [],
   "source": [
    "from reaktoro import *\n",
    "\n",
    "# Create the database\n",
    "db = SupcrtDatabase(\"supcrtbl\")\n",
    "\n",
    "# Create an aqueous phase automatically selecting all species with provided elements\n",
    "aqueousphase = AqueousPhase(speciate(\"H O C Ca Mg K Cl Na S N\"))\n",
    "aqueousphase.setActivityModel(chain(\n",
    "    ActivityModelHKF(),\n",
    "    ActivityModelDrummond(\"CO2\"),\n",
    "))\n",
    "\n",
    "# Create a gaseous phase\n",
    "gaseousphase = GaseousPhase(\"CO2(g)\")\n",
    "gaseousphase.setActivityModel(ActivityModelPengRobinson())\n",
    "\n",
    "# Create a mineral phase\n",
    "mineral = MineralPhase(\"Calcite\")\n",
    "\n",
    "# Create the chemical system\n",
    "system = ChemicalSystem(db, aqueousphase, gaseousphase, mineral)"
   ]
  },
  {
   "cell_type": "markdown",
   "metadata": {},
   "source": [
    "Next, the equilibrium specifications, equilibrium conditions, and equilibrium solver for the equilibrium calculations are initialized. To constrain the charge of the chemical state, we need to make it open to the Cl<sup>-</sup>. Finally, we create aqueous properties to evaluate pH in the forthcoming calculations."
   ]
  },
  {
   "cell_type": "code",
   "execution_count": 2,
   "metadata": {},
   "outputs": [],
   "source": [
    "# Define equilibrium specs\n",
    "specs = EquilibriumSpecs (system)\n",
    "specs.temperature()\n",
    "specs.pressure()\n",
    "specs.charge()\n",
    "specs.openTo(\"Cl-\")\n",
    "\n",
    "# Define conditions to be satisfied at the chemical equilibrium state\n",
    "conditions = EquilibriumConditions(specs)\n",
    "conditions.charge(0.0, \"mol\") # to make sure the mixture is charge neutral\n",
    "\n",
    "# Define the equilibrium solver\n",
    "solver = EquilibriumSolver(specs)\n",
    "\n",
    "# Define aqueous properties\n",
    "aprops = AqueousProps(system)"
   ]
  },
  {
   "cell_type": "markdown",
   "metadata": {},
   "source": [
    "The functions below define the chemical states corresponding to pure water, rainwater saturated with carbon dioxide, and seawater, respectively:"
   ]
  },
  {
   "cell_type": "code",
   "execution_count": 3,
   "metadata": {},
   "outputs": [],
   "source": [
    "def water():\n",
    "\n",
    "    state = ChemicalState(system)\n",
    "    state.add(\"H2O(aq)\", 1.0, \"kg\")\n",
    "\n",
    "    return state\n",
    "\n",
    "def rainwater():\n",
    "\n",
    "    state = ChemicalState(system)\n",
    "    # Rainwater composition\n",
    "    state.set(\"H2O(aq)\", 1.0, \"kg\")\n",
    "    state.set(\"Na+\"    , 2.05, \"mg\") # Sodium, 2.05 ppm = 2.05 mg/L ~ 2.05 mg/kgw\n",
    "    state.set(\"K+\"     , 0.35, \"mg\") # Potassium\n",
    "    state.set(\"Ca+2\"   , 1.42, \"mg\") # Calcium\n",
    "    state.set(\"Mg+2\"   , 0.39, \"mg\") # Magnesium\n",
    "    state.set(\"Cl-\"    , 3.47, \"mg\") # Chloride\n",
    "    state.set(\"SO4-2\"  , 2.19, \"mg\")\n",
    "    state.set(\"NO3-\"   , 0.27, \"mg\")\n",
    "    state.set(\"NH4+\"   , 0.41, \"mg\")\n",
    "    state.set(\"CO2(aq)\", 0.36, \"mol\")  # rainwater is saturated with CO2\n",
    "\n",
    "    return state\n",
    "\n",
    "def seawater():\n",
    "\n",
    "    state = ChemicalState(system)\n",
    "    # Seawater composition\n",
    "    state.setTemperature(25, \"celsius\")\n",
    "    state.setPressure(1.0, \"bar\")\n",
    "    state.add(\"H2O(aq)\",     1.0, \"kg\")\n",
    "    state.add(\"Ca+2\"   ,   412.3, \"mg\")\n",
    "    state.add(\"Mg+2\"   ,  1290.0, \"mg\")\n",
    "    state.add(\"Na+\"    , 10768.0, \"mg\")\n",
    "    state.add(\"K+\"     ,   399.1, \"mg\")\n",
    "    state.add(\"Cl-\"    , 19353.0, \"mg\")\n",
    "    state.add(\"HCO3-\"  ,   141.7, \"mg\")\n",
    "    state.add(\"SO4-2\"  ,  2712.0, \"mg\")\n",
    "\n",
    "    return state"
   ]
  },
  {
   "cell_type": "markdown",
   "metadata": {},
   "source": [
    "## Solubility of calcite for different temperatures and pressures\n",
    "\n",
    "To calculate the solubility of calcite in a given brine, we define the function `solubility_of_calcite()`, which calculates the pH of the aqueous solution along with the amount of calcite dissolved in it. As the names suggest, the instances of `pandas.DataFrame`, i.e., `df_water` and `df_rainwater`, correspond to the results of chemical equilibrium calculations for water and rainwater, respectively."
   ]
  },
  {
   "cell_type": "code",
   "execution_count": 4,
   "metadata": {},
   "outputs": [],
   "source": [
    "import pandas as pd\n",
    "df_water = pd.DataFrame(columns=[\"T\", \"P\", \"pH\", \"deltaCalcite\"])\n",
    "df_rainwater = pd.DataFrame(columns=[\"T\", \"P\", \"pH\", \"deltaCalcite\"])\n",
    "\n",
    "# Initial amount of calcite\n",
    "n0Calcite = 10.0\n",
    "\n",
    "def solubility_of_calcite(state, T, P, tag):\n",
    "\n",
    "    conditions.temperature(T, \"celsius\")\n",
    "    conditions.pressure(P, \"bar\")\n",
    "\n",
    "    # Equilibrate the solution with given initial chemical state and desired conditions at equilibrium\n",
    "    res = solver.solve(state, conditions)\n",
    "\n",
    "    # Check calculation succeeded\n",
    "    assert res.succeeded()\n",
    "\n",
    "    # Update aqueous properties\n",
    "    aprops.update(state)\n",
    "\n",
    "    # Fetch the amount of final calcite in the equilibrium state\n",
    "    nCalcite = float(state.speciesAmount(\"Calcite\"))\n",
    "\n",
    "    if tag == \"water\":\n",
    "        df_water.loc[len(df_water)] = [T, P, float(aprops.pH()), n0Calcite - nCalcite]\n",
    "    elif tag == \"rainwater\":\n",
    "        df_rainwater.loc[len(df_rainwater)] = [T, P, float(aprops.pH()), n0Calcite - nCalcite]"
   ]
  },
  {
   "cell_type": "markdown",
   "metadata": {},
   "source": [
    "Next, we initialize the array of temperatures from 20 &deg;C till 90 &deg;C and pressures P = 1, 10, 100 bars and perform solubility calculations for water and rainwater."
   ]
  },
  {
   "cell_type": "code",
   "execution_count": 5,
   "metadata": {
    "collapsed": false,
    "jupyter": {
     "outputs_hidden": false
    }
   },
   "outputs": [],
   "source": [
    "import numpy as np\n",
    "temperatures = np.arange(20.0, 91.0, 5.0)   # in celsius\n",
    "pressures = np.array([1, 10, 100])          # in bar\n",
    "\n",
    "state = water()\n",
    "state.set(\"Calcite\", n0Calcite, \"mol\")\n",
    "[solubility_of_calcite(state, T, P, \"water\") for P in pressures for T in temperatures];\n",
    "\n",
    "state = rainwater()\n",
    "state.set(\"Calcite\", n0Calcite, \"mol\")\n",
    "[solubility_of_calcite(state, T, P, \"rainwater\") for P in pressures for T in temperatures];"
   ]
  },
  {
   "cell_type": "markdown",
   "metadata": {},
   "source": [
    "Let us check that the calcite solubility determined for 25 °C and 1 bar actually corresponds to the values from Wikipedia, i.e., the solubility in water is 0.013 g/L (25 °C). In the following, we use 100.0869 g/mol as the molar mass of calcite:"
   ]
  },
  {
   "cell_type": "code",
   "execution_count": 6,
   "metadata": {},
   "outputs": [
    {
     "name": "stdout",
     "output_type": "stream",
     "text": [
      "Solubility of calcite in water equals to 0.116 mmol/kgw = ... = 0.012 g/L\n"
     ]
    }
   ],
   "source": [
    "# Fetch Calcite solubility for T = 25 celsius and P = 1 bar\n",
    "deltaCalcite = df_water[(df_water['P']== 1.0) & (df_water['T'] == 25.0)]['deltaCalcite'].iloc[0]\n",
    "print(f\"Solubility of calcite in water equals to {1e3*deltaCalcite:.3f} \"\n",
    "      f\"mmol/kgw = ... = {deltaCalcite * 0.1000869 * 1e3:.3f} g/L\")"
   ]
  },
  {
   "cell_type": "markdown",
   "metadata": {},
   "source": [
    "In the case of pure water, therefore, about 0.116 mmol of calcite will dissolve. This dissolved quantity is independent of the initial quantity value used for calcite (provided it exceeds the solubility limit)."
   ]
  },
  {
   "cell_type": "markdown",
   "metadata": {},
   "source": [
    "We plot using [bokeh](https://bokeh.org/) python library. We start from solubilities of calcite in water and CO<sub>2</sub>-saturated rainwater for pressure P = 1:"
   ]
  },
  {
   "cell_type": "code",
   "execution_count": 7,
   "metadata": {
    "tags": [
     "hide_input"
    ]
   },
   "outputs": [
    {
     "data": {
      "text/html": [
       "<div class=\"bk-root\">\n",
       "        <a href=\"https://bokeh.org\" target=\"_blank\" class=\"bk-logo bk-logo-small bk-logo-notebook\"></a>\n",
       "        <span id=\"1002\">Loading BokehJS ...</span>\n",
       "    </div>\n"
      ]
     },
     "metadata": {},
     "output_type": "display_data"
    },
    {
     "data": {
      "application/javascript": "(function(root) {\n  function now() {\n    return new Date();\n  }\n\n  const force = true;\n\n  if (typeof root._bokeh_onload_callbacks === \"undefined\" || force === true) {\n    root._bokeh_onload_callbacks = [];\n    root._bokeh_is_loading = undefined;\n  }\n\nconst JS_MIME_TYPE = 'application/javascript';\n  const HTML_MIME_TYPE = 'text/html';\n  const EXEC_MIME_TYPE = 'application/vnd.bokehjs_exec.v0+json';\n  const CLASS_NAME = 'output_bokeh rendered_html';\n\n  /**\n   * Render data to the DOM node\n   */\n  function render(props, node) {\n    const script = document.createElement(\"script\");\n    node.appendChild(script);\n  }\n\n  /**\n   * Handle when an output is cleared or removed\n   */\n  function handleClearOutput(event, handle) {\n    const cell = handle.cell;\n\n    const id = cell.output_area._bokeh_element_id;\n    const server_id = cell.output_area._bokeh_server_id;\n    // Clean up Bokeh references\n    if (id != null && id in Bokeh.index) {\n      Bokeh.index[id].model.document.clear();\n      delete Bokeh.index[id];\n    }\n\n    if (server_id !== undefined) {\n      // Clean up Bokeh references\n      const cmd_clean = \"from bokeh.io.state import curstate; print(curstate().uuid_to_server['\" + server_id + \"'].get_sessions()[0].document.roots[0]._id)\";\n      cell.notebook.kernel.execute(cmd_clean, {\n        iopub: {\n          output: function(msg) {\n            const id = msg.content.text.trim();\n            if (id in Bokeh.index) {\n              Bokeh.index[id].model.document.clear();\n              delete Bokeh.index[id];\n            }\n          }\n        }\n      });\n      // Destroy server and session\n      const cmd_destroy = \"import bokeh.io.notebook as ion; ion.destroy_server('\" + server_id + \"')\";\n      cell.notebook.kernel.execute(cmd_destroy);\n    }\n  }\n\n  /**\n   * Handle when a new output is added\n   */\n  function handleAddOutput(event, handle) {\n    const output_area = handle.output_area;\n    const output = handle.output;\n\n    // limit handleAddOutput to display_data with EXEC_MIME_TYPE content only\n    if ((output.output_type != \"display_data\") || (!Object.prototype.hasOwnProperty.call(output.data, EXEC_MIME_TYPE))) {\n      return\n    }\n\n    const toinsert = output_area.element.find(\".\" + CLASS_NAME.split(' ')[0]);\n\n    if (output.metadata[EXEC_MIME_TYPE][\"id\"] !== undefined) {\n      toinsert[toinsert.length - 1].firstChild.textContent = output.data[JS_MIME_TYPE];\n      // store reference to embed id on output_area\n      output_area._bokeh_element_id = output.metadata[EXEC_MIME_TYPE][\"id\"];\n    }\n    if (output.metadata[EXEC_MIME_TYPE][\"server_id\"] !== undefined) {\n      const bk_div = document.createElement(\"div\");\n      bk_div.innerHTML = output.data[HTML_MIME_TYPE];\n      const script_attrs = bk_div.children[0].attributes;\n      for (let i = 0; i < script_attrs.length; i++) {\n        toinsert[toinsert.length - 1].firstChild.setAttribute(script_attrs[i].name, script_attrs[i].value);\n        toinsert[toinsert.length - 1].firstChild.textContent = bk_div.children[0].textContent\n      }\n      // store reference to server id on output_area\n      output_area._bokeh_server_id = output.metadata[EXEC_MIME_TYPE][\"server_id\"];\n    }\n  }\n\n  function register_renderer(events, OutputArea) {\n\n    function append_mime(data, metadata, element) {\n      // create a DOM node to render to\n      const toinsert = this.create_output_subarea(\n        metadata,\n        CLASS_NAME,\n        EXEC_MIME_TYPE\n      );\n      this.keyboard_manager.register_events(toinsert);\n      // Render to node\n      const props = {data: data, metadata: metadata[EXEC_MIME_TYPE]};\n      render(props, toinsert[toinsert.length - 1]);\n      element.append(toinsert);\n      return toinsert\n    }\n\n    /* Handle when an output is cleared or removed */\n    events.on('clear_output.CodeCell', handleClearOutput);\n    events.on('delete.Cell', handleClearOutput);\n\n    /* Handle when a new output is added */\n    events.on('output_added.OutputArea', handleAddOutput);\n\n    /**\n     * Register the mime type and append_mime function with output_area\n     */\n    OutputArea.prototype.register_mime_type(EXEC_MIME_TYPE, append_mime, {\n      /* Is output safe? */\n      safe: true,\n      /* Index of renderer in `output_area.display_order` */\n      index: 0\n    });\n  }\n\n  // register the mime type if in Jupyter Notebook environment and previously unregistered\n  if (root.Jupyter !== undefined) {\n    const events = require('base/js/events');\n    const OutputArea = require('notebook/js/outputarea').OutputArea;\n\n    if (OutputArea.prototype.mime_types().indexOf(EXEC_MIME_TYPE) == -1) {\n      register_renderer(events, OutputArea);\n    }\n  }\n  if (typeof (root._bokeh_timeout) === \"undefined\" || force === true) {\n    root._bokeh_timeout = Date.now() + 5000;\n    root._bokeh_failed_load = false;\n  }\n\n  const NB_LOAD_WARNING = {'data': {'text/html':\n     \"<div style='background-color: #fdd'>\\n\"+\n     \"<p>\\n\"+\n     \"BokehJS does not appear to have successfully loaded. If loading BokehJS from CDN, this \\n\"+\n     \"may be due to a slow or bad network connection. Possible fixes:\\n\"+\n     \"</p>\\n\"+\n     \"<ul>\\n\"+\n     \"<li>re-rerun `output_notebook()` to attempt to load from CDN again, or</li>\\n\"+\n     \"<li>use INLINE resources instead, as so:</li>\\n\"+\n     \"</ul>\\n\"+\n     \"<code>\\n\"+\n     \"from bokeh.resources import INLINE\\n\"+\n     \"output_notebook(resources=INLINE)\\n\"+\n     \"</code>\\n\"+\n     \"</div>\"}};\n\n  function display_loaded() {\n    const el = document.getElementById(\"1002\");\n    if (el != null) {\n      el.textContent = \"BokehJS is loading...\";\n    }\n    if (root.Bokeh !== undefined) {\n      if (el != null) {\n        el.textContent = \"BokehJS \" + root.Bokeh.version + \" successfully loaded.\";\n      }\n    } else if (Date.now() < root._bokeh_timeout) {\n      setTimeout(display_loaded, 100)\n    }\n  }\n\n  function run_callbacks() {\n    try {\n      root._bokeh_onload_callbacks.forEach(function(callback) {\n        if (callback != null)\n          callback();\n      });\n    } finally {\n      delete root._bokeh_onload_callbacks\n    }\n    console.debug(\"Bokeh: all callbacks have finished\");\n  }\n\n  function load_libs(css_urls, js_urls, callback) {\n    if (css_urls == null) css_urls = [];\n    if (js_urls == null) js_urls = [];\n\n    root._bokeh_onload_callbacks.push(callback);\n    if (root._bokeh_is_loading > 0) {\n      console.debug(\"Bokeh: BokehJS is being loaded, scheduling callback at\", now());\n      return null;\n    }\n    if (js_urls == null || js_urls.length === 0) {\n      run_callbacks();\n      return null;\n    }\n    console.debug(\"Bokeh: BokehJS not loaded, scheduling load and callback at\", now());\n    root._bokeh_is_loading = css_urls.length + js_urls.length;\n\n    function on_load() {\n      root._bokeh_is_loading--;\n      if (root._bokeh_is_loading === 0) {\n        console.debug(\"Bokeh: all BokehJS libraries/stylesheets loaded\");\n        run_callbacks()\n      }\n    }\n\n    function on_error(url) {\n      console.error(\"failed to load \" + url);\n    }\n\n    for (let i = 0; i < css_urls.length; i++) {\n      const url = css_urls[i];\n      const element = document.createElement(\"link\");\n      element.onload = on_load;\n      element.onerror = on_error.bind(null, url);\n      element.rel = \"stylesheet\";\n      element.type = \"text/css\";\n      element.href = url;\n      console.debug(\"Bokeh: injecting link tag for BokehJS stylesheet: \", url);\n      document.body.appendChild(element);\n    }\n\n    for (let i = 0; i < js_urls.length; i++) {\n      const url = js_urls[i];\n      const element = document.createElement('script');\n      element.onload = on_load;\n      element.onerror = on_error.bind(null, url);\n      element.async = false;\n      element.src = url;\n      console.debug(\"Bokeh: injecting script tag for BokehJS library: \", url);\n      document.head.appendChild(element);\n    }\n  };\n\n  function inject_raw_css(css) {\n    const element = document.createElement(\"style\");\n    element.appendChild(document.createTextNode(css));\n    document.body.appendChild(element);\n  }\n\n  const js_urls = [\"https://cdn.bokeh.org/bokeh/release/bokeh-2.4.3.min.js\", \"https://cdn.bokeh.org/bokeh/release/bokeh-gl-2.4.3.min.js\", \"https://cdn.bokeh.org/bokeh/release/bokeh-widgets-2.4.3.min.js\", \"https://cdn.bokeh.org/bokeh/release/bokeh-tables-2.4.3.min.js\", \"https://cdn.bokeh.org/bokeh/release/bokeh-mathjax-2.4.3.min.js\"];\n  const css_urls = [];\n\n  const inline_js = [    function(Bokeh) {\n      Bokeh.set_log_level(\"info\");\n    },\nfunction(Bokeh) {\n    }\n  ];\n\n  function run_inline_js() {\n    if (root.Bokeh !== undefined || force === true) {\n          for (let i = 0; i < inline_js.length; i++) {\n      inline_js[i].call(root, root.Bokeh);\n    }\nif (force === true) {\n        display_loaded();\n      }} else if (Date.now() < root._bokeh_timeout) {\n      setTimeout(run_inline_js, 100);\n    } else if (!root._bokeh_failed_load) {\n      console.log(\"Bokeh: BokehJS failed to load within specified timeout.\");\n      root._bokeh_failed_load = true;\n    } else if (force !== true) {\n      const cell = $(document.getElementById(\"1002\")).parents('.cell').data().cell;\n      cell.output_area.append_execute_result(NB_LOAD_WARNING)\n    }\n  }\n\n  if (root._bokeh_is_loading === 0) {\n    console.debug(\"Bokeh: BokehJS loaded, going straight to plotting\");\n    run_inline_js();\n  } else {\n    load_libs(css_urls, js_urls, function() {\n      console.debug(\"Bokeh: BokehJS plotting callback run at\", now());\n      run_inline_js();\n    });\n  }\n}(window));",
      "application/vnd.bokehjs_load.v0+json": ""
     },
     "metadata": {},
     "output_type": "display_data"
    },
    {
     "data": {
      "text/html": [
       "\n",
       "  <div class=\"bk-root\" id=\"92b3ccd0-ab7a-4a64-85dc-faaec520aee4\" data-root-id=\"1003\"></div>\n"
      ]
     },
     "metadata": {},
     "output_type": "display_data"
    },
    {
     "data": {
      "application/javascript": "(function(root) {\n  function embed_document(root) {\n  const docs_json = {\"3bd00eb9-ac7e-49f8-ac0e-7e12a4147e9e\":{\"defs\":[],\"roots\":{\"references\":[{\"attributes\":{\"below\":[{\"id\":\"1014\"}],\"center\":[{\"id\":\"1017\"},{\"id\":\"1021\"}],\"height\":300,\"left\":[{\"id\":\"1018\"}],\"renderers\":[{\"id\":\"1041\"},{\"id\":\"1048\"}],\"sizing_mode\":\"scale_width\",\"title\":{\"id\":\"1004\"},\"toolbar\":{\"id\":\"1029\"},\"x_range\":{\"id\":\"1006\"},\"x_scale\":{\"id\":\"1010\"},\"y_range\":{\"id\":\"1008\"},\"y_scale\":{\"id\":\"1012\"}},\"id\":\"1003\",\"subtype\":\"Figure\",\"type\":\"Plot\"},{\"attributes\":{},\"id\":\"1057\",\"type\":\"UnionRenderers\"},{\"attributes\":{},\"id\":\"1055\",\"type\":\"BasicTickFormatter\"},{\"attributes\":{},\"id\":\"1058\",\"type\":\"Selection\"},{\"attributes\":{\"coordinates\":null,\"group\":null,\"text\":\"COMPARISON OF CALCITE SOLUBILITY IN WATER AND RAINWATER\"},\"id\":\"1004\",\"type\":\"Title\"},{\"attributes\":{},\"id\":\"1012\",\"type\":\"LinearScale\"},{\"attributes\":{\"bottom_units\":\"screen\",\"coordinates\":null,\"fill_alpha\":0.5,\"fill_color\":\"lightgrey\",\"group\":null,\"left_units\":\"screen\",\"level\":\"overlay\",\"line_alpha\":1.0,\"line_color\":\"black\",\"line_dash\":[4,4],\"line_width\":2,\"right_units\":\"screen\",\"syncable\":false,\"top_units\":\"screen\"},\"id\":\"1028\",\"type\":\"BoxAnnotation\"},{\"attributes\":{},\"id\":\"1015\",\"type\":\"BasicTicker\"},{\"attributes\":{\"axis\":{\"id\":\"1014\"},\"coordinates\":null,\"group\":null,\"ticker\":null},\"id\":\"1017\",\"type\":\"Grid\"},{\"attributes\":{\"line_cap\":\"round\",\"line_color\":\"indigo\",\"line_width\":3,\"x\":{\"field\":\"T\"},\"y\":{\"field\":\"deltaCalcite\"}},\"id\":\"1038\",\"type\":\"Line\"},{\"attributes\":{},\"id\":\"1008\",\"type\":\"DataRange1d\"},{\"attributes\":{\"data\":{\"P\":{\"__ndarray__\":\"AAAAAAAA8D8AAAAAAADwPwAAAAAAAPA/AAAAAAAA8D8AAAAAAADwPwAAAAAAAPA/AAAAAAAA8D8AAAAAAADwPwAAAAAAAPA/AAAAAAAA8D8AAAAAAADwPwAAAAAAAPA/AAAAAAAA8D8AAAAAAADwPwAAAAAAAPA/\",\"dtype\":\"float64\",\"order\":\"little\",\"shape\":[15]},\"T\":{\"__ndarray__\":\"AAAAAAAANEAAAAAAAAA5QAAAAAAAAD5AAAAAAACAQUAAAAAAAABEQAAAAAAAgEZAAAAAAAAASUAAAAAAAIBLQAAAAAAAAE5AAAAAAABAUEAAAAAAAIBRQAAAAAAAwFJAAAAAAAAAVEAAAAAAAEBVQAAAAAAAgFZA\",\"dtype\":\"float64\",\"order\":\"little\",\"shape\":[15]},\"deltaCalcite\":{\"__ndarray__\":\"AAAwexRJHT8AAExhxFwePwAAfmRpax8/AACtbHg6ID8AAGzhuLwgPwAA5R8gPCE/AADhQBK4IT8AAMAtTzAiPwAAmn9woyI/AADJlY0QIz8AALmsw3YjPwAAwZk/1SM/AABOp88rJD8AAPDiSXkkPwAAZsEovSQ/\",\"dtype\":\"float64\",\"order\":\"little\",\"shape\":[15]},\"index\":[0,1,2,3,4,5,6,7,8,9,10,11,12,13,14],\"pH\":{\"__ndarray__\":\"la5rmt4GJEA/eBB2+MQjQDuD/7WOhSNA08a23HZII0Ax7/CMjw0jQBL/bsC81CJA+MdoZuadIkAF+W7j+WgiQB1fYtPhNSJAHDg7yYwEIkDjuGOd6tQhQIBOhjrspiFAwJzhQIZ6IUClZJPjqE8hQHflDfZHJiFA\",\"dtype\":\"float64\",\"order\":\"little\",\"shape\":[15]}},\"selected\":{\"id\":\"1058\"},\"selection_policy\":{\"id\":\"1057\"}},\"id\":\"1036\",\"type\":\"ColumnDataSource\"},{\"attributes\":{\"axis_label\":\"TEMPERATURE [\\u00b0C]\",\"coordinates\":null,\"formatter\":{\"id\":\"1055\"},\"group\":null,\"major_label_policy\":{\"id\":\"1056\"},\"ticker\":{\"id\":\"1015\"}},\"id\":\"1014\",\"type\":\"LinearAxis\"},{\"attributes\":{},\"id\":\"1023\",\"type\":\"WheelZoomTool\"},{\"attributes\":{\"line_alpha\":0.2,\"line_cap\":\"round\",\"line_color\":\"darkred\",\"line_width\":3,\"x\":{\"field\":\"T\"},\"y\":{\"field\":\"deltaCalcite\"}},\"id\":\"1047\",\"type\":\"Line\"},{\"attributes\":{\"axis_label\":\"CALCITE SOLUBILITY [MOL/KG]\",\"coordinates\":null,\"formatter\":{\"id\":\"1052\"},\"group\":null,\"major_label_policy\":{\"id\":\"1053\"},\"ticker\":{\"id\":\"1019\"}},\"id\":\"1018\",\"type\":\"LinearAxis\"},{\"attributes\":{\"tools\":[{\"id\":\"1022\"},{\"id\":\"1023\"},{\"id\":\"1024\"},{\"id\":\"1025\"},{\"id\":\"1026\"},{\"id\":\"1027\"}]},\"id\":\"1029\",\"type\":\"Toolbar\"},{\"attributes\":{\"axis\":{\"id\":\"1018\"},\"coordinates\":null,\"dimension\":1,\"group\":null,\"ticker\":null},\"id\":\"1021\",\"type\":\"Grid\"},{\"attributes\":{},\"id\":\"1019\",\"type\":\"BasicTicker\"},{\"attributes\":{},\"id\":\"1059\",\"type\":\"UnionRenderers\"},{\"attributes\":{},\"id\":\"1006\",\"type\":\"DataRange1d\"},{\"attributes\":{},\"id\":\"1027\",\"type\":\"HelpTool\"},{\"attributes\":{\"line_alpha\":0.1,\"line_cap\":\"round\",\"line_color\":\"indigo\",\"line_width\":3,\"x\":{\"field\":\"T\"},\"y\":{\"field\":\"deltaCalcite\"}},\"id\":\"1039\",\"type\":\"Line\"},{\"attributes\":{},\"id\":\"1022\",\"type\":\"PanTool\"},{\"attributes\":{},\"id\":\"1060\",\"type\":\"Selection\"},{\"attributes\":{\"overlay\":{\"id\":\"1028\"}},\"id\":\"1024\",\"type\":\"BoxZoomTool\"},{\"attributes\":{\"line_alpha\":0.2,\"line_cap\":\"round\",\"line_color\":\"indigo\",\"line_width\":3,\"x\":{\"field\":\"T\"},\"y\":{\"field\":\"deltaCalcite\"}},\"id\":\"1040\",\"type\":\"Line\"},{\"attributes\":{\"source\":{\"id\":\"1036\"}},\"id\":\"1042\",\"type\":\"CDSView\"},{\"attributes\":{},\"id\":\"1025\",\"type\":\"SaveTool\"},{\"attributes\":{},\"id\":\"1026\",\"type\":\"ResetTool\"},{\"attributes\":{},\"id\":\"1056\",\"type\":\"AllLabels\"},{\"attributes\":{\"line_cap\":\"round\",\"line_color\":\"darkred\",\"line_width\":3,\"x\":{\"field\":\"T\"},\"y\":{\"field\":\"deltaCalcite\"}},\"id\":\"1045\",\"type\":\"Line\"},{\"attributes\":{\"coordinates\":null,\"data_source\":{\"id\":\"1043\"},\"glyph\":{\"id\":\"1045\"},\"group\":null,\"hover_glyph\":null,\"muted_glyph\":{\"id\":\"1047\"},\"nonselection_glyph\":{\"id\":\"1046\"},\"view\":{\"id\":\"1049\"}},\"id\":\"1048\",\"type\":\"GlyphRenderer\"},{\"attributes\":{\"line_alpha\":0.1,\"line_cap\":\"round\",\"line_color\":\"darkred\",\"line_width\":3,\"x\":{\"field\":\"T\"},\"y\":{\"field\":\"deltaCalcite\"}},\"id\":\"1046\",\"type\":\"Line\"},{\"attributes\":{},\"id\":\"1053\",\"type\":\"AllLabels\"},{\"attributes\":{\"coordinates\":null,\"data_source\":{\"id\":\"1036\"},\"glyph\":{\"id\":\"1038\"},\"group\":null,\"hover_glyph\":null,\"muted_glyph\":{\"id\":\"1040\"},\"nonselection_glyph\":{\"id\":\"1039\"},\"view\":{\"id\":\"1042\"}},\"id\":\"1041\",\"type\":\"GlyphRenderer\"},{\"attributes\":{},\"id\":\"1052\",\"type\":\"BasicTickFormatter\"},{\"attributes\":{},\"id\":\"1010\",\"type\":\"LinearScale\"},{\"attributes\":{\"source\":{\"id\":\"1043\"}},\"id\":\"1049\",\"type\":\"CDSView\"},{\"attributes\":{\"data\":{\"P\":{\"__ndarray__\":\"AAAAAAAA8D8AAAAAAADwPwAAAAAAAPA/AAAAAAAA8D8AAAAAAADwPwAAAAAAAPA/AAAAAAAA8D8AAAAAAADwPwAAAAAAAPA/AAAAAAAA8D8AAAAAAADwPwAAAAAAAPA/AAAAAAAA8D8AAAAAAADwPwAAAAAAAPA/\",\"dtype\":\"float64\",\"order\":\"little\",\"shape\":[15]},\"T\":{\"__ndarray__\":\"AAAAAAAANEAAAAAAAAA5QAAAAAAAAD5AAAAAAACAQUAAAAAAAABEQAAAAAAAgEZAAAAAAAAASUAAAAAAAIBLQAAAAAAAAE5AAAAAAABAUEAAAAAAAIBRQAAAAAAAwFJAAAAAAAAAVEAAAAAAAEBVQAAAAAAAgFZA\",\"dtype\":\"float64\",\"order\":\"little\",\"shape\":[15]},\"deltaCalcite\":{\"__ndarray__\":\"APAoQarVgz8AlPFpABCCPwCInHT0d4A/ACCXI+oJfj8AQOcpfGd7PwAwiaCFAnk/ABC+kGHVdj8ACJt2Cd50PwCwoxPME3M/APC94XxycT8A0GUOnexvPwBw+geZN20/APDED7bCaj8AoAGmfIRoPwAw6fXsd2Y/\",\"dtype\":\"float64\",\"order\":\"little\",\"shape\":[15]},\"index\":[0,1,2,3,4,5,6,7,8,9,10,11,12,13,14],\"pH\":{\"__ndarray__\":\"a+jpSfzrF0A1PFrlFOUXQDPZO3tS3xdAykvuY3HaF0BcDwdKYNYXQDeiDukP0xdAs4dVoXLQF0DRmtJBm84XQB+jND9dzRdAA/kMha7MF0AL1cjchcwXQNEwdtXazBdAmmtcSL7NF0DQJJGbDs8XQKyR+0/F0BdA\",\"dtype\":\"float64\",\"order\":\"little\",\"shape\":[15]}},\"selected\":{\"id\":\"1060\"},\"selection_policy\":{\"id\":\"1059\"}},\"id\":\"1043\",\"type\":\"ColumnDataSource\"}],\"root_ids\":[\"1003\"]},\"title\":\"Bokeh Application\",\"version\":\"2.4.3\"}};\n  const render_items = [{\"docid\":\"3bd00eb9-ac7e-49f8-ac0e-7e12a4147e9e\",\"root_ids\":[\"1003\"],\"roots\":{\"1003\":\"92b3ccd0-ab7a-4a64-85dc-faaec520aee4\"}}];\n  root.Bokeh.embed.embed_items_notebook(docs_json, render_items);\n  }\n  if (root.Bokeh !== undefined) {\n    embed_document(root);\n  } else {\n    let attempts = 0;\n    const timer = setInterval(function(root) {\n      if (root.Bokeh !== undefined) {\n        clearInterval(timer);\n        embed_document(root);\n      } else {\n        attempts++;\n        if (attempts > 100) {\n          clearInterval(timer);\n          console.log(\"Bokeh: ERROR: Unable to run BokehJS code because BokehJS library is missing\");\n        }\n      }\n    }, 10, root)\n  }\n})(window);",
      "application/vnd.bokehjs_exec.v0+json": ""
     },
     "metadata": {
      "application/vnd.bokehjs_exec.v0+json": {
       "id": "1003"
      }
     },
     "output_type": "display_data"
    }
   ],
   "source": [
    "from bokeh.plotting import figure, show\n",
    "from bokeh.io import output_notebook\n",
    "output_notebook()\n",
    "\n",
    "df_water_P1 = df_water[df_water['P'] == 1.0]\n",
    "df_rainwater_P1 = df_rainwater[df_rainwater['P'] == 1.0]\n",
    "\n",
    "p = figure(\n",
    "    title=\"COMPARISON OF CALCITE SOLUBILITY IN WATER AND RAINWATER\",\n",
    "    x_axis_label=r'TEMPERATURE [°C]',\n",
    "    y_axis_label='CALCITE SOLUBILITY [MOL/KG]',\n",
    "    sizing_mode=\"scale_width\",\n",
    "    plot_height=300)\n",
    "\n",
    "p.line(\"T\", \"deltaCalcite\", line_width=3, line_cap=\"round\", line_color='indigo', source=df_water_P1)\n",
    "p.line(\"T\", \"deltaCalcite\", line_width=3, line_cap=\"round\", line_color='darkred', source=df_rainwater_P1)\n",
    "\n",
    "show(p)"
   ]
  },
  {
   "cell_type": "markdown",
   "metadata": {},
   "source": [
    "From this plot, it can be seen that calcium carbonate has very low solubility in pure water, but higher solubility in rainwater saturated with carbon dioxide. This is due to the formation of more soluble calcium bicarbonate. The solubilities on different scales and for different pressures are shown below. It can be seen that with increasing pressure, the solubility of calcium carbonate increases."
   ]
  },
  {
   "cell_type": "code",
   "execution_count": 8,
   "metadata": {
    "tags": [
     "hide_input"
    ]
   },
   "outputs": [
    {
     "data": {
      "text/html": [
       "\n",
       "  <div class=\"bk-root\" id=\"fc8ca81f-996b-4ddf-b6cb-49defcbf954e\" data-root-id=\"1347\"></div>\n"
      ]
     },
     "metadata": {},
     "output_type": "display_data"
    },
    {
     "data": {
      "application/javascript": "(function(root) {\n  function embed_document(root) {\n  const docs_json = {\"b2329899-f614-4756-9909-9d416688ec24\":{\"defs\":[],\"roots\":{\"references\":[{\"attributes\":{\"children\":[{\"id\":\"1346\"},{\"id\":\"1344\"}]},\"id\":\"1347\",\"type\":\"Column\"},{\"attributes\":{},\"id\":\"1310\",\"type\":\"UnionRenderers\"},{\"attributes\":{\"line_alpha\":0.2,\"line_cap\":\"round\",\"line_color\":\"indigo\",\"line_width\":3,\"x\":{\"field\":\"T\"},\"y\":{\"field\":\"deltaCalcite\"}},\"id\":\"1296\",\"type\":\"Line\"},{\"attributes\":{},\"id\":\"1311\",\"type\":\"Selection\"},{\"attributes\":{\"line_cap\":\"round\",\"line_color\":\"indigo\",\"line_width\":3,\"x\":{\"field\":\"T\"},\"y\":{\"field\":\"deltaCalcite\"}},\"id\":\"1294\",\"type\":\"Line\"},{\"attributes\":{},\"id\":\"1214\",\"type\":\"UnionRenderers\"},{\"attributes\":{\"line_alpha\":0.2,\"line_cap\":\"round\",\"line_color\":\"indigo\",\"line_width\":3,\"x\":{\"field\":\"T\"},\"y\":{\"field\":\"deltaCalcite\"}},\"id\":\"1200\",\"type\":\"Line\"},{\"attributes\":{},\"id\":\"1215\",\"type\":\"Selection\"},{\"attributes\":{},\"id\":\"1228\",\"type\":\"LinearScale\"},{\"attributes\":{\"coordinates\":null,\"group\":null,\"items\":[{\"id\":\"1175\"},{\"id\":\"1195\"},{\"id\":\"1217\"}]},\"id\":\"1174\",\"type\":\"Legend\"},{\"attributes\":{\"coordinates\":null,\"group\":null,\"text\":\"CALCITE SOLUBILITY IN RAINWATER\"},\"id\":\"1220\",\"type\":\"Title\"},{\"attributes\":{\"line_alpha\":0.1,\"line_cap\":\"round\",\"line_color\":\"indigo\",\"line_width\":3,\"x\":{\"field\":\"T\"},\"y\":{\"field\":\"deltaCalcite\"}},\"id\":\"1295\",\"type\":\"Line\"},{\"attributes\":{},\"id\":\"1222\",\"type\":\"DataRange1d\"},{\"attributes\":{\"line_cap\":\"round\",\"line_color\":\"indigo\",\"line_width\":3,\"x\":{\"field\":\"T\"},\"y\":{\"field\":\"deltaCalcite\"}},\"id\":\"1198\",\"type\":\"Line\"},{\"attributes\":{\"label\":{\"value\":\"P = 1\"},\"renderers\":[{\"id\":\"1162\"}]},\"id\":\"1175\",\"type\":\"LegendItem\"},{\"attributes\":{\"coordinates\":null,\"data_source\":{\"id\":\"1292\"},\"glyph\":{\"id\":\"1294\"},\"group\":null,\"hover_glyph\":null,\"muted_glyph\":{\"id\":\"1296\"},\"nonselection_glyph\":{\"id\":\"1295\"},\"view\":{\"id\":\"1298\"}},\"id\":\"1297\",\"type\":\"GlyphRenderer\"},{\"attributes\":{\"callback\":null,\"tooltips\":[[\"delta(Calcite)\",\"@deltaCalcite mol\"],[\"P\",\"@P bar\"],[\"T\",\"@T \\u00b0C\"]]},\"id\":\"1122\",\"type\":\"HoverTool\"},{\"attributes\":{\"coordinates\":null,\"data_source\":{\"id\":\"1157\"},\"glyph\":{\"id\":\"1159\"},\"group\":null,\"hover_glyph\":null,\"muted_glyph\":{\"id\":\"1161\"},\"nonselection_glyph\":{\"id\":\"1160\"},\"view\":{\"id\":\"1163\"}},\"id\":\"1162\",\"type\":\"GlyphRenderer\"},{\"attributes\":{},\"id\":\"1126\",\"type\":\"DataRange1d\"},{\"attributes\":{\"line_alpha\":0.1,\"line_cap\":\"round\",\"line_color\":\"indigo\",\"line_width\":3,\"x\":{\"field\":\"T\"},\"y\":{\"field\":\"deltaCalcite\"}},\"id\":\"1199\",\"type\":\"Line\"},{\"attributes\":{\"data\":{\"P\":{\"__ndarray__\":\"AAAAAAAAJEAAAAAAAAAkQAAAAAAAACRAAAAAAAAAJEAAAAAAAAAkQAAAAAAAACRAAAAAAAAAJEAAAAAAAAAkQAAAAAAAACRAAAAAAAAAJEAAAAAAAAAkQAAAAAAAACRAAAAAAAAAJEAAAAAAAAAkQAAAAAAAACRA\",\"dtype\":\"float64\",\"order\":\"little\",\"shape\":[15]},\"T\":{\"__ndarray__\":\"AAAAAAAANEAAAAAAAAA5QAAAAAAAAD5AAAAAAACAQUAAAAAAAABEQAAAAAAAgEZAAAAAAAAASUAAAAAAAIBLQAAAAAAAAE5AAAAAAABAUEAAAAAAAIBRQAAAAAAAwFJAAAAAAAAAVEAAAAAAAEBVQAAAAAAAgFZA\",\"dtype\":\"float64\",\"order\":\"little\",\"shape\":[15]},\"deltaCalcite\":{\"__ndarray__\":\"AADIbSuPHT8AAPopIaIePwAAlqEOsB8/AACG1XNcID8AABv1ZN4gPwAAqrGGXSE/AAB5+T3ZIT8AAPXHS1EiPwAA6ORHxCI/AADopkgxIz8AAHMGapcjPwAAPHzX9SM/AACG615MJD8AAOkb1JkkPwAAIFiw3SQ/\",\"dtype\":\"float64\",\"order\":\"little\",\"shape\":[15]},\"index\":[15,16,17,18,19,20,21,22,23,24,25,26,27,28,29],\"pH\":{\"__ndarray__\":\"a02500kGJEBQ1Njpa8QjQK/uhrkJhSNAoT0nuvhHI0DPPMuIFw0jQF8suR9K1CJASxzNc3idIkADb2Xyj2giQDLNrUN7NSJAUaZBBykEIkCJfxUiidQhQM3ndYqMpiFAqn6x6id6IUC6d05+S08hQNge6x7rJSFA\",\"dtype\":\"float64\",\"order\":\"little\",\"shape\":[15]}},\"selected\":{\"id\":\"1193\"},\"selection_policy\":{\"id\":\"1192\"}},\"id\":\"1176\",\"type\":\"ColumnDataSource\"},{\"attributes\":{\"coordinates\":null,\"data_source\":{\"id\":\"1196\"},\"glyph\":{\"id\":\"1198\"},\"group\":null,\"hover_glyph\":null,\"muted_glyph\":{\"id\":\"1200\"},\"nonselection_glyph\":{\"id\":\"1199\"},\"view\":{\"id\":\"1202\"}},\"id\":\"1201\",\"type\":\"GlyphRenderer\"},{\"attributes\":{\"line_alpha\":0.1,\"line_cap\":\"round\",\"line_color\":\"teal\",\"line_width\":3,\"x\":{\"field\":\"T\"},\"y\":{\"field\":\"deltaCalcite\"}},\"id\":\"1160\",\"type\":\"Line\"},{\"attributes\":{\"coordinates\":null,\"group\":null,\"text\":\"CALCITE SOLUBILITY IN WATER\"},\"id\":\"1124\",\"type\":\"Title\"},{\"attributes\":{\"below\":[{\"id\":\"1134\"}],\"center\":[{\"id\":\"1137\"},{\"id\":\"1141\"},{\"id\":\"1174\"}],\"height\":300,\"left\":[{\"id\":\"1138\"}],\"renderers\":[{\"id\":\"1162\"},{\"id\":\"1181\"},{\"id\":\"1201\"}],\"sizing_mode\":\"scale_width\",\"title\":{\"id\":\"1124\"},\"toolbar\":{\"id\":\"1149\"},\"toolbar_location\":null,\"x_range\":{\"id\":\"1126\"},\"x_scale\":{\"id\":\"1130\"},\"y_range\":{\"id\":\"1128\"},\"y_scale\":{\"id\":\"1132\"}},\"id\":\"1123\",\"subtype\":\"Figure\",\"type\":\"Plot\"},{\"attributes\":{\"children\":[[{\"id\":\"1123\"},0,0],[{\"id\":\"1219\"},1,0]]},\"id\":\"1344\",\"type\":\"GridBox\"},{\"attributes\":{\"source\":{\"id\":\"1157\"}},\"id\":\"1163\",\"type\":\"CDSView\"},{\"attributes\":{\"source\":{\"id\":\"1292\"}},\"id\":\"1298\",\"type\":\"CDSView\"},{\"attributes\":{},\"id\":\"1146\",\"type\":\"ResetTool\"},{\"attributes\":{\"axis_label\":\"TEMPERATURE [\\u00b0C]\",\"coordinates\":null,\"formatter\":{\"id\":\"1169\"},\"group\":null,\"major_label_policy\":{\"id\":\"1170\"},\"ticker\":{\"id\":\"1135\"}},\"id\":\"1134\",\"type\":\"LinearAxis\"},{\"attributes\":{},\"id\":\"1147\",\"type\":\"HelpTool\"},{\"attributes\":{\"label\":{\"value\":\"P = 100\"},\"renderers\":[{\"id\":\"1297\"}]},\"id\":\"1313\",\"type\":\"LegendItem\"},{\"attributes\":{\"source\":{\"id\":\"1196\"}},\"id\":\"1202\",\"type\":\"CDSView\"},{\"attributes\":{},\"id\":\"1171\",\"type\":\"UnionRenderers\"},{\"attributes\":{\"line_alpha\":0.2,\"line_cap\":\"round\",\"line_color\":\"teal\",\"line_width\":3,\"x\":{\"field\":\"T\"},\"y\":{\"field\":\"deltaCalcite\"}},\"id\":\"1161\",\"type\":\"Line\"},{\"attributes\":{\"label\":{\"value\":\"P = 100\"},\"renderers\":[{\"id\":\"1201\"}]},\"id\":\"1217\",\"type\":\"LegendItem\"},{\"attributes\":{},\"id\":\"1226\",\"type\":\"LinearScale\"},{\"attributes\":{\"toolbar\":{\"id\":\"1345\"},\"toolbar_location\":\"above\"},\"id\":\"1346\",\"type\":\"ToolbarBox\"},{\"attributes\":{},\"id\":\"1266\",\"type\":\"AllLabels\"},{\"attributes\":{},\"id\":\"1231\",\"type\":\"BasicTicker\"},{\"attributes\":{\"axis\":{\"id\":\"1230\"},\"coordinates\":null,\"group\":null,\"ticker\":null},\"id\":\"1233\",\"type\":\"Grid\"},{\"attributes\":{},\"id\":\"1224\",\"type\":\"DataRange1d\"},{\"attributes\":{},\"id\":\"1135\",\"type\":\"BasicTicker\"},{\"attributes\":{},\"id\":\"1132\",\"type\":\"LinearScale\"},{\"attributes\":{\"axis_label\":\"TEMPERATURE [\\u00b0C]\",\"coordinates\":null,\"formatter\":{\"id\":\"1265\"},\"group\":null,\"major_label_policy\":{\"id\":\"1266\"},\"ticker\":{\"id\":\"1231\"}},\"id\":\"1230\",\"type\":\"LinearAxis\"},{\"attributes\":{},\"id\":\"1239\",\"type\":\"WheelZoomTool\"},{\"attributes\":{\"axis_label\":\"CALCITE SOLUBILITY [MOL/KG]\",\"coordinates\":null,\"formatter\":{\"id\":\"1262\"},\"group\":null,\"major_label_policy\":{\"id\":\"1263\"},\"ticker\":{\"id\":\"1235\"}},\"id\":\"1234\",\"type\":\"LinearAxis\"},{\"attributes\":{\"callback\":null,\"tooltips\":[[\"delta(Calcite)\",\"@deltaCalcite mol\"],[\"P\",\"@P bar\"],[\"T\",\"@T \\u00b0C\"]]},\"id\":\"1218\",\"type\":\"HoverTool\"},{\"attributes\":{\"axis\":{\"id\":\"1234\"},\"coordinates\":null,\"dimension\":1,\"group\":null,\"ticker\":null},\"id\":\"1237\",\"type\":\"Grid\"},{\"attributes\":{\"below\":[{\"id\":\"1230\"}],\"center\":[{\"id\":\"1233\"},{\"id\":\"1237\"},{\"id\":\"1270\"}],\"height\":300,\"left\":[{\"id\":\"1234\"}],\"renderers\":[{\"id\":\"1258\"},{\"id\":\"1277\"},{\"id\":\"1297\"}],\"sizing_mode\":\"scale_width\",\"title\":{\"id\":\"1220\"},\"toolbar\":{\"id\":\"1245\"},\"toolbar_location\":null,\"x_range\":{\"id\":\"1222\"},\"x_scale\":{\"id\":\"1226\"},\"y_range\":{\"id\":\"1224\"},\"y_scale\":{\"id\":\"1228\"}},\"id\":\"1219\",\"subtype\":\"Figure\",\"type\":\"Plot\"},{\"attributes\":{},\"id\":\"1235\",\"type\":\"BasicTicker\"},{\"attributes\":{},\"id\":\"1130\",\"type\":\"LinearScale\"},{\"attributes\":{\"data\":{\"P\":{\"__ndarray__\":\"AAAAAAAA8D8AAAAAAADwPwAAAAAAAPA/AAAAAAAA8D8AAAAAAADwPwAAAAAAAPA/AAAAAAAA8D8AAAAAAADwPwAAAAAAAPA/AAAAAAAA8D8AAAAAAADwPwAAAAAAAPA/AAAAAAAA8D8AAAAAAADwPwAAAAAAAPA/\",\"dtype\":\"float64\",\"order\":\"little\",\"shape\":[15]},\"T\":{\"__ndarray__\":\"AAAAAAAANEAAAAAAAAA5QAAAAAAAAD5AAAAAAACAQUAAAAAAAABEQAAAAAAAgEZAAAAAAAAASUAAAAAAAIBLQAAAAAAAAE5AAAAAAABAUEAAAAAAAIBRQAAAAAAAwFJAAAAAAAAAVEAAAAAAAEBVQAAAAAAAgFZA\",\"dtype\":\"float64\",\"order\":\"little\",\"shape\":[15]},\"deltaCalcite\":{\"__ndarray__\":\"AAAwexRJHT8AAExhxFwePwAAfmRpax8/AACtbHg6ID8AAGzhuLwgPwAA5R8gPCE/AADhQBK4IT8AAMAtTzAiPwAAmn9woyI/AADJlY0QIz8AALmsw3YjPwAAwZk/1SM/AABOp88rJD8AAPDiSXkkPwAAZsEovSQ/\",\"dtype\":\"float64\",\"order\":\"little\",\"shape\":[15]},\"index\":[0,1,2,3,4,5,6,7,8,9,10,11,12,13,14],\"pH\":{\"__ndarray__\":\"la5rmt4GJEA/eBB2+MQjQDuD/7WOhSNA08a23HZII0Ax7/CMjw0jQBL/bsC81CJA+MdoZuadIkAF+W7j+WgiQB1fYtPhNSJAHDg7yYwEIkDjuGOd6tQhQIBOhjrspiFAwJzhQIZ6IUClZJPjqE8hQHflDfZHJiFA\",\"dtype\":\"float64\",\"order\":\"little\",\"shape\":[15]}},\"selected\":{\"id\":\"1172\"},\"selection_policy\":{\"id\":\"1171\"}},\"id\":\"1157\",\"type\":\"ColumnDataSource\"},{\"attributes\":{},\"id\":\"1243\",\"type\":\"HelpTool\"},{\"attributes\":{\"line_cap\":\"round\",\"line_color\":\"darkred\",\"line_width\":3,\"x\":{\"field\":\"T\"},\"y\":{\"field\":\"deltaCalcite\"}},\"id\":\"1178\",\"type\":\"Line\"},{\"attributes\":{},\"id\":\"1238\",\"type\":\"PanTool\"},{\"attributes\":{},\"id\":\"1128\",\"type\":\"DataRange1d\"},{\"attributes\":{\"overlay\":{\"id\":\"1244\"}},\"id\":\"1240\",\"type\":\"BoxZoomTool\"},{\"attributes\":{\"axis\":{\"id\":\"1134\"},\"coordinates\":null,\"group\":null,\"ticker\":null},\"id\":\"1137\",\"type\":\"Grid\"},{\"attributes\":{},\"id\":\"1241\",\"type\":\"SaveTool\"},{\"attributes\":{},\"id\":\"1242\",\"type\":\"ResetTool\"},{\"attributes\":{},\"id\":\"1267\",\"type\":\"UnionRenderers\"},{\"attributes\":{},\"id\":\"1268\",\"type\":\"Selection\"},{\"attributes\":{\"data\":{\"P\":{\"__ndarray__\":\"AAAAAAAAJEAAAAAAAAAkQAAAAAAAACRAAAAAAAAAJEAAAAAAAAAkQAAAAAAAACRAAAAAAAAAJEAAAAAAAAAkQAAAAAAAACRAAAAAAAAAJEAAAAAAAAAkQAAAAAAAACRAAAAAAAAAJEAAAAAAAAAkQAAAAAAAACRA\",\"dtype\":\"float64\",\"order\":\"little\",\"shape\":[15]},\"T\":{\"__ndarray__\":\"AAAAAAAANEAAAAAAAAA5QAAAAAAAAD5AAAAAAACAQUAAAAAAAABEQAAAAAAAgEZAAAAAAAAASUAAAAAAAIBLQAAAAAAAAE5AAAAAAABAUEAAAAAAAIBRQAAAAAAAwFJAAAAAAAAAVEAAAAAAAEBVQAAAAAAAgFZA\",\"dtype\":\"float64\",\"order\":\"little\",\"shape\":[15]},\"deltaCalcite\":{\"__ndarray__\":\"AJrjr7uDmD8AlMMdvuWWPwD+LMvtyZQ/AGRuoUTjkj8A8E+RFiyRPwDEXDXQPo8/AGwoNqNxjD8AzEEto+6JPwBEJz2Rp4c/ACxubICWhT8AOGqHIbaDPwAMjquxAYI/ADwYF6V3gD8A+B5EfyF+PwDgerZek3s/\",\"dtype\":\"float64\",\"order\":\"little\",\"shape\":[15]},\"index\":[15,16,17,18,19,20,21,22,23,24,25,26,27,28,29],\"pH\":{\"__ndarray__\":\"WKF1YPOIFUC+hY1eoGwVQG2M3tZ1ZRVAM82Ziz9fFUAVA0W36VkVQJXmMGhjVRVArrA33J1RFUBmuTrDt04VQG/aR752TBVA6zmpYNBKFUCs0iM4u0kVQGkYSqkuSRVAyJzr4UVJFUBsKPAE1EkVQNrh0Y/SShVA\",\"dtype\":\"float64\",\"order\":\"little\",\"shape\":[15]}},\"selected\":{\"id\":\"1289\"},\"selection_policy\":{\"id\":\"1288\"}},\"id\":\"1272\",\"type\":\"ColumnDataSource\"},{\"attributes\":{},\"id\":\"1167\",\"type\":\"AllLabels\"},{\"attributes\":{\"label\":{\"value\":\"P = 10\"},\"renderers\":[{\"id\":\"1181\"}]},\"id\":\"1195\",\"type\":\"LegendItem\"},{\"attributes\":{\"bottom_units\":\"screen\",\"coordinates\":null,\"fill_alpha\":0.5,\"fill_color\":\"lightgrey\",\"group\":null,\"left_units\":\"screen\",\"level\":\"overlay\",\"line_alpha\":1.0,\"line_color\":\"black\",\"line_dash\":[4,4],\"line_width\":2,\"right_units\":\"screen\",\"syncable\":false,\"top_units\":\"screen\"},\"id\":\"1244\",\"type\":\"BoxAnnotation\"},{\"attributes\":{\"line_alpha\":0.2,\"line_cap\":\"round\",\"line_color\":\"teal\",\"line_width\":3,\"x\":{\"field\":\"T\"},\"y\":{\"field\":\"deltaCalcite\"}},\"id\":\"1257\",\"type\":\"Line\"},{\"attributes\":{\"tools\":[{\"id\":\"1238\"},{\"id\":\"1239\"},{\"id\":\"1240\"},{\"id\":\"1241\"},{\"id\":\"1242\"},{\"id\":\"1243\"},{\"id\":\"1218\"}]},\"id\":\"1245\",\"type\":\"Toolbar\"},{\"attributes\":{\"axis_label\":\"CALCITE SOLUBILITY [MOL/KG]\",\"coordinates\":null,\"formatter\":{\"id\":\"1166\"},\"group\":null,\"major_label_policy\":{\"id\":\"1167\"},\"ticker\":{\"id\":\"1139\"}},\"id\":\"1138\",\"type\":\"LinearAxis\"},{\"attributes\":{\"tools\":[{\"id\":\"1142\"},{\"id\":\"1143\"},{\"id\":\"1144\"},{\"id\":\"1145\"},{\"id\":\"1146\"},{\"id\":\"1147\"},{\"id\":\"1122\"}]},\"id\":\"1149\",\"type\":\"Toolbar\"},{\"attributes\":{},\"id\":\"1262\",\"type\":\"BasicTickFormatter\"},{\"attributes\":{\"data\":{\"P\":{\"__ndarray__\":\"AAAAAAAA8D8AAAAAAADwPwAAAAAAAPA/AAAAAAAA8D8AAAAAAADwPwAAAAAAAPA/AAAAAAAA8D8AAAAAAADwPwAAAAAAAPA/AAAAAAAA8D8AAAAAAADwPwAAAAAAAPA/AAAAAAAA8D8AAAAAAADwPwAAAAAAAPA/\",\"dtype\":\"float64\",\"order\":\"little\",\"shape\":[15]},\"T\":{\"__ndarray__\":\"AAAAAAAANEAAAAAAAAA5QAAAAAAAAD5AAAAAAACAQUAAAAAAAABEQAAAAAAAgEZAAAAAAAAASUAAAAAAAIBLQAAAAAAAAE5AAAAAAABAUEAAAAAAAIBRQAAAAAAAwFJAAAAAAAAAVEAAAAAAAEBVQAAAAAAAgFZA\",\"dtype\":\"float64\",\"order\":\"little\",\"shape\":[15]},\"deltaCalcite\":{\"__ndarray__\":\"APAoQarVgz8AlPFpABCCPwCInHT0d4A/ACCXI+oJfj8AQOcpfGd7PwAwiaCFAnk/ABC+kGHVdj8ACJt2Cd50PwCwoxPME3M/APC94XxycT8A0GUOnexvPwBw+geZN20/APDED7bCaj8AoAGmfIRoPwAw6fXsd2Y/\",\"dtype\":\"float64\",\"order\":\"little\",\"shape\":[15]},\"index\":[0,1,2,3,4,5,6,7,8,9,10,11,12,13,14],\"pH\":{\"__ndarray__\":\"a+jpSfzrF0A1PFrlFOUXQDPZO3tS3xdAykvuY3HaF0BcDwdKYNYXQDeiDukP0xdAs4dVoXLQF0DRmtJBm84XQB+jND9dzRdAA/kMha7MF0AL1cjchcwXQNEwdtXazBdAmmtcSL7NF0DQJJGbDs8XQKyR+0/F0BdA\",\"dtype\":\"float64\",\"order\":\"little\",\"shape\":[15]}},\"selected\":{\"id\":\"1268\"},\"selection_policy\":{\"id\":\"1267\"}},\"id\":\"1253\",\"type\":\"ColumnDataSource\"},{\"attributes\":{\"toolbars\":[{\"id\":\"1149\"},{\"id\":\"1245\"}],\"tools\":[{\"id\":\"1142\"},{\"id\":\"1143\"},{\"id\":\"1144\"},{\"id\":\"1145\"},{\"id\":\"1146\"},{\"id\":\"1147\"},{\"id\":\"1122\"},{\"id\":\"1238\"},{\"id\":\"1239\"},{\"id\":\"1240\"},{\"id\":\"1241\"},{\"id\":\"1242\"},{\"id\":\"1243\"},{\"id\":\"1218\"}]},\"id\":\"1345\",\"type\":\"ProxyToolbar\"},{\"attributes\":{\"line_cap\":\"round\",\"line_color\":\"teal\",\"line_width\":3,\"x\":{\"field\":\"T\"},\"y\":{\"field\":\"deltaCalcite\"}},\"id\":\"1255\",\"type\":\"Line\"},{\"attributes\":{\"line_alpha\":0.1,\"line_cap\":\"round\",\"line_color\":\"teal\",\"line_width\":3,\"x\":{\"field\":\"T\"},\"y\":{\"field\":\"deltaCalcite\"}},\"id\":\"1256\",\"type\":\"Line\"},{\"attributes\":{},\"id\":\"1139\",\"type\":\"BasicTicker\"},{\"attributes\":{\"axis\":{\"id\":\"1138\"},\"coordinates\":null,\"dimension\":1,\"group\":null,\"ticker\":null},\"id\":\"1141\",\"type\":\"Grid\"},{\"attributes\":{\"line_cap\":\"round\",\"line_color\":\"teal\",\"line_width\":3,\"x\":{\"field\":\"T\"},\"y\":{\"field\":\"deltaCalcite\"}},\"id\":\"1159\",\"type\":\"Line\"},{\"attributes\":{\"coordinates\":null,\"data_source\":{\"id\":\"1253\"},\"glyph\":{\"id\":\"1255\"},\"group\":null,\"hover_glyph\":null,\"muted_glyph\":{\"id\":\"1257\"},\"nonselection_glyph\":{\"id\":\"1256\"},\"view\":{\"id\":\"1259\"}},\"id\":\"1258\",\"type\":\"GlyphRenderer\"},{\"attributes\":{},\"id\":\"1172\",\"type\":\"Selection\"},{\"attributes\":{\"label\":{\"value\":\"P = 1\"},\"renderers\":[{\"id\":\"1258\"}]},\"id\":\"1271\",\"type\":\"LegendItem\"},{\"attributes\":{\"data\":{\"P\":{\"__ndarray__\":\"AAAAAAAAWUAAAAAAAABZQAAAAAAAAFlAAAAAAAAAWUAAAAAAAABZQAAAAAAAAFlAAAAAAAAAWUAAAAAAAABZQAAAAAAAAFlAAAAAAAAAWUAAAAAAAABZQAAAAAAAAFlAAAAAAAAAWUAAAAAAAABZQAAAAAAAAFlA\",\"dtype\":\"float64\",\"order\":\"little\",\"shape\":[15]},\"T\":{\"__ndarray__\":\"AAAAAAAANEAAAAAAAAA5QAAAAAAAAD5AAAAAAACAQUAAAAAAAABEQAAAAAAAgEZAAAAAAAAASUAAAAAAAIBLQAAAAAAAAE5AAAAAAABAUEAAAAAAAIBRQAAAAAAAwFJAAAAAAAAAVEAAAAAAAEBVQAAAAAAAgFZA\",\"dtype\":\"float64\",\"order\":\"little\",\"shape\":[15]},\"deltaCalcite\":{\"__ndarray__\":\"AAAzQFM3ID8AAAlaTbwgPwAAxDzUPiE/AACJvAS/IT8AAM1RET0iPwAAr027uCI/AABEKHExIz8AADSF/6YjPwAAqbDrFyQ/AACgaUGDJD8AAMp1D+gkPwAA2vVyRSU/AABSIDWbJT8AAE7fEeglPwAALf51KyY/\",\"dtype\":\"float64\",\"order\":\"little\",\"shape\":[15]},\"index\":[30,31,32,33,34,35,36,37,38,39,40,41,42,43,44],\"pH\":{\"__ndarray__\":\"t1PlJm0AJEC+nkx44b4jQNcPeC/LfyNAJZjnQv9CI0BdplUEXAgjQECEDGLFzyJAkfDHeiOZIkDx1AMIZGQiQEv3rSVyMSJAasYL7TwAIkBCqmu+tNAhQJBhcwTLoiFA0aIfz3R2IUAyEW6xokshQLpAY8ZIIiFA\",\"dtype\":\"float64\",\"order\":\"little\",\"shape\":[15]}},\"selected\":{\"id\":\"1215\"},\"selection_policy\":{\"id\":\"1214\"}},\"id\":\"1196\",\"type\":\"ColumnDataSource\"},{\"attributes\":{\"data\":{\"P\":{\"__ndarray__\":\"AAAAAAAAWUAAAAAAAABZQAAAAAAAAFlAAAAAAAAAWUAAAAAAAABZQAAAAAAAAFlAAAAAAAAAWUAAAAAAAABZQAAAAAAAAFlAAAAAAAAAWUAAAAAAAABZQAAAAAAAAFlAAAAAAAAAWUAAAAAAAABZQAAAAAAAAFlA\",\"dtype\":\"float64\",\"order\":\"little\",\"shape\":[15]},\"T\":{\"__ndarray__\":\"AAAAAAAANEAAAAAAAAA5QAAAAAAAAD5AAAAAAACAQUAAAAAAAABEQAAAAAAAgEZAAAAAAAAASUAAAAAAAIBLQAAAAAAAAE5AAAAAAABAUEAAAAAAAIBRQAAAAAAAwFJAAAAAAAAAVEAAAAAAAEBVQAAAAAAAgFZA\",\"dtype\":\"float64\",\"order\":\"little\",\"shape\":[15]},\"deltaCalcite\":{\"__ndarray__\":\"ACwvZEqdmj8AJBIzjJSZPwDM9pVjhJg/ANq0C2polz8Ahvnqa0WWPwAkpUd2H5U/AByOkOz5kz8ALsvtTNySPwAOtO1iw5E/AH48IRKxkD8AALTetU2PPwCw2fXNS40/ANgsVHljiz8AkMnBl4+JPwBsS7AR0Yc/\",\"dtype\":\"float64\",\"order\":\"little\",\"shape\":[15]},\"index\":[30,31,32,33,34,35,36,37,38,39,40,41,42,43,44],\"pH\":{\"__ndarray__\":\"rW/f4C+BFUDBm3JowFAVQAT7J7rHJBVAK20at6X8FEAt9nYqDNgUQG/0F9q2thRAaYn/ommYFEBaKFa8IX0UQBX/BPF5ZBRARYHT9EZOFEBqF6WMYToUQLwMfQCmKBRADrblBh4ZFEB34cydfgsUQLrUkDKs/xNA\",\"dtype\":\"float64\",\"order\":\"little\",\"shape\":[15]}},\"selected\":{\"id\":\"1311\"},\"selection_policy\":{\"id\":\"1310\"}},\"id\":\"1292\",\"type\":\"ColumnDataSource\"},{\"attributes\":{},\"id\":\"1192\",\"type\":\"UnionRenderers\"},{\"attributes\":{},\"id\":\"1166\",\"type\":\"BasicTickFormatter\"},{\"attributes\":{\"line_cap\":\"round\",\"line_color\":\"darkred\",\"line_width\":3,\"x\":{\"field\":\"T\"},\"y\":{\"field\":\"deltaCalcite\"}},\"id\":\"1274\",\"type\":\"Line\"},{\"attributes\":{\"label\":{\"value\":\"P = 10\"},\"renderers\":[{\"id\":\"1277\"}]},\"id\":\"1291\",\"type\":\"LegendItem\"},{\"attributes\":{\"coordinates\":null,\"group\":null,\"items\":[{\"id\":\"1271\"},{\"id\":\"1291\"},{\"id\":\"1313\"}]},\"id\":\"1270\",\"type\":\"Legend\"},{\"attributes\":{},\"id\":\"1263\",\"type\":\"AllLabels\"},{\"attributes\":{\"line_alpha\":0.1,\"line_cap\":\"round\",\"line_color\":\"darkred\",\"line_width\":3,\"x\":{\"field\":\"T\"},\"y\":{\"field\":\"deltaCalcite\"}},\"id\":\"1275\",\"type\":\"Line\"},{\"attributes\":{\"bottom_units\":\"screen\",\"coordinates\":null,\"fill_alpha\":0.5,\"fill_color\":\"lightgrey\",\"group\":null,\"left_units\":\"screen\",\"level\":\"overlay\",\"line_alpha\":1.0,\"line_color\":\"black\",\"line_dash\":[4,4],\"line_width\":2,\"right_units\":\"screen\",\"syncable\":false,\"top_units\":\"screen\"},\"id\":\"1148\",\"type\":\"BoxAnnotation\"},{\"attributes\":{},\"id\":\"1170\",\"type\":\"AllLabels\"},{\"attributes\":{\"line_alpha\":0.2,\"line_cap\":\"round\",\"line_color\":\"darkred\",\"line_width\":3,\"x\":{\"field\":\"T\"},\"y\":{\"field\":\"deltaCalcite\"}},\"id\":\"1276\",\"type\":\"Line\"},{\"attributes\":{\"coordinates\":null,\"data_source\":{\"id\":\"1272\"},\"glyph\":{\"id\":\"1274\"},\"group\":null,\"hover_glyph\":null,\"muted_glyph\":{\"id\":\"1276\"},\"nonselection_glyph\":{\"id\":\"1275\"},\"view\":{\"id\":\"1278\"}},\"id\":\"1277\",\"type\":\"GlyphRenderer\"},{\"attributes\":{\"source\":{\"id\":\"1272\"}},\"id\":\"1278\",\"type\":\"CDSView\"},{\"attributes\":{\"source\":{\"id\":\"1176\"}},\"id\":\"1182\",\"type\":\"CDSView\"},{\"attributes\":{\"line_alpha\":0.1,\"line_cap\":\"round\",\"line_color\":\"darkred\",\"line_width\":3,\"x\":{\"field\":\"T\"},\"y\":{\"field\":\"deltaCalcite\"}},\"id\":\"1179\",\"type\":\"Line\"},{\"attributes\":{\"source\":{\"id\":\"1253\"}},\"id\":\"1259\",\"type\":\"CDSView\"},{\"attributes\":{},\"id\":\"1145\",\"type\":\"SaveTool\"},{\"attributes\":{},\"id\":\"1169\",\"type\":\"BasicTickFormatter\"},{\"attributes\":{},\"id\":\"1143\",\"type\":\"WheelZoomTool\"},{\"attributes\":{},\"id\":\"1142\",\"type\":\"PanTool\"},{\"attributes\":{},\"id\":\"1193\",\"type\":\"Selection\"},{\"attributes\":{},\"id\":\"1289\",\"type\":\"Selection\"},{\"attributes\":{},\"id\":\"1265\",\"type\":\"BasicTickFormatter\"},{\"attributes\":{},\"id\":\"1288\",\"type\":\"UnionRenderers\"},{\"attributes\":{\"overlay\":{\"id\":\"1148\"}},\"id\":\"1144\",\"type\":\"BoxZoomTool\"},{\"attributes\":{\"line_alpha\":0.2,\"line_cap\":\"round\",\"line_color\":\"darkred\",\"line_width\":3,\"x\":{\"field\":\"T\"},\"y\":{\"field\":\"deltaCalcite\"}},\"id\":\"1180\",\"type\":\"Line\"},{\"attributes\":{\"coordinates\":null,\"data_source\":{\"id\":\"1176\"},\"glyph\":{\"id\":\"1178\"},\"group\":null,\"hover_glyph\":null,\"muted_glyph\":{\"id\":\"1180\"},\"nonselection_glyph\":{\"id\":\"1179\"},\"view\":{\"id\":\"1182\"}},\"id\":\"1181\",\"type\":\"GlyphRenderer\"}],\"root_ids\":[\"1347\"]},\"title\":\"Bokeh Application\",\"version\":\"2.4.3\"}};\n  const render_items = [{\"docid\":\"b2329899-f614-4756-9909-9d416688ec24\",\"root_ids\":[\"1347\"],\"roots\":{\"1347\":\"fc8ca81f-996b-4ddf-b6cb-49defcbf954e\"}}];\n  root.Bokeh.embed.embed_items_notebook(docs_json, render_items);\n  }\n  if (root.Bokeh !== undefined) {\n    embed_document(root);\n  } else {\n    let attempts = 0;\n    const timer = setInterval(function(root) {\n      if (root.Bokeh !== undefined) {\n        clearInterval(timer);\n        embed_document(root);\n      } else {\n        attempts++;\n        if (attempts > 100) {\n          clearInterval(timer);\n          console.log(\"Bokeh: ERROR: Unable to run BokehJS code because BokehJS library is missing\");\n        }\n      }\n    }, 10, root)\n  }\n})(window);",
      "application/vnd.bokehjs_exec.v0+json": ""
     },
     "metadata": {
      "application/vnd.bokehjs_exec.v0+json": {
       "id": "1347"
      }
     },
     "output_type": "display_data"
    }
   ],
   "source": [
    "from bokeh.models import HoverTool, Legend\n",
    "from bokeh.plotting import gridplot\n",
    "from bokeh.models import ColumnDataSource\n",
    "colors = ['teal', 'darkred', 'indigo', 'coral']\n",
    "\n",
    "# ----------------------------------- #\n",
    "# Plot calcite solubility in water\n",
    "# ----------------------------------- #\n",
    "hovertool1 = HoverTool()\n",
    "hovertool1.tooltips = [(\"delta(Calcite)\", \"@deltaCalcite mol\"), \n",
    "                       (\"P\", \"@P bar\"), \n",
    "                       (\"T\", \"@T °C\")]\n",
    "p1 = figure(\n",
    "    title=\"CALCITE SOLUBILITY IN WATER\",\n",
    "    x_axis_label=r'TEMPERATURE [°C]',\n",
    "    y_axis_label='CALCITE SOLUBILITY [MOL/KG]',\n",
    "    sizing_mode=\"scale_width\",\n",
    "    plot_height=300)\n",
    "\n",
    "p1.add_tools(hovertool1)\n",
    "\n",
    "for P, color in zip(pressures, colors):\n",
    "    df_water_P = ColumnDataSource(df_water[df_water['P'] == P])\n",
    "    p1.line(\"T\", \"deltaCalcite\", legend_label=f'P = {P}', line_width=3, line_cap=\"round\", line_color=color, source=df_water_P)\n",
    "\n",
    "p1.legend.location = 'top_right'\n",
    "\n",
    "# ----------------------------------- #\n",
    "# Plot calcite solubility in rainwater\n",
    "# ----------------------------------- #\n",
    "hovertool2 = HoverTool()\n",
    "hovertool2.tooltips = [(\"delta(Calcite)\", \"@deltaCalcite mol\"),\n",
    "                       (\"P\", \"@P bar\"),\n",
    "                       (\"T\", \"@T °C\"),]\n",
    "\n",
    "p2 = figure(\n",
    "    title=\"CALCITE SOLUBILITY IN RAINWATER\",\n",
    "    x_axis_label=r'TEMPERATURE [°C]',\n",
    "    y_axis_label='CALCITE SOLUBILITY [MOL/KG]',\n",
    "    sizing_mode=\"scale_width\",\n",
    "    plot_height=300)\n",
    "\n",
    "p2.add_tools(hovertool2)\n",
    "\n",
    "for P, color in zip(pressures, colors):\n",
    "    df_rainwater_P = ColumnDataSource(df_rainwater[df_water['P'] == P])\n",
    "    p2.line(\"T\", \"deltaCalcite\", legend_label=f'P = {P}', line_width=3, line_cap=\"round\", line_color=color, source=df_rainwater_P)\n",
    "\n",
    "grid = gridplot([[p1], [p2]])\n",
    "\n",
    "show(grid)"
   ]
  },
  {
   "cell_type": "markdown",
   "metadata": {},
   "source": [
    "### Solubility of calcite in the seawater with increasing levels of CO<sub>2</sub>\n",
    "\n",
    "Subsequent auxiliary variables are defined to store the initial amount of CO<sub>2</sub> and its incremental amount in the calculation sequence. At each iteration of the following loop, CO2 is added to the seawater and the system is rebalanced.\n",
    "The amount of carbon dioxide added and the corresponding pH value are recorded in a `pandas.DataFrame`."
   ]
  },
  {
   "cell_type": "code",
   "execution_count": 9,
   "metadata": {
    "collapsed": false,
    "jupyter": {
     "outputs_hidden": false
    }
   },
   "outputs": [],
   "source": [
    "co2_0 = 0.0\n",
    "co2_delta = 2.0 # in mmol\n",
    "nsteps = 50\n",
    "\n",
    "df_seawater = pd.DataFrame(columns=[\"amountCO2\", \"pH\", \"deltaCalcite\"])\n",
    "\n",
    "T = 25\n",
    "P = 1\n",
    "\n",
    "for i in range(nsteps):\n",
    "\n",
    "    # Initial amount of calcite\n",
    "    n0Calcite = 10.0\n",
    "\n",
    "    conditions.temperature(T, \"celsius\")\n",
    "    conditions.pressure(P, \"bar\")\n",
    "\n",
    "    # Add more CO2 to the problem\n",
    "    state = seawater()\n",
    "    state.set(\"CO2(g)\", co2_0, \"mmol\")\n",
    "    state.set(\"O2(aq)\", 1.0e-9, \"mol\")  # this small amount of O2(aq) is needed to avoid convergence failure in the computation below!\n",
    "\n",
    "    # Equilibrate the solution given by the chemical state and conditions\n",
    "    res = solver.solve(state, conditions)\n",
    "    \n",
    "    # Check calculation succeeded\n",
    "    assert res.succeeded(), f\"The calculation failed at step #{i}\"\n",
    "\n",
    "    # Add `n0Calcite` amount of calcite\n",
    "    state.set(\"Calcite\", n0Calcite, \"mol\")\n",
    "\n",
    "    # Equilibrate solution with added calcite\n",
    "    res = solver.solve(state, conditions)\n",
    "\n",
    "    # Check calculation succeeded\n",
    "    assert res.succeeded(), f\"The calculation failed at step #{i}\"\n",
    "\n",
    "    # Update aqueous properties\n",
    "    aprops.update(state)\n",
    "\n",
    "    # Fetch the amount of final calcite in the equilibrium state\n",
    "    nCalcite = float(state.speciesAmount(\"Calcite\"))\n",
    "\n",
    "    # Update CO2 amount\n",
    "    co2_0 += co2_delta\n",
    "\n",
    "    # Append new calculated value to the dataframe\n",
    "    df_seawater.loc[len(df_seawater)] = [co2_0, float(aprops.pH()), n0Calcite - nCalcite]"
   ]
  },
  {
   "cell_type": "markdown",
   "metadata": {},
   "source": [
    "To analyze the results obtained, the pH and calcite solubility are plotted as a function of the amount of CO<sub>2</sub> added to the seawater."
   ]
  },
  {
   "cell_type": "code",
   "execution_count": 10,
   "metadata": {
    "collapsed": false,
    "jupyter": {
     "outputs_hidden": false
    },
    "tags": [
     "hide_input"
    ]
   },
   "outputs": [
    {
     "data": {
      "text/html": [
       "\n",
       "  <div class=\"bk-root\" id=\"f5125182-651b-4a45-ad42-e3b42c526ce2\" data-root-id=\"1636\"></div>\n"
      ]
     },
     "metadata": {},
     "output_type": "display_data"
    },
    {
     "data": {
      "application/javascript": "(function(root) {\n  function embed_document(root) {\n  const docs_json = {\"3a983014-aa46-4f9a-a66b-b3569e24d53c\":{\"defs\":[],\"roots\":{\"references\":[{\"attributes\":{\"children\":[{\"id\":\"1635\"},{\"id\":\"1633\"}]},\"id\":\"1636\",\"type\":\"Column\"},{\"attributes\":{},\"id\":\"1551\",\"type\":\"SaveTool\"},{\"attributes\":{\"overlay\":{\"id\":\"1595\"}},\"id\":\"1591\",\"type\":\"BoxZoomTool\"},{\"attributes\":{},\"id\":\"1614\",\"type\":\"AllLabels\"},{\"attributes\":{},\"id\":\"1545\",\"type\":\"BasicTicker\"},{\"attributes\":{},\"id\":\"1616\",\"type\":\"BasicTickFormatter\"},{\"attributes\":{},\"id\":\"1549\",\"type\":\"WheelZoomTool\"},{\"attributes\":{},\"id\":\"1582\",\"type\":\"BasicTicker\"},{\"attributes\":{\"axis_label\":\"CO2 AMOUNT [MMOL]\",\"coordinates\":null,\"formatter\":{\"id\":\"1616\"},\"group\":null,\"major_label_policy\":{\"id\":\"1617\"},\"ticker\":{\"id\":\"1541\"}},\"id\":\"1540\",\"type\":\"LinearAxis\"},{\"attributes\":{},\"id\":\"1624\",\"type\":\"BasicTickFormatter\"},{\"attributes\":{\"below\":[{\"id\":\"1540\"}],\"center\":[{\"id\":\"1543\"},{\"id\":\"1547\"}],\"height\":300,\"left\":[{\"id\":\"1544\"}],\"renderers\":[{\"id\":\"1568\"}],\"sizing_mode\":\"scale_width\",\"title\":{\"id\":\"1530\"},\"toolbar\":{\"id\":\"1555\"},\"toolbar_location\":null,\"x_range\":{\"id\":\"1532\"},\"x_scale\":{\"id\":\"1536\"},\"y_range\":{\"id\":\"1534\"},\"y_scale\":{\"id\":\"1538\"}},\"id\":\"1529\",\"subtype\":\"Figure\",\"type\":\"Plot\"},{\"attributes\":{},\"id\":\"1534\",\"type\":\"DataRange1d\"},{\"attributes\":{\"coordinates\":null,\"data_source\":{\"id\":\"1604\"},\"glyph\":{\"id\":\"1606\"},\"group\":null,\"hover_glyph\":null,\"muted_glyph\":{\"id\":\"1608\"},\"nonselection_glyph\":{\"id\":\"1607\"},\"view\":{\"id\":\"1610\"}},\"id\":\"1609\",\"type\":\"GlyphRenderer\"},{\"attributes\":{},\"id\":\"1617\",\"type\":\"AllLabels\"},{\"attributes\":{\"tools\":[{\"id\":\"1589\"},{\"id\":\"1590\"},{\"id\":\"1591\"},{\"id\":\"1592\"},{\"id\":\"1593\"},{\"id\":\"1594\"},{\"id\":\"1528\"}]},\"id\":\"1596\",\"type\":\"Toolbar\"},{\"attributes\":{\"toolbar\":{\"id\":\"1634\"},\"toolbar_location\":\"above\"},\"id\":\"1635\",\"type\":\"ToolbarBox\"},{\"attributes\":{\"axis\":{\"id\":\"1540\"},\"coordinates\":null,\"group\":null,\"ticker\":null},\"id\":\"1543\",\"type\":\"Grid\"},{\"attributes\":{\"axis\":{\"id\":\"1585\"},\"coordinates\":null,\"dimension\":1,\"group\":null,\"ticker\":null},\"id\":\"1588\",\"type\":\"Grid\"},{\"attributes\":{},\"id\":\"1625\",\"type\":\"AllLabels\"},{\"attributes\":{\"line_cap\":\"round\",\"line_color\":\"indigo\",\"line_width\":3,\"x\":{\"field\":\"amountCO2\"},\"y\":{\"field\":\"pH\"}},\"id\":\"1565\",\"type\":\"Line\"},{\"attributes\":{},\"id\":\"1538\",\"type\":\"LinearScale\"},{\"attributes\":{},\"id\":\"1590\",\"type\":\"WheelZoomTool\"},{\"attributes\":{\"coordinates\":null,\"group\":null,\"text\":\"PH DEPENDENCE ON AMOUNT OF ADDED CO2 TO THE SEAWATER\"},\"id\":\"1530\",\"type\":\"Title\"},{\"attributes\":{},\"id\":\"1627\",\"type\":\"BasicTickFormatter\"},{\"attributes\":{\"overlay\":{\"id\":\"1554\"}},\"id\":\"1550\",\"type\":\"BoxZoomTool\"},{\"attributes\":{},\"id\":\"1575\",\"type\":\"DataRange1d\"},{\"attributes\":{},\"id\":\"1541\",\"type\":\"BasicTicker\"},{\"attributes\":{\"data\":{\"amountCO2\":{\"__ndarray__\":\"AAAAAAAAAEAAAAAAAAAQQAAAAAAAABhAAAAAAAAAIEAAAAAAAAAkQAAAAAAAAChAAAAAAAAALEAAAAAAAAAwQAAAAAAAADJAAAAAAAAANEAAAAAAAAA2QAAAAAAAADhAAAAAAAAAOkAAAAAAAAA8QAAAAAAAAD5AAAAAAAAAQEAAAAAAAABBQAAAAAAAAEJAAAAAAAAAQ0AAAAAAAABEQAAAAAAAAEVAAAAAAAAARkAAAAAAAABHQAAAAAAAAEhAAAAAAAAASUAAAAAAAABKQAAAAAAAAEtAAAAAAAAATEAAAAAAAABNQAAAAAAAAE5AAAAAAAAAT0AAAAAAAABQQAAAAAAAgFBAAAAAAAAAUUAAAAAAAIBRQAAAAAAAAFJAAAAAAACAUkAAAAAAAABTQAAAAAAAgFNAAAAAAAAAVEAAAAAAAIBUQAAAAAAAAFVAAAAAAACAVUAAAAAAAABWQAAAAAAAgFZAAAAAAAAAV0AAAAAAAIBXQAAAAAAAAFhAAAAAAACAWEAAAAAAAABZQA==\",\"dtype\":\"float64\",\"order\":\"little\",\"shape\":[50]},\"deltaCalcite\":{\"__ndarray__\":\"AAAAAAAAAAAAQAtwoz1XPwBAL1jEWWU/APCDYSh8bT8AeFBMk0FyPwCoZ7JOXXU/AECrZbopeD8A4OdLdbd6PwCYG+9LEn0/ADB7NuxCfz8AUMSe9KeAPwC0Qc4un4E/ALxMbSqJgj8AQOkniWeDPwDI9RqhO4Q/AJDMP44GhT8ABGQSP8mFPwCUQ+99hIY/ADiLIvg4hz8AkBVPQ+eHPwAwEaDhj4g/ACyd0RzhiD8ALJ3RHOGIPwAsndEc4Yg/ACyd0RzhiD8ALJ3RHOGIPwAsndEc4Yg/ACyd0RzhiD8ALJ3RHOGIPwAsndEc4Yg/ACyd0RzhiD8ALJ3RHOGIPwAsndEc4Yg/ACyd0RzhiD8ALJ3RHOGIPwAcndEc4Yg/AByd0RzhiD8AHJ3RHOGIPwAcndEc4Yg/AByd0RzhiD8AHJ3RHOGIPwAcndEc4Yg/AByd0RzhiD8AHJ3RHOGIPwAcndEc4Yg/AByd0RzhiD8AHJ3RHOGIPwAcndEc4Yg/AByd0RzhiD8AHJ3RHOGIPw==\",\"dtype\":\"float64\",\"order\":\"little\",\"shape\":[50]},\"index\":[0,1,2,3,4,5,6,7,8,9,10,11,12,13,14,15,16,17,18,19,20,21,22,23,24,25,26,27,28,29,30,31,32,33,34,35,36,37,38,39,40,41,42,43,44,45,46,47,48,49],\"pH\":{\"__ndarray__\":\"FYrANdiqHUDV+ix5EO4bQD3L62gzHBtAoPxjHgKVGkCLahjgbTIaQMYdcdtl5RlA7RvNqHamGUAzkQz4a3EZQGdibfGtQxlA6GDv04cbGUA94DTIy/cYQBb0EvKg1xhArhuWiWa6GEDbLM02op8YQFUil9L0hhhABdkU9xJwGEDdmqntv1oYQHRuECLKRhhA7SMElwg0GEDsqukJWSIYQEWyJ5CeERhAP4Dbg7AJGEAxgNuDsAkYQDKA24OwCRhANIDbg7AJGEAsgNuDsAkYQCCA24OwCRhALoDbg7AJGEAjgNuDsAkYQDGA24OwCRhAMoDbg7AJGEAogNuDsAkYQCiA24OwCRhALYDbg7AJGEAqgNuDsAkYQGqB24OwCRhAW4Hbg7AJGEBcgduDsAkYQFyB24OwCRhAWYHbg7AJGEBkgduDsAkYQGqB24OwCRhAVoHbg7AJGEBkgduDsAkYQGiB24OwCRhAaIHbg7AJGEBkgduDsAkYQGiB24OwCRhAaIHbg7AJGEBjgduDsAkYQA==\",\"dtype\":\"float64\",\"order\":\"little\",\"shape\":[50]}},\"selected\":{\"id\":\"1630\"},\"selection_policy\":{\"id\":\"1629\"}},\"id\":\"1604\",\"type\":\"ColumnDataSource\"},{\"attributes\":{},\"id\":\"1628\",\"type\":\"AllLabels\"},{\"attributes\":{\"callback\":null,\"tooltips\":[[\"amount(CO2)\",\"@amountCO2 mmol\"],[\"pH\",\"@pH\"],[\"delta(Calcite)\",\"@deltaCalcite\"]]},\"id\":\"1528\",\"type\":\"HoverTool\"},{\"attributes\":{},\"id\":\"1618\",\"type\":\"UnionRenderers\"},{\"attributes\":{\"children\":[[{\"id\":\"1529\"},0,0],[{\"id\":\"1570\"},1,0]]},\"id\":\"1633\",\"type\":\"GridBox\"},{\"attributes\":{},\"id\":\"1589\",\"type\":\"PanTool\"},{\"attributes\":{\"line_alpha\":0.1,\"line_cap\":\"round\",\"line_color\":\"coral\",\"line_width\":3,\"x\":{\"field\":\"amountCO2\"},\"y\":{\"field\":\"deltaCalcite\"}},\"id\":\"1607\",\"type\":\"Line\"},{\"attributes\":{},\"id\":\"1619\",\"type\":\"Selection\"},{\"attributes\":{\"line_alpha\":0.1,\"line_cap\":\"round\",\"line_color\":\"indigo\",\"line_width\":3,\"x\":{\"field\":\"amountCO2\"},\"y\":{\"field\":\"pH\"}},\"id\":\"1566\",\"type\":\"Line\"},{\"attributes\":{\"below\":[{\"id\":\"1581\"}],\"center\":[{\"id\":\"1584\"},{\"id\":\"1588\"}],\"height\":300,\"left\":[{\"id\":\"1585\"}],\"renderers\":[{\"id\":\"1609\"}],\"sizing_mode\":\"scale_width\",\"title\":{\"id\":\"1571\"},\"toolbar\":{\"id\":\"1596\"},\"toolbar_location\":null,\"x_range\":{\"id\":\"1573\"},\"x_scale\":{\"id\":\"1577\"},\"y_range\":{\"id\":\"1575\"},\"y_scale\":{\"id\":\"1579\"}},\"id\":\"1570\",\"subtype\":\"Figure\",\"type\":\"Plot\"},{\"attributes\":{\"bottom_units\":\"screen\",\"coordinates\":null,\"fill_alpha\":0.5,\"fill_color\":\"lightgrey\",\"group\":null,\"left_units\":\"screen\",\"level\":\"overlay\",\"line_alpha\":1.0,\"line_color\":\"black\",\"line_dash\":[4,4],\"line_width\":2,\"right_units\":\"screen\",\"syncable\":false,\"top_units\":\"screen\"},\"id\":\"1595\",\"type\":\"BoxAnnotation\"},{\"attributes\":{\"axis_label\":\"CALCITE SOLUBILITY [MOL]\",\"coordinates\":null,\"formatter\":{\"id\":\"1624\"},\"group\":null,\"major_label_policy\":{\"id\":\"1625\"},\"ticker\":{\"id\":\"1586\"}},\"id\":\"1585\",\"type\":\"LinearAxis\"},{\"attributes\":{},\"id\":\"1548\",\"type\":\"PanTool\"},{\"attributes\":{\"axis\":{\"id\":\"1581\"},\"coordinates\":null,\"group\":null,\"ticker\":null},\"id\":\"1584\",\"type\":\"Grid\"},{\"attributes\":{},\"id\":\"1629\",\"type\":\"UnionRenderers\"},{\"attributes\":{\"line_cap\":\"round\",\"line_color\":\"coral\",\"line_width\":3,\"x\":{\"field\":\"amountCO2\"},\"y\":{\"field\":\"deltaCalcite\"}},\"id\":\"1606\",\"type\":\"Line\"},{\"attributes\":{\"coordinates\":null,\"data_source\":{\"id\":\"1563\"},\"glyph\":{\"id\":\"1565\"},\"group\":null,\"hover_glyph\":null,\"muted_glyph\":{\"id\":\"1567\"},\"nonselection_glyph\":{\"id\":\"1566\"},\"view\":{\"id\":\"1569\"}},\"id\":\"1568\",\"type\":\"GlyphRenderer\"},{\"attributes\":{},\"id\":\"1592\",\"type\":\"SaveTool\"},{\"attributes\":{},\"id\":\"1573\",\"type\":\"DataRange1d\"},{\"attributes\":{\"line_alpha\":0.2,\"line_cap\":\"round\",\"line_color\":\"coral\",\"line_width\":3,\"x\":{\"field\":\"amountCO2\"},\"y\":{\"field\":\"deltaCalcite\"}},\"id\":\"1608\",\"type\":\"Line\"},{\"attributes\":{},\"id\":\"1630\",\"type\":\"Selection\"},{\"attributes\":{\"source\":{\"id\":\"1604\"}},\"id\":\"1610\",\"type\":\"CDSView\"},{\"attributes\":{},\"id\":\"1577\",\"type\":\"LinearScale\"},{\"attributes\":{\"tools\":[{\"id\":\"1548\"},{\"id\":\"1549\"},{\"id\":\"1550\"},{\"id\":\"1551\"},{\"id\":\"1552\"},{\"id\":\"1553\"},{\"id\":\"1528\"}]},\"id\":\"1555\",\"type\":\"Toolbar\"},{\"attributes\":{\"axis_label\":\"PH [-]\",\"coordinates\":null,\"formatter\":{\"id\":\"1613\"},\"group\":null,\"major_label_policy\":{\"id\":\"1614\"},\"ticker\":{\"id\":\"1545\"}},\"id\":\"1544\",\"type\":\"LinearAxis\"},{\"attributes\":{},\"id\":\"1553\",\"type\":\"HelpTool\"},{\"attributes\":{},\"id\":\"1532\",\"type\":\"DataRange1d\"},{\"attributes\":{},\"id\":\"1594\",\"type\":\"HelpTool\"},{\"attributes\":{\"axis\":{\"id\":\"1544\"},\"coordinates\":null,\"dimension\":1,\"group\":null,\"ticker\":null},\"id\":\"1547\",\"type\":\"Grid\"},{\"attributes\":{\"line_alpha\":0.2,\"line_cap\":\"round\",\"line_color\":\"indigo\",\"line_width\":3,\"x\":{\"field\":\"amountCO2\"},\"y\":{\"field\":\"pH\"}},\"id\":\"1567\",\"type\":\"Line\"},{\"attributes\":{},\"id\":\"1586\",\"type\":\"BasicTicker\"},{\"attributes\":{},\"id\":\"1552\",\"type\":\"ResetTool\"},{\"attributes\":{},\"id\":\"1579\",\"type\":\"LinearScale\"},{\"attributes\":{\"data\":{\"amountCO2\":{\"__ndarray__\":\"AAAAAAAAAEAAAAAAAAAQQAAAAAAAABhAAAAAAAAAIEAAAAAAAAAkQAAAAAAAAChAAAAAAAAALEAAAAAAAAAwQAAAAAAAADJAAAAAAAAANEAAAAAAAAA2QAAAAAAAADhAAAAAAAAAOkAAAAAAAAA8QAAAAAAAAD5AAAAAAAAAQEAAAAAAAABBQAAAAAAAAEJAAAAAAAAAQ0AAAAAAAABEQAAAAAAAAEVAAAAAAAAARkAAAAAAAABHQAAAAAAAAEhAAAAAAAAASUAAAAAAAABKQAAAAAAAAEtAAAAAAAAATEAAAAAAAABNQAAAAAAAAE5AAAAAAAAAT0AAAAAAAABQQAAAAAAAgFBAAAAAAAAAUUAAAAAAAIBRQAAAAAAAAFJAAAAAAACAUkAAAAAAAABTQAAAAAAAgFNAAAAAAAAAVEAAAAAAAIBUQAAAAAAAAFVAAAAAAACAVUAAAAAAAABWQAAAAAAAgFZAAAAAAAAAV0AAAAAAAIBXQAAAAAAAAFhAAAAAAACAWEAAAAAAAABZQA==\",\"dtype\":\"float64\",\"order\":\"little\",\"shape\":[50]},\"deltaCalcite\":{\"__ndarray__\":\"AAAAAAAAAAAAQAtwoz1XPwBAL1jEWWU/APCDYSh8bT8AeFBMk0FyPwCoZ7JOXXU/AECrZbopeD8A4OdLdbd6PwCYG+9LEn0/ADB7NuxCfz8AUMSe9KeAPwC0Qc4un4E/ALxMbSqJgj8AQOkniWeDPwDI9RqhO4Q/AJDMP44GhT8ABGQSP8mFPwCUQ+99hIY/ADiLIvg4hz8AkBVPQ+eHPwAwEaDhj4g/ACyd0RzhiD8ALJ3RHOGIPwAsndEc4Yg/ACyd0RzhiD8ALJ3RHOGIPwAsndEc4Yg/ACyd0RzhiD8ALJ3RHOGIPwAsndEc4Yg/ACyd0RzhiD8ALJ3RHOGIPwAsndEc4Yg/ACyd0RzhiD8ALJ3RHOGIPwAcndEc4Yg/AByd0RzhiD8AHJ3RHOGIPwAcndEc4Yg/AByd0RzhiD8AHJ3RHOGIPwAcndEc4Yg/AByd0RzhiD8AHJ3RHOGIPwAcndEc4Yg/AByd0RzhiD8AHJ3RHOGIPwAcndEc4Yg/AByd0RzhiD8AHJ3RHOGIPw==\",\"dtype\":\"float64\",\"order\":\"little\",\"shape\":[50]},\"index\":[0,1,2,3,4,5,6,7,8,9,10,11,12,13,14,15,16,17,18,19,20,21,22,23,24,25,26,27,28,29,30,31,32,33,34,35,36,37,38,39,40,41,42,43,44,45,46,47,48,49],\"pH\":{\"__ndarray__\":\"FYrANdiqHUDV+ix5EO4bQD3L62gzHBtAoPxjHgKVGkCLahjgbTIaQMYdcdtl5RlA7RvNqHamGUAzkQz4a3EZQGdibfGtQxlA6GDv04cbGUA94DTIy/cYQBb0EvKg1xhArhuWiWa6GEDbLM02op8YQFUil9L0hhhABdkU9xJwGEDdmqntv1oYQHRuECLKRhhA7SMElwg0GEDsqukJWSIYQEWyJ5CeERhAP4Dbg7AJGEAxgNuDsAkYQDKA24OwCRhANIDbg7AJGEAsgNuDsAkYQCCA24OwCRhALoDbg7AJGEAjgNuDsAkYQDGA24OwCRhAMoDbg7AJGEAogNuDsAkYQCiA24OwCRhALYDbg7AJGEAqgNuDsAkYQGqB24OwCRhAW4Hbg7AJGEBcgduDsAkYQFyB24OwCRhAWYHbg7AJGEBkgduDsAkYQGqB24OwCRhAVoHbg7AJGEBkgduDsAkYQGiB24OwCRhAaIHbg7AJGEBkgduDsAkYQGiB24OwCRhAaIHbg7AJGEBjgduDsAkYQA==\",\"dtype\":\"float64\",\"order\":\"little\",\"shape\":[50]}},\"selected\":{\"id\":\"1619\"},\"selection_policy\":{\"id\":\"1618\"}},\"id\":\"1563\",\"type\":\"ColumnDataSource\"},{\"attributes\":{\"axis_label\":\"CO2 AMOUNT [MMOL]\",\"coordinates\":null,\"formatter\":{\"id\":\"1627\"},\"group\":null,\"major_label_policy\":{\"id\":\"1628\"},\"ticker\":{\"id\":\"1582\"}},\"id\":\"1581\",\"type\":\"LinearAxis\"},{\"attributes\":{\"coordinates\":null,\"group\":null,\"text\":\"THE EFFECT OF CO2 CONTENT IN SEAWATER ON CALCITE SOLUBILITY\"},\"id\":\"1571\",\"type\":\"Title\"},{\"attributes\":{},\"id\":\"1593\",\"type\":\"ResetTool\"},{\"attributes\":{\"bottom_units\":\"screen\",\"coordinates\":null,\"fill_alpha\":0.5,\"fill_color\":\"lightgrey\",\"group\":null,\"left_units\":\"screen\",\"level\":\"overlay\",\"line_alpha\":1.0,\"line_color\":\"black\",\"line_dash\":[4,4],\"line_width\":2,\"right_units\":\"screen\",\"syncable\":false,\"top_units\":\"screen\"},\"id\":\"1554\",\"type\":\"BoxAnnotation\"},{\"attributes\":{},\"id\":\"1613\",\"type\":\"BasicTickFormatter\"},{\"attributes\":{\"source\":{\"id\":\"1563\"}},\"id\":\"1569\",\"type\":\"CDSView\"},{\"attributes\":{},\"id\":\"1536\",\"type\":\"LinearScale\"},{\"attributes\":{\"toolbars\":[{\"id\":\"1555\"},{\"id\":\"1596\"}],\"tools\":[{\"id\":\"1548\"},{\"id\":\"1549\"},{\"id\":\"1550\"},{\"id\":\"1551\"},{\"id\":\"1552\"},{\"id\":\"1553\"},{\"id\":\"1528\"},{\"id\":\"1589\"},{\"id\":\"1590\"},{\"id\":\"1591\"},{\"id\":\"1592\"},{\"id\":\"1593\"},{\"id\":\"1594\"},{\"id\":\"1528\"}]},\"id\":\"1634\",\"type\":\"ProxyToolbar\"}],\"root_ids\":[\"1636\"]},\"title\":\"Bokeh Application\",\"version\":\"2.4.3\"}};\n  const render_items = [{\"docid\":\"3a983014-aa46-4f9a-a66b-b3569e24d53c\",\"root_ids\":[\"1636\"],\"roots\":{\"1636\":\"f5125182-651b-4a45-ad42-e3b42c526ce2\"}}];\n  root.Bokeh.embed.embed_items_notebook(docs_json, render_items);\n  }\n  if (root.Bokeh !== undefined) {\n    embed_document(root);\n  } else {\n    let attempts = 0;\n    const timer = setInterval(function(root) {\n      if (root.Bokeh !== undefined) {\n        clearInterval(timer);\n        embed_document(root);\n      } else {\n        attempts++;\n        if (attempts > 100) {\n          clearInterval(timer);\n          console.log(\"Bokeh: ERROR: Unable to run BokehJS code because BokehJS library is missing\");\n        }\n      }\n    }, 10, root)\n  }\n})(window);",
      "application/vnd.bokehjs_exec.v0+json": ""
     },
     "metadata": {
      "application/vnd.bokehjs_exec.v0+json": {
       "id": "1636"
      }
     },
     "output_type": "display_data"
    }
   ],
   "source": [
    "hovertool1 = HoverTool()\n",
    "hovertool1.tooltips = [(\"amount(CO2)\", \"@amountCO2 mmol\"), (\"pH\", \"@pH\"), (\"delta(Calcite)\", \"@deltaCalcite\")]\n",
    "\n",
    "p1 = figure(\n",
    "    title=\"PH DEPENDENCE ON AMOUNT OF ADDED CO2 TO THE SEAWATER\",\n",
    "    x_axis_label=r'CO2 AMOUNT [MMOL]',\n",
    "    y_axis_label='PH [-]',\n",
    "    sizing_mode=\"scale_width\",\n",
    "    plot_height=300)\n",
    "\n",
    "p1.add_tools(hovertool1)\n",
    "\n",
    "p1.line(\"amountCO2\", \"pH\", line_width=3, line_cap=\"round\", line_color='indigo', source=df_seawater)\n",
    "\n",
    "p2 = figure(\n",
    "    title=\"THE EFFECT OF CO2 CONTENT IN SEAWATER ON CALCITE SOLUBILITY\",\n",
    "    x_axis_label=r'CO2 AMOUNT [MMOL]',\n",
    "    y_axis_label='CALCITE SOLUBILITY [MOL]',\n",
    "    sizing_mode=\"scale_width\",\n",
    "    plot_height=300)\n",
    "\n",
    "p2.add_tools(hovertool1)\n",
    "\n",
    "p2.line(\"amountCO2\", \"deltaCalcite\", line_width=3, line_cap=\"round\", line_color='coral', source=df_seawater)\n",
    "\n",
    "grid = gridplot([[p1], [p2]])\n",
    "\n",
    "show(grid)"
   ]
  },
  {
   "cell_type": "markdown",
   "metadata": {},
   "source": [
    "Below 45 mmol CO<sub>2</sub>, the seawater becomes increasingly acidic with the addition of the gas, which increases the solubility of the calcite. However, once the saturation point is reached, no more gas can be dissolved in the seawater and the pH remains constant. The solubility of the calcite is also constant from this point on."
   ]
  }
 ],
 "metadata": {
  "kernelspec": {
   "display_name": "Python 3.9.9 ('reaktoro-jupyter-book')",
   "language": "python",
   "name": "python3"
  },
  "language_info": {
   "codemirror_mode": {
    "name": "ipython",
    "version": 3
   },
   "file_extension": ".py",
   "mimetype": "text/x-python",
   "name": "python",
   "nbconvert_exporter": "python",
   "pygments_lexer": "ipython3",
   "version": "3.9.9"
  },
  "vscode": {
   "interpreter": {
    "hash": "e4e8b2f3ae27709963f14fd23a6560d362beea55eaec742263828e04d814e23c"
   }
  }
 },
 "nbformat": 4,
 "nbformat_minor": 4
}
