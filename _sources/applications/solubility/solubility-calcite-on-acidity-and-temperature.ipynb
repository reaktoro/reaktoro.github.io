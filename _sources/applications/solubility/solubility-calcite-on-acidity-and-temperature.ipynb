{
 "cells": [
  {
   "cell_type": "markdown",
   "metadata": {
    "tags": []
   },
   "source": [
    "# Calcite solubility in water, rainwater, and seawater\n",
    "\n",
    "<p class=\"acknowledgement\">Written by Svetlana Kyas (ETH Zurich) on Mar 30th, 2022</p>\n",
    "\n",
    "Studying the solubility of carbon dioxide in rainwater is important for understanding climate change. Anthropogenic CO<sub>2</sub> absorbed by the oceans increases the concentration of hydrogen ions (H<sup>+</sup>), and thus its acidification.\n",
    "In a review article by *Figuerola et al., A Review and Meta-Analysis of Potential Impacts of Ocean Acidification on Marine Calcifiers From the Southern Ocean, Front. Mar. Sci., 2021*, **ocean acidification (OA)** (accompanied by CO reduction, see figure below) is identified as a critical problem for the shells and skeletons of marine calcifiers such as foraminifera, corals, echinoderms, mollusks, and bryozoans. The OA process reduces the **carbonate saturation horizon** (the depth below which calcium carbonate dissolves), which likely increases the vulnerability of many resident marine calcifiers to dissolution. In addition, ocean warming could further exacerbate the effects of the OA process on these particular species. For this reason, understanding the dependence of calcite solubility on various factors is an important issue in modeling.\n",
    "\n",
    "In this tutorial, we examine the solubility of calcite in water, rainwater, and seawater. We also look at how it is affected by changes in temperature, pressure and the amount of carbon dioxide dissolved.\n",
    "\n",
    "|![Infographic of the ocean acidification process](../../images/applications/ocian-acidification.jpeg)|\n",
    "|:--:|\n",
    "|Infographic of the ocean acidification process, Source: frontiersin.org|\n",
    "\n",
    "First, we initialize the chemical system with aqueous, gaseous, and calcite phases."
   ]
  },
  {
   "cell_type": "code",
   "execution_count": 1,
   "metadata": {
    "lines_to_next_cell": 1
   },
   "outputs": [],
   "source": [
    "from reaktoro import *\n",
    "\n",
    "# Create the database\n",
    "db = SupcrtDatabase(\"supcrtbl\")\n",
    "\n",
    "# Create an aqueous phase automatically selecting all species with provided elements\n",
    "aqueousphase = AqueousPhase(speciate(\"H O C Ca Mg K Cl Na S N\"))\n",
    "aqueousphase.setActivityModel(chain(\n",
    "    ActivityModelHKF(),\n",
    "    ActivityModelDrummond(\"CO2\"),\n",
    "))\n",
    "\n",
    "# Create a gaseous phase\n",
    "gaseousphase = GaseousPhase(\"CO2(g)\")\n",
    "gaseousphase.setActivityModel(ActivityModelPengRobinson())\n",
    "\n",
    "# Create a mineral phase\n",
    "mineral = MineralPhase(\"Calcite\")\n",
    "\n",
    "# Create the chemical system\n",
    "system = ChemicalSystem(db, aqueousphase, gaseousphase, mineral)"
   ]
  },
  {
   "cell_type": "markdown",
   "metadata": {},
   "source": [
    "Next, the equilibrium specifications, equilibrium conditions, and equilibrium solver for the equilibrium calculations are initialized. To constrain the charge of the chemical state, we need to make it open to the Cl<sup>-</sup>. Finally, we create aqueous properties to evaluate pH in the forthcoming calculations."
   ]
  },
  {
   "cell_type": "code",
   "execution_count": 2,
   "metadata": {},
   "outputs": [],
   "source": [
    "# Define equilibrium specs\n",
    "specs = EquilibriumSpecs (system)\n",
    "specs.temperature()\n",
    "specs.pressure()\n",
    "specs.charge()\n",
    "specs.openTo(\"Cl-\")\n",
    "\n",
    "# Define conditions to be satisfied at the chemical equilibrium state\n",
    "conditions = EquilibriumConditions(specs)\n",
    "conditions.charge(0.0, \"mol\") # to make sure the mixture is charge neutral\n",
    "\n",
    "# Define the equilibrium solver\n",
    "solver = EquilibriumSolver(specs)\n",
    "\n",
    "# Define aqueous properties\n",
    "aprops = AqueousProps(system)"
   ]
  },
  {
   "cell_type": "markdown",
   "metadata": {},
   "source": [
    "The functions below define the chemical states corresponding to pure water, rainwater saturated with carbon dioxide, and seawater, respectively:"
   ]
  },
  {
   "cell_type": "code",
   "execution_count": 3,
   "metadata": {},
   "outputs": [],
   "source": [
    "def water():\n",
    "\n",
    "    state = ChemicalState(system)\n",
    "    state.add(\"H2O(aq)\", 1.0, \"kg\")\n",
    "\n",
    "    return state\n",
    "\n",
    "def rainwater():\n",
    "\n",
    "    state = ChemicalState(system)\n",
    "    # Rainwater composition\n",
    "    state.set(\"H2O(aq)\", 1.0, \"kg\")\n",
    "    state.set(\"Na+\"    , 2.05, \"mg\") # Sodium, 2.05 ppm = 2.05 mg/L ~ 2.05 mg/kgw\n",
    "    state.set(\"K+\"     , 0.35, \"mg\") # Potassium\n",
    "    state.set(\"Ca+2\"   , 1.42, \"mg\") # Calcium\n",
    "    state.set(\"Mg+2\"   , 0.39, \"mg\") # Magnesium\n",
    "    state.set(\"Cl-\"    , 3.47, \"mg\") # Chloride\n",
    "    state.set(\"SO4-2\"  , 2.19, \"mg\")\n",
    "    state.set(\"NO3-\"   , 0.27, \"mg\")\n",
    "    state.set(\"NH4+\"   , 0.41, \"mg\")\n",
    "    state.set(\"CO2(aq)\", 0.36, \"mol\")  # rainwater is saturated with CO2\n",
    "\n",
    "    return state\n",
    "\n",
    "def seawater():\n",
    "\n",
    "    state = ChemicalState(system)\n",
    "    # Seawater composition\n",
    "    state.setTemperature(25, \"celsius\")\n",
    "    state.setPressure(1.0, \"bar\")\n",
    "    state.add(\"H2O(aq)\",     1.0, \"kg\")\n",
    "    state.add(\"Ca+2\"   ,   412.3, \"mg\")\n",
    "    state.add(\"Mg+2\"   ,  1290.0, \"mg\")\n",
    "    state.add(\"Na+\"    , 10768.0, \"mg\")\n",
    "    state.add(\"K+\"     ,   399.1, \"mg\")\n",
    "    state.add(\"Cl-\"    , 19353.0, \"mg\")\n",
    "    state.add(\"HCO3-\"  ,   141.7, \"mg\")\n",
    "    state.add(\"SO4-2\"  ,  2712.0, \"mg\")\n",
    "\n",
    "    return state"
   ]
  },
  {
   "cell_type": "markdown",
   "metadata": {},
   "source": [
    "## Solubility of calcite for different temperatures and pressures\n",
    "\n",
    "To calculate the solubility of calcite in a given brine, we define the function `solubility_of_calcite()`, which calculates the pH of the aqueous solution along with the amount of calcite dissolved in it. As the names suggest, the instances of `pandas.DataFrame`, i.e., `df_water` and `df_rainwater`, correspond to the results of chemical equilibrium calculations for water and rainwater, respectively."
   ]
  },
  {
   "cell_type": "code",
   "execution_count": 4,
   "metadata": {},
   "outputs": [],
   "source": [
    "import pandas as pd\n",
    "df_water = pd.DataFrame(columns=[\"T\", \"P\", \"pH\", \"deltaCalcite\"])\n",
    "df_rainwater = pd.DataFrame(columns=[\"T\", \"P\", \"pH\", \"deltaCalcite\"])\n",
    "\n",
    "# Initial amount of calcite\n",
    "n0Calcite = 10.0\n",
    "\n",
    "def solubility_of_calcite(state, T, P, tag):\n",
    "\n",
    "    conditions.temperature(T, \"celsius\")\n",
    "    conditions.pressure(P, \"bar\")\n",
    "\n",
    "    # Equilibrate the solution with given initial chemical state and desired conditions at equilibrium\n",
    "    res = solver.solve(state, conditions)\n",
    "\n",
    "    # Check calculation succeeded\n",
    "    assert res.succeeded()\n",
    "\n",
    "    # Update aqueous properties\n",
    "    aprops.update(state)\n",
    "\n",
    "    # Fetch the amount of final calcite in the equilibrium state\n",
    "    nCalcite = float(state.speciesAmount(\"Calcite\"))\n",
    "\n",
    "    if tag == \"water\":\n",
    "        df_water.loc[len(df_water)] = [T, P, float(aprops.pH()), n0Calcite - nCalcite]\n",
    "    elif tag == \"rainwater\":\n",
    "        df_rainwater.loc[len(df_rainwater)] = [T, P, float(aprops.pH()), n0Calcite - nCalcite]"
   ]
  },
  {
   "cell_type": "markdown",
   "metadata": {},
   "source": [
    "Next, we initialize the array of temperatures from 20 &deg;C till 90 &deg;C and pressures P = 1, 10, 100 bars and perform solubility calculations for water and rainwater."
   ]
  },
  {
   "cell_type": "code",
   "execution_count": 5,
   "metadata": {
    "collapsed": false,
    "jupyter": {
     "outputs_hidden": false
    }
   },
   "outputs": [],
   "source": [
    "import numpy as np\n",
    "temperatures = np.arange(20.0, 91.0, 5.0)   # in celsius\n",
    "pressures = np.array([1, 10, 100])          # in bar\n",
    "\n",
    "state = water()\n",
    "state.set(\"Calcite\", n0Calcite, \"mol\")\n",
    "[solubility_of_calcite(state, T, P, \"water\") for P in pressures for T in temperatures];\n",
    "\n",
    "state = rainwater()\n",
    "state.set(\"Calcite\", n0Calcite, \"mol\")\n",
    "[solubility_of_calcite(state, T, P, \"rainwater\") for P in pressures for T in temperatures];"
   ]
  },
  {
   "cell_type": "markdown",
   "metadata": {},
   "source": [
    "Let us check that the calcite solubility determined for 25 °C and 1 bar actually corresponds to the values from Wikipedia, i.e., the solubility in water is 0.013 g/L (25 °C). In the following, we use 100.0869 g/mol as the molar mass of calcite:"
   ]
  },
  {
   "cell_type": "code",
   "execution_count": 6,
   "metadata": {},
   "outputs": [
    {
     "name": "stdout",
     "output_type": "stream",
     "text": [
      "Solubility of calcite in water equals to 0.116 mmol/kgw = ... = 0.012 g/L\n"
     ]
    }
   ],
   "source": [
    "# Fetch Calcite solubility for T = 25 celsius and P = 1 bar\n",
    "deltaCalcite = df_water[(df_water['P']== 1.0) & (df_water['T'] == 25.0)]['deltaCalcite'].iloc[0]\n",
    "print(f\"Solubility of calcite in water equals to {1e3*deltaCalcite:.3f} \"\n",
    "      f\"mmol/kgw = ... = {deltaCalcite * 0.1000869 * 1e3:.3f} g/L\")"
   ]
  },
  {
   "cell_type": "markdown",
   "metadata": {},
   "source": [
    "In the case of pure water, therefore, about 0.116 mmol of calcite will dissolve. This dissolved quantity is independent of the initial quantity value used for calcite (provided it exceeds the solubility limit)."
   ]
  },
  {
   "attachments": {},
   "cell_type": "markdown",
   "metadata": {},
   "source": [
    "We plot below the solubility of calcite in water and in CO<sub>2</sub>-saturated rainwater at 1 bar:"
   ]
  },
  {
   "cell_type": "code",
   "execution_count": 16,
   "metadata": {},
   "outputs": [
    {
     "data": {
      "application/vnd.plotly.v1+json": {
       "config": {
        "plotlyServerURL": "https://plot.ly"
       },
       "data": [
        {
         "mode": "lines+markers",
         "name": "water",
         "type": "scatter",
         "x": [
          20,
          25,
          30,
          35,
          40,
          45,
          50,
          55,
          60,
          65,
          70,
          75,
          80,
          85,
          90
         ],
         "y": [
          0.00011171519763308879,
          0.00011582325557135675,
          0.00011985617408605265,
          0.0001238128664891036,
          0.0001276946720079053,
          0.00013149158616521106,
          0.00013518545929791514,
          0.00013876883060603973,
          0.00014219997668263318,
          0.00014545181590541745,
          0.00014849794968618824,
          0.0001513137948165877,
          0.00015389356454420522,
          0.0001562025731658423,
          0.0001582252741130219
         ]
        },
        {
         "mode": "lines+markers",
         "name": "rainwater",
         "type": "scatter",
         "x": [
          20,
          25,
          30,
          35,
          40,
          45,
          50,
          55,
          60,
          65,
          70,
          75,
          80,
          85,
          90
         ],
         "y": [
          0.009684877503893574,
          0.008819583158226507,
          0.008041295819881,
          0.007333674056139827,
          0.006690487873910911,
          0.006105920773189055,
          0.0055745898376393654,
          0.005094563450311895,
          0.00465755193289219,
          0.004259574717552894,
          0.0038970057973877203,
          0.0035665501484007933,
          0.003266673650019314,
          0.0029928621810704215,
          0.002742731870313264
         ]
        }
       ],
       "layout": {
        "template": {
         "data": {
          "scatter": [
           {
            "line": {
             "width": 4
            },
            "marker": {
             "size": 10,
             "symbol": "circle"
            },
            "type": "scatter"
           }
          ]
         },
         "layout": {
          "colorway": [
           "#4C78A8",
           "#F58518",
           "#E45756",
           "#72B7B2",
           "#54A24B",
           "#EECA3B",
           "#B279A2",
           "#FF9DA6",
           "#9D755D",
           "#BAB0AC"
          ],
          "font": {
           "color": "#2e2e2e",
           "family": "Arial",
           "size": 16
          },
          "legend": {
           "title": {
            "text": ""
           }
          },
          "margin": {
           "b": 100,
           "l": 100,
           "pad": 5,
           "r": 100,
           "t": 100
          },
          "paper_bgcolor": "#f7f7f7",
          "plot_bgcolor": "#f7f7f7",
          "title": {
           "font": {
            "color": "#636363",
            "size": 24
           },
           "x": 0,
           "xref": "paper",
           "yanchor": "middle",
           "yref": "paper"
          },
          "xaxis": {
           "title": {
            "font": {
             "size": 20
            }
           },
           "zerolinecolor": "#2e2e2e",
           "zerolinewidth": 0
          },
          "yaxis": {
           "title": {
            "font": {
             "size": 20
            }
           },
           "zerolinecolor": "#2e2e2e",
           "zerolinewidth": 0
          }
         }
        },
        "title": {
         "text": "CALCITE SOLUBILITY IN WATER AND<br>CO2-SATURATED RAINWATER AT 1 BAR"
        },
        "xaxis": {
         "title": {
          "text": "pH"
         }
        },
        "yaxis": {
         "title": {
          "text": "Calcite Solubility [mol/kgw]"
         }
        }
       }
      },
      "text/html": [
       "<div>                            <div id=\"a09145d5-da3f-4a9a-8baa-334f8ea2d1f2\" class=\"plotly-graph-div\" style=\"height:525px; width:100%;\"></div>            <script type=\"text/javascript\">                require([\"plotly\"], function(Plotly) {                    window.PLOTLYENV=window.PLOTLYENV || {};                                    if (document.getElementById(\"a09145d5-da3f-4a9a-8baa-334f8ea2d1f2\")) {                    Plotly.newPlot(                        \"a09145d5-da3f-4a9a-8baa-334f8ea2d1f2\",                        [{\"mode\":\"lines+markers\",\"name\":\"water\",\"x\":[20.0,25.0,30.0,35.0,40.0,45.0,50.0,55.0,60.0,65.0,70.0,75.0,80.0,85.0,90.0],\"y\":[0.00011171519763308879,0.00011582325557135675,0.00011985617408605265,0.0001238128664891036,0.0001276946720079053,0.00013149158616521106,0.00013518545929791514,0.00013876883060603973,0.00014219997668263318,0.00014545181590541745,0.00014849794968618824,0.0001513137948165877,0.00015389356454420522,0.0001562025731658423,0.0001582252741130219],\"type\":\"scatter\"},{\"mode\":\"lines+markers\",\"name\":\"rainwater\",\"x\":[20.0,25.0,30.0,35.0,40.0,45.0,50.0,55.0,60.0,65.0,70.0,75.0,80.0,85.0,90.0],\"y\":[0.009684877503893574,0.008819583158226507,0.008041295819881,0.007333674056139827,0.006690487873910911,0.006105920773189055,0.0055745898376393654,0.005094563450311895,0.00465755193289219,0.004259574717552894,0.0038970057973877203,0.0035665501484007933,0.003266673650019314,0.0029928621810704215,0.002742731870313264],\"type\":\"scatter\"}],                        {\"template\":{\"data\":{\"scatter\":[{\"line\":{\"width\":4},\"marker\":{\"size\":10,\"symbol\":\"circle\"},\"type\":\"scatter\"}]},\"layout\":{\"colorway\":[\"#4C78A8\",\"#F58518\",\"#E45756\",\"#72B7B2\",\"#54A24B\",\"#EECA3B\",\"#B279A2\",\"#FF9DA6\",\"#9D755D\",\"#BAB0AC\"],\"font\":{\"color\":\"#2e2e2e\",\"family\":\"Arial\",\"size\":16},\"legend\":{\"title\":{\"text\":\"\"}},\"margin\":{\"b\":100,\"l\":100,\"pad\":5,\"r\":100,\"t\":100},\"paper_bgcolor\":\"#f7f7f7\",\"plot_bgcolor\":\"#f7f7f7\",\"title\":{\"font\":{\"color\":\"#636363\",\"size\":24},\"x\":0.0,\"xref\":\"paper\",\"yanchor\":\"middle\",\"yref\":\"paper\"},\"xaxis\":{\"title\":{\"font\":{\"size\":20}},\"zerolinecolor\":\"#2e2e2e\",\"zerolinewidth\":0},\"yaxis\":{\"title\":{\"font\":{\"size\":20}},\"zerolinecolor\":\"#2e2e2e\",\"zerolinewidth\":0}}},\"title\":{\"text\":\"CALCITE SOLUBILITY IN WATER AND<br>CO2-SATURATED RAINWATER AT 1 BAR\"},\"xaxis\":{\"title\":{\"text\":\"pH\"}},\"yaxis\":{\"title\":{\"text\":\"Calcite Solubility [mol/kgw]\"}}},                        {\"responsive\": true}                    ).then(function(){\n",
       "                            \n",
       "var gd = document.getElementById('a09145d5-da3f-4a9a-8baa-334f8ea2d1f2');\n",
       "var x = new MutationObserver(function (mutations, observer) {{\n",
       "        var display = window.getComputedStyle(gd).display;\n",
       "        if (!display || display === 'none') {{\n",
       "            console.log([gd, 'removed!']);\n",
       "            Plotly.purge(gd);\n",
       "            observer.disconnect();\n",
       "        }}\n",
       "}});\n",
       "\n",
       "// Listen for the removal of the full notebook cells\n",
       "var notebookContainer = gd.closest('#notebook-container');\n",
       "if (notebookContainer) {{\n",
       "    x.observe(notebookContainer, {childList: true});\n",
       "}}\n",
       "\n",
       "// Listen for the clearing of the current output cell\n",
       "var outputEl = gd.closest('.output');\n",
       "if (outputEl) {{\n",
       "    x.observe(outputEl, {childList: true});\n",
       "}}\n",
       "\n",
       "                        })                };                });            </script>        </div>"
      ]
     },
     "metadata": {},
     "output_type": "display_data"
    }
   ],
   "source": [
    "from reaktplot import *\n",
    "\n",
    "df_water_P1 = df_water[df_water['P'] == 1.0]\n",
    "df_rainwater_P1 = df_rainwater[df_rainwater['P'] == 1.0]\n",
    "\n",
    "fig = Figure()\n",
    "fig.title(\"CALCITE SOLUBILITY IN WATER AND<br>CO2-SATURATED RAINWATER AT 1 BAR\")\n",
    "fig.xaxisTitle('Temperature [°C]')\n",
    "fig.yaxisTitle('Calcite Solubility [mol/kgw]')\n",
    "fig.drawLineWithMarkers(df_water_P1[\"T\"], df_water_P1[\"deltaCalcite\"], name=\"water\")\n",
    "fig.drawLineWithMarkers(df_rainwater_P1[\"T\"], df_rainwater_P1[\"deltaCalcite\"], name=\"rainwater\")\n",
    "\n",
    "fig.show()"
   ]
  },
  {
   "cell_type": "markdown",
   "metadata": {},
   "source": [
    "From this plot, it can be seen that calcium carbonate has very low solubility in pure water, but higher solubility in rainwater saturated with carbon dioxide. This is due to the formation of more soluble calcium bicarbonate. The solubilities on different scales and for different pressures are shown below. It can be seen that with increasing pressure, the solubility of calcium carbonate increases."
   ]
  },
  {
   "cell_type": "code",
   "execution_count": 1,
   "metadata": {},
   "outputs": [
    {
     "ename": "NameError",
     "evalue": "name 'pressures' is not defined",
     "output_type": "error",
     "traceback": [
      "\u001b[0;31m---------------------------------------------------------------------------\u001b[0m",
      "\u001b[0;31mNameError\u001b[0m                                 Traceback (most recent call last)",
      "Cell \u001b[0;32mIn[1], line 8\u001b[0m\n\u001b[1;32m      5\u001b[0m fig1.\u001b[39mxaxisTitle\u001b[39m(\u001b[39m'\u001b[39m\u001b[39mTemperature [°C]\u001b[39m\u001b[39m'\u001b[39m)\n\u001b[1;32m      6\u001b[0m fig1.\u001b[39myaxisTitle\u001b[39m(\u001b[39m'\u001b[39m\u001b[39mCalcite Solubility [mol/kgw]\u001b[39m\u001b[39m'\u001b[39m)\n\u001b[0;32m----> 8\u001b[0m \u001b[39mfor\u001b[39;00m P \u001b[39min\u001b[39;00m pressures:\n\u001b[1;32m      9\u001b[0m     df_water_P \u001b[39m=\u001b[39m df_water[df_water[\u001b[39m'\u001b[39m\u001b[39mP\u001b[39m\u001b[39m'\u001b[39m] \u001b[39m==\u001b[39m P]\n\u001b[1;32m     10\u001b[0m     fig1.\u001b[39mdrawLineWithMarkers\u001b[39m(df_water_P[\u001b[39m\"\u001b[39m\u001b[39mT\u001b[39m\u001b[39m\"\u001b[39m], df_water_P[\u001b[39m\"\u001b[39m\u001b[39mdeltaCalcite\u001b[39m\u001b[39m\"\u001b[39m], name\u001b[39m=\u001b[39m\u001b[39mf\u001b[39m\u001b[39m'\u001b[39m\u001b[39m{\u001b[39;00mP\u001b[39m}\u001b[39;00m\u001b[39m bar\u001b[39m\u001b[39m'\u001b[39m)\n",
      "\u001b[0;31mNameError\u001b[0m: name 'pressures' is not defined"
     ]
    }
   ],
   "source": [
    "from reaktplot import *\n",
    "\n",
    "fig1 = Figure()\n",
    "fig1.title(\"CALCITE SOLUBILITY IN WATER\")\n",
    "fig1.xaxisTitle('Temperature [°C]')\n",
    "fig1.yaxisTitle('Calcite Solubility [mol/kgw]')\n",
    "\n",
    "for P in pressures:\n",
    "    df_water_P = df_water[df_water['P'] == P]\n",
    "    fig1.drawLineWithMarkers(df_water_P[\"T\"], df_water_P[\"deltaCalcite\"], name=f'{P} bar')\n",
    "\n",
    "fig2 = Figure()\n",
    "fig2.title(\"CALCITE SOLUBILITY IN CO2-SATURATED RAINWATER\")\n",
    "fig2.xaxisTitle('Temperature [°C]')\n",
    "fig2.yaxisTitle('Calcite Solubility [mol/kgw]')\n",
    "\n",
    "for P in pressures:\n",
    "    df_rainwater_P = df_rainwater[df_water['P'] == P]\n",
    "    fig2.drawLineWithMarkers(df_rainwater_P[\"T\"], df_rainwater_P[\"deltaCalcite\"], name=f'{P} bar')\n",
    "\n",
    "fig1.show()\n",
    "fig2.show()"
   ]
  },
  {
   "cell_type": "markdown",
   "metadata": {},
   "source": [
    "### Solubility of calcite in the seawater with increasing levels of CO<sub>2</sub>\n",
    "\n",
    "Subsequent auxiliary variables are defined to store the initial amount of CO<sub>2</sub> and its incremental amount in the calculation sequence. At each iteration of the following loop, CO2 is added to the seawater and the system is rebalanced.\n",
    "The amount of carbon dioxide added and the corresponding pH value are recorded in a `pandas.DataFrame`."
   ]
  },
  {
   "cell_type": "code",
   "execution_count": 9,
   "metadata": {
    "collapsed": false,
    "jupyter": {
     "outputs_hidden": false
    }
   },
   "outputs": [],
   "source": [
    "co2_0 = 0.0\n",
    "co2_delta = 2.0 # in mmol\n",
    "nsteps = 50\n",
    "\n",
    "df_seawater = pd.DataFrame(columns=[\"amountCO2\", \"pH\", \"deltaCalcite\"])\n",
    "\n",
    "T = 25\n",
    "P = 1\n",
    "\n",
    "for i in range(nsteps):\n",
    "\n",
    "    # Initial amount of calcite\n",
    "    n0Calcite = 10.0\n",
    "\n",
    "    conditions.temperature(T, \"celsius\")\n",
    "    conditions.pressure(P, \"bar\")\n",
    "\n",
    "    # Add more CO2 to the problem\n",
    "    state = seawater()\n",
    "    state.set(\"CO2(g)\", co2_0, \"mmol\")\n",
    "    state.set(\"O2(aq)\", 1.0e-9, \"mol\")  # this small amount of O2(aq) is needed to avoid convergence failure in the computation below!\n",
    "\n",
    "    # Equilibrate the solution given by the chemical state and conditions\n",
    "    res = solver.solve(state, conditions)\n",
    "    \n",
    "    # Check calculation succeeded\n",
    "    assert res.succeeded(), f\"The calculation failed at step #{i}\"\n",
    "\n",
    "    # Add `n0Calcite` amount of calcite\n",
    "    state.set(\"Calcite\", n0Calcite, \"mol\")\n",
    "\n",
    "    # Equilibrate solution with added calcite\n",
    "    res = solver.solve(state, conditions)\n",
    "\n",
    "    # Check calculation succeeded\n",
    "    assert res.succeeded(), f\"The calculation failed at step #{i}\"\n",
    "\n",
    "    # Update aqueous properties\n",
    "    aprops.update(state)\n",
    "\n",
    "    # Fetch the amount of final calcite in the equilibrium state\n",
    "    nCalcite = float(state.speciesAmount(\"Calcite\"))\n",
    "\n",
    "    # Update CO2 amount\n",
    "    co2_0 += co2_delta\n",
    "\n",
    "    # Append new calculated value to the dataframe\n",
    "    df_seawater.loc[len(df_seawater)] = [co2_0, float(aprops.pH()), n0Calcite - nCalcite]"
   ]
  },
  {
   "cell_type": "markdown",
   "metadata": {},
   "source": [
    "To analyze the results obtained, the pH and calcite solubility are plotted as a function of the amount of CO<sub>2</sub> added to the seawater."
   ]
  },
  {
   "cell_type": "code",
   "execution_count": 17,
   "metadata": {},
   "outputs": [
    {
     "data": {
      "application/vnd.plotly.v1+json": {
       "config": {
        "plotlyServerURL": "https://plot.ly"
       },
       "data": [
        {
         "mode": "lines+markers",
         "name": "",
         "type": "scatter",
         "x": [
          2,
          4,
          6,
          8,
          10,
          12,
          14,
          16,
          18,
          20,
          22,
          24,
          26,
          28,
          30,
          32,
          34,
          36,
          38,
          40,
          42,
          44,
          46,
          48,
          50,
          52,
          54,
          56,
          58,
          60,
          62,
          64,
          66,
          68,
          70,
          72,
          74,
          76,
          78,
          80,
          82,
          84,
          86,
          88,
          90,
          92,
          94,
          96,
          98,
          100
         ],
         "y": [
          7.416840400372844,
          6.982484715649078,
          6.7775398628670125,
          6.645515894628668,
          6.54924726617614,
          6.474021366765636,
          6.41256202452291,
          6.360763431245163,
          6.316093227597662,
          6.276885329638174,
          6.241988304287609,
          6.2105748961829645,
          6.182031774256948,
          6.155892235004639,
          6.131793299118449,
          6.10944734629799,
          6.088622773574155,
          6.069130451394353,
          6.050814017846952,
          6.033542780722404,
          6.017206432701335,
          6.009462414034659,
          6.0094624140346395,
          6.009462414034648,
          6.009462414034649,
          6.009462414034637,
          6.009462414034628,
          6.00946241403463,
          6.009462414034638,
          6.009462414034649,
          6.009462414034632,
          6.009462414034632,
          6.009462414034632,
          6.009462414034626,
          6.009462414034633,
          6.009462414034925,
          6.009462414034914,
          6.009462414034925,
          6.009462414034925,
          6.009462414034914,
          6.009462414034914,
          6.009462414034924,
          6.009462414034918,
          6.009462414034914,
          6.009462414034925,
          6.009462414034925,
          6.009462414034914,
          6.009462414034925,
          6.009462414034925,
          6.009462414034914
         ]
        }
       ],
       "layout": {
        "height": 500,
        "template": {
         "data": {
          "scatter": [
           {
            "line": {
             "width": 4
            },
            "marker": {
             "size": 10,
             "symbol": "circle"
            },
            "type": "scatter"
           }
          ]
         },
         "layout": {
          "colorway": [
           "#4C78A8",
           "#F58518",
           "#E45756",
           "#72B7B2",
           "#54A24B",
           "#EECA3B",
           "#B279A2",
           "#FF9DA6",
           "#9D755D",
           "#BAB0AC"
          ],
          "font": {
           "color": "#2e2e2e",
           "family": "Arial",
           "size": 16
          },
          "legend": {
           "title": {
            "text": ""
           }
          },
          "margin": {
           "b": 100,
           "l": 100,
           "pad": 5,
           "r": 100,
           "t": 100
          },
          "paper_bgcolor": "#f7f7f7",
          "plot_bgcolor": "#f7f7f7",
          "title": {
           "font": {
            "color": "#636363",
            "size": 24
           },
           "x": 0,
           "xref": "paper",
           "yanchor": "middle",
           "yref": "paper"
          },
          "xaxis": {
           "title": {
            "font": {
             "size": 20
            }
           },
           "zerolinecolor": "#2e2e2e",
           "zerolinewidth": 0
          },
          "yaxis": {
           "title": {
            "font": {
             "size": 20
            }
           },
           "zerolinecolor": "#2e2e2e",
           "zerolinewidth": 0
          }
         }
        },
        "title": {
         "text": "PH DEPENDENCE ON AMOUNT OF<br>ADDED CO2 TO THE SEAWATER"
        },
        "xaxis": {
         "title": {
          "text": "CO2 [mmol]"
         }
        },
        "yaxis": {
         "title": {
          "text": "pH"
         }
        }
       }
      },
      "text/html": [
       "<div>                            <div id=\"a1e045bd-2a2e-4f7b-96c5-9a17f1d01158\" class=\"plotly-graph-div\" style=\"height:500px; width:100%;\"></div>            <script type=\"text/javascript\">                require([\"plotly\"], function(Plotly) {                    window.PLOTLYENV=window.PLOTLYENV || {};                                    if (document.getElementById(\"a1e045bd-2a2e-4f7b-96c5-9a17f1d01158\")) {                    Plotly.newPlot(                        \"a1e045bd-2a2e-4f7b-96c5-9a17f1d01158\",                        [{\"mode\":\"lines+markers\",\"name\":\"\",\"x\":[2.0,4.0,6.0,8.0,10.0,12.0,14.0,16.0,18.0,20.0,22.0,24.0,26.0,28.0,30.0,32.0,34.0,36.0,38.0,40.0,42.0,44.0,46.0,48.0,50.0,52.0,54.0,56.0,58.0,60.0,62.0,64.0,66.0,68.0,70.0,72.0,74.0,76.0,78.0,80.0,82.0,84.0,86.0,88.0,90.0,92.0,94.0,96.0,98.0,100.0],\"y\":[7.416840400372844,6.982484715649078,6.7775398628670125,6.645515894628668,6.54924726617614,6.474021366765636,6.41256202452291,6.360763431245163,6.316093227597662,6.276885329638174,6.241988304287609,6.2105748961829645,6.182031774256948,6.155892235004639,6.131793299118449,6.10944734629799,6.088622773574155,6.069130451394353,6.050814017846952,6.033542780722404,6.017206432701335,6.009462414034659,6.0094624140346395,6.009462414034648,6.009462414034649,6.009462414034637,6.009462414034628,6.00946241403463,6.009462414034638,6.009462414034649,6.009462414034632,6.009462414034632,6.009462414034632,6.009462414034626,6.009462414034633,6.009462414034925,6.009462414034914,6.009462414034925,6.009462414034925,6.009462414034914,6.009462414034914,6.009462414034924,6.009462414034918,6.009462414034914,6.009462414034925,6.009462414034925,6.009462414034914,6.009462414034925,6.009462414034925,6.009462414034914],\"type\":\"scatter\"}],                        {\"template\":{\"data\":{\"scatter\":[{\"line\":{\"width\":4},\"marker\":{\"size\":10,\"symbol\":\"circle\"},\"type\":\"scatter\"}]},\"layout\":{\"colorway\":[\"#4C78A8\",\"#F58518\",\"#E45756\",\"#72B7B2\",\"#54A24B\",\"#EECA3B\",\"#B279A2\",\"#FF9DA6\",\"#9D755D\",\"#BAB0AC\"],\"font\":{\"color\":\"#2e2e2e\",\"family\":\"Arial\",\"size\":16},\"legend\":{\"title\":{\"text\":\"\"}},\"margin\":{\"b\":100,\"l\":100,\"pad\":5,\"r\":100,\"t\":100},\"paper_bgcolor\":\"#f7f7f7\",\"plot_bgcolor\":\"#f7f7f7\",\"title\":{\"font\":{\"color\":\"#636363\",\"size\":24},\"x\":0.0,\"xref\":\"paper\",\"yanchor\":\"middle\",\"yref\":\"paper\"},\"xaxis\":{\"title\":{\"font\":{\"size\":20}},\"zerolinecolor\":\"#2e2e2e\",\"zerolinewidth\":0},\"yaxis\":{\"title\":{\"font\":{\"size\":20}},\"zerolinecolor\":\"#2e2e2e\",\"zerolinewidth\":0}}},\"title\":{\"text\":\"PH DEPENDENCE ON AMOUNT OF<br>ADDED CO2 TO THE SEAWATER\"},\"height\":500,\"xaxis\":{\"title\":{\"text\":\"CO2 [mmol]\"}},\"yaxis\":{\"title\":{\"text\":\"pH\"}}},                        {\"responsive\": true}                    ).then(function(){\n",
       "                            \n",
       "var gd = document.getElementById('a1e045bd-2a2e-4f7b-96c5-9a17f1d01158');\n",
       "var x = new MutationObserver(function (mutations, observer) {{\n",
       "        var display = window.getComputedStyle(gd).display;\n",
       "        if (!display || display === 'none') {{\n",
       "            console.log([gd, 'removed!']);\n",
       "            Plotly.purge(gd);\n",
       "            observer.disconnect();\n",
       "        }}\n",
       "}});\n",
       "\n",
       "// Listen for the removal of the full notebook cells\n",
       "var notebookContainer = gd.closest('#notebook-container');\n",
       "if (notebookContainer) {{\n",
       "    x.observe(notebookContainer, {childList: true});\n",
       "}}\n",
       "\n",
       "// Listen for the clearing of the current output cell\n",
       "var outputEl = gd.closest('.output');\n",
       "if (outputEl) {{\n",
       "    x.observe(outputEl, {childList: true});\n",
       "}}\n",
       "\n",
       "                        })                };                });            </script>        </div>"
      ]
     },
     "metadata": {},
     "output_type": "display_data"
    },
    {
     "data": {
      "application/vnd.plotly.v1+json": {
       "config": {
        "plotlyServerURL": "https://plot.ly"
       },
       "data": [
        {
         "mode": "lines+markers",
         "name": "",
         "type": "scatter",
         "x": [
          2,
          4,
          6,
          8,
          10,
          12,
          14,
          16,
          18,
          20,
          22,
          24,
          26,
          28,
          30,
          32,
          34,
          36,
          38,
          40,
          42,
          44,
          46,
          48,
          50,
          52,
          54,
          56,
          58,
          60,
          62,
          64,
          66,
          68,
          70,
          72,
          74,
          76,
          78,
          80,
          82,
          84,
          86,
          88,
          90,
          92,
          94,
          96,
          98,
          100
         ],
         "y": [
          0,
          0.0014185043399272956,
          0.002606280789013482,
          0.0035992420845083473,
          0.004457068807566245,
          0.005215938003768628,
          0.0058991700287922555,
          0.006522615611586957,
          0.007097527136902926,
          0.007632181838982177,
          0.008132849781691931,
          0.008604398409651992,
          0.009050685365448174,
          0.009474822547476336,
          0.009879358894510304,
          0.010266410177973029,
          0.01063775324382732,
          0.010994895802305393,
          0.011339129019374283,
          0.01167156777121825,
          0.011993181890076698,
          0.01214811815492034,
          0.01214811815492034,
          0.01214811815492034,
          0.01214811815492034,
          0.01214811815492034,
          0.01214811815492034,
          0.01214811815492034,
          0.01214811815492034,
          0.01214811815492034,
          0.01214811815492034,
          0.01214811815492034,
          0.01214811815492034,
          0.01214811815492034,
          0.01214811815492034,
          0.012148118154913234,
          0.012148118154913234,
          0.012148118154913234,
          0.012148118154913234,
          0.012148118154913234,
          0.012148118154913234,
          0.012148118154911458,
          0.012148118154913234,
          0.012148118154913234,
          0.012148118154911458,
          0.012148118154911458,
          0.012148118154913234,
          0.012148118154911458,
          0.012148118154911458,
          0.012148118154913234
         ]
        }
       ],
       "layout": {
        "height": 500,
        "template": {
         "data": {
          "scatter": [
           {
            "line": {
             "width": 4
            },
            "marker": {
             "size": 10,
             "symbol": "circle"
            },
            "type": "scatter"
           }
          ]
         },
         "layout": {
          "colorway": [
           "#4C78A8",
           "#F58518",
           "#E45756",
           "#72B7B2",
           "#54A24B",
           "#EECA3B",
           "#B279A2",
           "#FF9DA6",
           "#9D755D",
           "#BAB0AC"
          ],
          "font": {
           "color": "#2e2e2e",
           "family": "Arial",
           "size": 16
          },
          "legend": {
           "title": {
            "text": ""
           }
          },
          "margin": {
           "b": 100,
           "l": 100,
           "pad": 5,
           "r": 100,
           "t": 100
          },
          "paper_bgcolor": "#f7f7f7",
          "plot_bgcolor": "#f7f7f7",
          "title": {
           "font": {
            "color": "#636363",
            "size": 24
           },
           "x": 0,
           "xref": "paper",
           "yanchor": "middle",
           "yref": "paper"
          },
          "xaxis": {
           "title": {
            "font": {
             "size": 20
            }
           },
           "zerolinecolor": "#2e2e2e",
           "zerolinewidth": 0
          },
          "yaxis": {
           "title": {
            "font": {
             "size": 20
            }
           },
           "zerolinecolor": "#2e2e2e",
           "zerolinewidth": 0
          }
         }
        },
        "title": {
         "text": "THE EFFECT OF CO2 CONTENT IN SEAWATER<br>ON CALCITE SOLUBILITY"
        },
        "xaxis": {
         "title": {
          "text": "CO2 [mmol]"
         }
        },
        "yaxis": {
         "title": {
          "text": "Calcite Solubility [mol/kgw]"
         }
        }
       }
      },
      "text/html": [
       "<div>                            <div id=\"0ed42209-8a3d-4f43-b83f-a2f8ac83839b\" class=\"plotly-graph-div\" style=\"height:500px; width:100%;\"></div>            <script type=\"text/javascript\">                require([\"plotly\"], function(Plotly) {                    window.PLOTLYENV=window.PLOTLYENV || {};                                    if (document.getElementById(\"0ed42209-8a3d-4f43-b83f-a2f8ac83839b\")) {                    Plotly.newPlot(                        \"0ed42209-8a3d-4f43-b83f-a2f8ac83839b\",                        [{\"mode\":\"lines+markers\",\"name\":\"\",\"x\":[2.0,4.0,6.0,8.0,10.0,12.0,14.0,16.0,18.0,20.0,22.0,24.0,26.0,28.0,30.0,32.0,34.0,36.0,38.0,40.0,42.0,44.0,46.0,48.0,50.0,52.0,54.0,56.0,58.0,60.0,62.0,64.0,66.0,68.0,70.0,72.0,74.0,76.0,78.0,80.0,82.0,84.0,86.0,88.0,90.0,92.0,94.0,96.0,98.0,100.0],\"y\":[0.0,0.0014185043399272956,0.002606280789013482,0.0035992420845083473,0.004457068807566245,0.005215938003768628,0.0058991700287922555,0.006522615611586957,0.007097527136902926,0.007632181838982177,0.008132849781691931,0.008604398409651992,0.009050685365448174,0.009474822547476336,0.009879358894510304,0.010266410177973029,0.01063775324382732,0.010994895802305393,0.011339129019374283,0.01167156777121825,0.011993181890076698,0.01214811815492034,0.01214811815492034,0.01214811815492034,0.01214811815492034,0.01214811815492034,0.01214811815492034,0.01214811815492034,0.01214811815492034,0.01214811815492034,0.01214811815492034,0.01214811815492034,0.01214811815492034,0.01214811815492034,0.01214811815492034,0.012148118154913234,0.012148118154913234,0.012148118154913234,0.012148118154913234,0.012148118154913234,0.012148118154913234,0.012148118154911458,0.012148118154913234,0.012148118154913234,0.012148118154911458,0.012148118154911458,0.012148118154913234,0.012148118154911458,0.012148118154911458,0.012148118154913234],\"type\":\"scatter\"}],                        {\"template\":{\"data\":{\"scatter\":[{\"line\":{\"width\":4},\"marker\":{\"size\":10,\"symbol\":\"circle\"},\"type\":\"scatter\"}]},\"layout\":{\"colorway\":[\"#4C78A8\",\"#F58518\",\"#E45756\",\"#72B7B2\",\"#54A24B\",\"#EECA3B\",\"#B279A2\",\"#FF9DA6\",\"#9D755D\",\"#BAB0AC\"],\"font\":{\"color\":\"#2e2e2e\",\"family\":\"Arial\",\"size\":16},\"legend\":{\"title\":{\"text\":\"\"}},\"margin\":{\"b\":100,\"l\":100,\"pad\":5,\"r\":100,\"t\":100},\"paper_bgcolor\":\"#f7f7f7\",\"plot_bgcolor\":\"#f7f7f7\",\"title\":{\"font\":{\"color\":\"#636363\",\"size\":24},\"x\":0.0,\"xref\":\"paper\",\"yanchor\":\"middle\",\"yref\":\"paper\"},\"xaxis\":{\"title\":{\"font\":{\"size\":20}},\"zerolinecolor\":\"#2e2e2e\",\"zerolinewidth\":0},\"yaxis\":{\"title\":{\"font\":{\"size\":20}},\"zerolinecolor\":\"#2e2e2e\",\"zerolinewidth\":0}}},\"title\":{\"text\":\"THE EFFECT OF CO2 CONTENT IN SEAWATER<br>ON CALCITE SOLUBILITY\"},\"height\":500,\"xaxis\":{\"title\":{\"text\":\"CO2 [mmol]\"}},\"yaxis\":{\"title\":{\"text\":\"Calcite Solubility [mol/kgw]\"}}},                        {\"responsive\": true}                    ).then(function(){\n",
       "                            \n",
       "var gd = document.getElementById('0ed42209-8a3d-4f43-b83f-a2f8ac83839b');\n",
       "var x = new MutationObserver(function (mutations, observer) {{\n",
       "        var display = window.getComputedStyle(gd).display;\n",
       "        if (!display || display === 'none') {{\n",
       "            console.log([gd, 'removed!']);\n",
       "            Plotly.purge(gd);\n",
       "            observer.disconnect();\n",
       "        }}\n",
       "}});\n",
       "\n",
       "// Listen for the removal of the full notebook cells\n",
       "var notebookContainer = gd.closest('#notebook-container');\n",
       "if (notebookContainer) {{\n",
       "    x.observe(notebookContainer, {childList: true});\n",
       "}}\n",
       "\n",
       "// Listen for the clearing of the current output cell\n",
       "var outputEl = gd.closest('.output');\n",
       "if (outputEl) {{\n",
       "    x.observe(outputEl, {childList: true});\n",
       "}}\n",
       "\n",
       "                        })                };                });            </script>        </div>"
      ]
     },
     "metadata": {},
     "output_type": "display_data"
    }
   ],
   "source": [
    "fig1 = Figure()\n",
    "fig1.title(\"PH DEPENDENCE ON AMOUNT OF<br>ADDED CO2 TO THE SEAWATER\")\n",
    "fig1.xaxisTitle('CO2 [mmol]')\n",
    "fig1.yaxisTitle('pH')\n",
    "fig1.drawLineWithMarkers(df_seawater[\"amountCO2\"], df_seawater[\"pH\"], name=\"\")\n",
    "\n",
    "fig2 = Figure()\n",
    "fig2.title(\"THE EFFECT OF CO2 CONTENT IN SEAWATER<br>ON CALCITE SOLUBILITY\")\n",
    "fig2.xaxisTitle('CO2 [mmol]')\n",
    "fig2.yaxisTitle('Calcite Solubility [mol/kgw]')\n",
    "fig2.drawLineWithMarkers(df_seawater[\"amountCO2\"], df_seawater[\"deltaCalcite\"], name=\"\")\n",
    "\n",
    "fig1.height(500)\n",
    "fig2.height(500)\n",
    "\n",
    "fig1.show()\n",
    "fig2.show()"
   ]
  },
  {
   "cell_type": "markdown",
   "metadata": {},
   "source": [
    "Below 45 mmol CO<sub>2</sub>, the seawater becomes increasingly acidic with the addition of the gas, which increases the solubility of the calcite. However, once the saturation point is reached, no more gas can be dissolved in the seawater and the pH remains constant. The solubility of the calcite is also constant from this point on."
   ]
  }
 ],
 "metadata": {
  "kernelspec": {
   "display_name": "Python 3.9.9 ('reaktoro-jupyter-book')",
   "language": "python",
   "name": "python3"
  },
  "language_info": {
   "codemirror_mode": {
    "name": "ipython",
    "version": 3
   },
   "file_extension": ".py",
   "mimetype": "text/x-python",
   "name": "python",
   "nbconvert_exporter": "python",
   "pygments_lexer": "ipython3",
   "version": "3.10.9"
  },
  "vscode": {
   "interpreter": {
    "hash": "e4e8b2f3ae27709963f14fd23a6560d362beea55eaec742263828e04d814e23c"
   }
  }
 },
 "nbformat": 4,
 "nbformat_minor": 4
}
