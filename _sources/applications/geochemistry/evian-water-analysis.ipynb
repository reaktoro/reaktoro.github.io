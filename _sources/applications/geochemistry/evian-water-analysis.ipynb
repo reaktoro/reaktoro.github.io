{
 "cells": [
  {
   "attachments": {},
   "cell_type": "markdown",
   "metadata": {},
   "source": [
    "# Analysis of the Evian water\n",
    "\n",
    "<p class=\"acknowledgement\">Written by Svetlana Kyas (ETH Zurich) on Mar 31th, 2022</p>\n",
    "\n",
    "```{attention}\n",
    "Always make sure you are using the [latest version of Reaktoro](https://anaconda.org/conda-forge/reaktoro). Otherwise, some new features documented on this website will not work on your machine and you may receive unintuitive errors. Follow these [update instructions](updating_reaktoro_via_conda) to get the latest version of Reaktoro!\n",
    "```\n",
    "\n",
    "This tutorial addresses the problem of checking the quality of Evian water using Reaktoro with a custom chemical composition.\n",
    "\n",
    "|![Evian water label](../../images/applications/evian-chemical-water-composition.png)|\n",
    "|:--:|\n",
    "|Evian water label, Source: wikipedia.org|\n",
    "\n",
    "We start by defining the chemical system with aqueous, gaseous and mineral phases, temperature, pressure and pH restrictions and their values:"
   ]
  },
  {
   "cell_type": "code",
   "execution_count": 1,
   "metadata": {},
   "outputs": [],
   "source": [
    "from reaktoro import *\n",
    "from math import *\n",
    "\n",
    "db = PhreeqcDatabase(\"phreeqc.dat\")\n",
    "\n",
    "# Create an aqueous phase automatically selecting all species with provided elements\n",
    "aqueousphase = AqueousPhase(speciate(\"C Ca Cl H K Mg N Na O S Si\"))\n",
    "aqueousphase.set(chain(\n",
    "    ActivityModelHKF(),\n",
    "    ActivityModelDrummond(\"CO2\"),\n",
    "))\n",
    "\n",
    "# Create a gaseous phase\n",
    "gaseousphase = GaseousPhase(\"CO2(g)\")\n",
    "gaseousphase.set(ActivityModelPengRobinsonPhreeqc())\n",
    "\n",
    "# Create mineral phases\n",
    "minerals = MineralPhases()\n",
    "\n",
    "# Create the chemical system\n",
    "system = ChemicalSystem(db, aqueousphase, gaseousphase, minerals)\n",
    "\n",
    "# Create constraints on temperature, pressure, and pH on the equilibrium chemical state \n",
    "specs = EquilibriumSpecs(system)\n",
    "specs.temperature()\n",
    "specs.pressure()\n",
    "specs.pH()\n",
    "\n",
    "# Initialize the equilibrium solver\n",
    "solver = EquilibriumSolver(specs)\n",
    "\n",
    "# Define conditions to be satisfied at the chemical equilibrium state\n",
    "conditions = EquilibriumConditions(specs)\n",
    "conditions.temperature(25.0, \"celsius\")\n",
    "conditions.pressure(1.0, \"atm\")\n",
    "conditions.pH(7.2)"
   ]
  },
  {
   "cell_type": "markdown",
   "metadata": {},
   "source": [
    "The composition of the initial chemical state is taken from the plot with  Evian water label above. However, since the concentrations of the species in Evian water are defined as milligrams per liter (mg/L), we must convert these values to moles using the molar masses of the species. The latter can be determined with the function `db.species(\"SpeicesName\").molarMass()`. To convert `mg` to `kg`, we multiply the values by 1e-6. We also equilibrate the chemical state with the given conditions."
   ]
  },
  {
   "cell_type": "code",
   "execution_count": 2,
   "metadata": {},
   "outputs": [],
   "source": [
    "# Initialize chemical state\n",
    "state = ChemicalState(system)\n",
    "state.set(\"H2O\"    , 1.0, \"kg\")\n",
    "state.set(\"Ca+2\"   , 80 * 1e-6   / db.species(\"Ca+2\").molarMass()   , \"mol\")  # 80 * 1e-6 kg / (MW(Ca++) kg / mol)\n",
    "state.set(\"Cl-\"    , 6.8 * 1e-6  / db.species(\"Cl-\").molarMass()    , \"mol\")  # 6.8 * 1e-6 kg / (MW(Cl-) kg / mol)\n",
    "state.set(\"HCO3-\"  , 350 * 1e-6  / db.species(\"HCO3-\").molarMass()  , \"mol\")  # 350 * 1e-6 kg / (MW(HCO3-) kg / mol)\n",
    "state.set(\"Mg+2\"   , 26 * 1e-6   / db.species(\"Mg+2\").molarMass()   , \"mol\")  # 26 * 1e-6 kg / (MW(Mg++) kg / mol)\n",
    "state.set(\"NO3-\"   , 3.7 * 1e-6  / db.species(\"NO3-\").molarMass()   , \"mol\")  # 3.7 * 1e-6 kg / (MW(NO3-) kg / mol)\n",
    "state.set(\"K+\"     , 1 * 1e-6    / db.species(\"K+\").molarMass()     , \"mol\")  # 1 * 1e-6 kg / (MW(K+) kg / mol)\n",
    "state.set(\"Na+\"    , 6.5 * 1e-6  / db.species(\"Na+\").molarMass()    , \"mol\")  # 6.5 * 1e-6 kg / (MW(Na+) kg / mol)\n",
    "state.set(\"SO4-2\"  , 12.6 * 1e-6 / db.species(\"SO4-2\").molarMass()  , \"mol\")  # 12.6 * 1e-6 kg / (MW(SO4--) kg / mol)\n",
    "state.set(\"SiO2(a)\", 15 * 1e-6   / db.species(\"SiO2(a)\").molarMass(), \"mol\")  # 15 * 1e-6 kg / (MW(SiO2) kg/ mol\n",
    "\n",
    "# Equilibrate the solution with the given initial chemical state and desired conditions at equilibrium\n",
    "res = solver.solve(state, conditions)"
   ]
  },
  {
   "cell_type": "markdown",
   "metadata": {},
   "source": [
    "We then perform an analysis of the chemical equilibrium state of Evian water,i.e.,\n",
    "* evaluation of the saturation indices of all the minerals contained in the database, which can be formed by chemical reactions and\n",
    "* analysis of the composition of the solution.\n",
    "\n",
    "To obtain saturation indices of minerals, we need to access the aqueous properties of the calculated chemical state. The **saturation index** is defined as log10 of the ratio of equilibrium constant and reaction quotient. It is 0 for minerals that are *saturated* or, in other words, *precipitated and remain in equilibrium with the solution*, SI > 0 for *supersaturated minerals* and SI < 0 for *unsaturated minerals*."
   ]
  },
  {
   "cell_type": "code",
   "execution_count": null,
   "metadata": {
    "tags": [
     "remove-input",
     "remove-output"
    ]
   },
   "outputs": [],
   "source": [
    "Warnings.disable(525)"
   ]
  },
  {
   "cell_type": "code",
   "execution_count": 3,
   "metadata": {},
   "outputs": [
    {
     "name": "stdout",
     "output_type": "stream",
     "text": [
      "SI (Calcite, CaCO3)       =  2.6947e-12\n",
      "SI (Aragonite, CaCO3)     =  -0.14377\n",
      "SI (Dolomite, CaMg(CO3)2) =  -0.0480374\n",
      "SI (Quartz, SiO2)         =  -3.16124e-13\n",
      "SI (Chalcedony, SiO2)     =  -0.429063\n"
     ]
    },
    {
     "name": "stderr",
     "output_type": "stream",
     "text": [
      "\u001b[1;33m***WARNING***\n",
      "Hey, if you were using method saturationIndex in AqueousProps class before to compute IAP/K, please use the newly added saturationRatio method instead, because saturationIndex now computes log10(IAP/K) and not IAP/K.\n",
      "Disable this temporary warning by executing `Warnings.disable(525)` in Python or `Warnings::disable(525);` in C++. \n",
      "\u001b[0m\u001b[1;33m***WARNING***\n",
      "Hey, if you were using method saturationIndex in AqueousProps class before to compute IAP/K, please use the newly added saturationRatio method instead, because saturationIndex now computes log10(IAP/K) and not IAP/K.\n",
      "Disable this temporary warning by executing `Warnings.disable(525)` in Python or `Warnings::disable(525);` in C++. \n",
      "\u001b[0m\u001b[1;33m***WARNING***\n",
      "Hey, if you were using method saturationIndex in AqueousProps class before to compute IAP/K, please use the newly added saturationRatio method instead, because saturationIndex now computes log10(IAP/K) and not IAP/K.\n",
      "Disable this temporary warning by executing `Warnings.disable(525)` in Python or `Warnings::disable(525);` in C++. \n",
      "\u001b[0m\u001b[1;33m***WARNING***\n",
      "Hey, if you were using method saturationIndex in AqueousProps class before to compute IAP/K, please use the newly added saturationRatio method instead, because saturationIndex now computes log10(IAP/K) and not IAP/K.\n",
      "Disable this temporary warning by executing `Warnings.disable(525)` in Python or `Warnings::disable(525);` in C++. \n",
      "\u001b[0m\u001b[1;33m***WARNING***\n",
      "Hey, if you were using method saturationIndex in AqueousProps class before to compute IAP/K, please use the newly added saturationRatio method instead, because saturationIndex now computes log10(IAP/K) and not IAP/K.\n",
      "Disable this temporary warning by executing `Warnings.disable(525)` in Python or `Warnings::disable(525);` in C++. \n",
      "\u001b[0m"
     ]
    }
   ],
   "source": [
    "# Calculate saturation indices of selected minerals\n",
    "props = AqueousProps(state)\n",
    "print(\"SI (Calcite, CaCO3)       = \", props.saturationIndex('Calcite'))\n",
    "print(\"SI (Aragonite, CaCO3)     = \", props.saturationIndex('Aragonite'))\n",
    "print(\"SI (Dolomite, CaMg(CO3)2) = \", props.saturationIndex('Dolomite'))\n",
    "print(\"SI (Quartz, SiO2)         = \", props.saturationIndex('Quartz'))\n",
    "print(\"SI (Chalcedony, SiO2)     = \", props.saturationIndex('Chalcedony'))"
   ]
  },
  {
   "cell_type": "markdown",
   "metadata": {},
   "source": [
    "Based on the results above, the water is *saturated with dolomite*, whereas calcite and quartz are *undersaturated*."
   ]
  }
 ],
 "metadata": {
  "kernelspec": {
   "display_name": "Python 3.9.9 ('reaktoro-jupyter-book')",
   "language": "python",
   "name": "python3"
  },
  "language_info": {
   "codemirror_mode": {
    "name": "ipython",
    "version": 3
   },
   "file_extension": ".py",
   "mimetype": "text/x-python",
   "name": "python",
   "nbconvert_exporter": "python",
   "pygments_lexer": "ipython3",
   "version": "3.10.9"
  },
  "vscode": {
   "interpreter": {
    "hash": "e4e8b2f3ae27709963f14fd23a6560d362beea55eaec742263828e04d814e23c"
   }
  }
 },
 "nbformat": 4,
 "nbformat_minor": 4
}
