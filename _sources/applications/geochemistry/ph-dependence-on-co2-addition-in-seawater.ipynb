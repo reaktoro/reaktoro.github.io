{
    "cells": [
        {
            "attachments": {},
            "cell_type": "markdown",
            "metadata": {},
            "source": [
                "# Carbon dioxide (CO₂) dissolution in seawater\n",
                "\n",
                "<p class=\"acknowledgement\">Written by Svetlana Kyas (ETH Zurich) on Mar 31th, 2022.<br>Last revised on March 31st, 2023 by Allan Leal.</p>\n",
                "\n",
                "```{attention}\n",
                "Always make sure you are using the [latest version of Reaktoro](https://anaconda.org/conda-forge/reaktoro). Otherwise, some new features documented on this website will not work on your machine and you may receive unintuitive errors. Follow these [update instructions](updating_reaktoro_via_conda) to get the latest version of Reaktoro!\n",
                "```\n",
                "\n",
                "Ocean acidification remains a significant problem resulting from human activities, primarily the burning of fossil fuels. As atmospheric carbon dioxide levels increase, the ocean absorbs more carbon dioxide, triggering a series of chemical reactions in seawater that have a negative impact on the ocean and its inhabitants. These reactions can lead to a decrease in the production of calcium carbonate shells in bivalves and other aquatic organisms, as well as a range of other physiological challenges for marine organisms. This reduction in shell production has implications for the entire ocean food chain, as many species rely on these shells for protection and as a food source. Therefore, addressing ocean acidification is critical for the health and sustainability of ocean ecosystems.\n",
                "\n",
                "This tutorial demonstrates the use of Reaktoro for modeling ocean acidification, by computing the pH of a seawater solution for increasing concentrations of dissolved CO₂. \n",
                "\n",
                "|![The CO2 cycle between the atmosphere and the ocean](../../images/applications/co2-pump-ocean-acidification.png)|\n",
                "|:--:|\n",
                "|The CO2 cycle between the atmosphere and the ocean, Source: wikipedia.org|\n",
                "\n",
                "We start by defining the chemical system containing aqueous and gaseous phases.  "
            ]
        },
        {
            "cell_type": "code",
            "execution_count": 1,
            "metadata": {},
            "outputs": [],
            "source": [
                "from reaktoro import *\n",
                "import pandas as pd\n",
                "\n",
                "db = SupcrtDatabase(\"supcrtbl\")\n",
                "\n",
                "# Create an aqueous phase automatically selecting all species with provided elements\n",
                "aqueousphase = AqueousPhase(speciate(\"H O C Ca Mg K Cl Na S N\"))\n",
                "aqueousphase.set(chain(\n",
                "    ActivityModelHKF(),\n",
                "    ActivityModelDrummond(\"CO2\"),\n",
                "))\n",
                "\n",
                "# Create a gaseous phase\n",
                "gaseousphase = GaseousPhase(\"CO2(g)\")\n",
                "gaseousphase.set(ActivityModelPengRobinsonPhreeqc())\n",
                "\n",
                "# Create the chemical system\n",
                "system = ChemicalSystem(db, aqueousphase, gaseousphase)\n",
                "\n",
                "# Create the equilibrium solver\n",
                "solver = EquilibriumSolver(system)"
            ]
        },
        {
            "cell_type": "markdown",
            "metadata": {},
            "source": [
                "Next, we initialize the chemical state corresponding to the seawater content, equilibrate it, and evaluate the pH level obtained after equilibration:"
            ]
        },
        {
            "cell_type": "code",
            "execution_count": 2,
            "metadata": {},
            "outputs": [
                {
                    "name": "stdout",
                    "output_type": "stream",
                    "text": [
                        "pH of seawater =  7.699061704247914\n"
                    ]
                }
            ],
            "source": [
                "state = ChemicalState(system)\n",
                "state.setTemperature(25, \"celsius\")\n",
                "state.setPressure(1.0, \"bar\")\n",
                "state.add(\"H2O(aq)\",      1.0, \"kg\")\n",
                "state.add(\"Ca+2\" ,   412.3, \"mg\")\n",
                "state.add(\"Mg+2\" ,  1290.0, \"mg\")\n",
                "state.add(\"Na+\"  , 10768.0, \"mg\")\n",
                "state.add(\"K+\"   ,   399.1, \"mg\")\n",
                "state.add(\"Cl-\"  , 19353.0, \"mg\")\n",
                "state.add(\"HCO3-\",   141.7, \"mg\")\n",
                "state.add(\"SO4-2\",  2712.0, \"mg\")\n",
                "\n",
                "solver.solve(state)\n",
                "\n",
                "aprops = AqueousProps(state)\n",
                "print(\"pH of seawater = \", float(aprops.pH()))"
            ]
        },
        {
            "cell_type": "markdown",
            "metadata": {},
            "source": [
                "Finally, we define the auxiliary variables with the initial values of the CO<sub>2</sub> amount and its increment. We run the loop with `nsteps` steps adding CO<sub>2</sub> into seawater and re-equilibrate it again. We collect the amount of added carbon dioxide and the corresponding pH value in `pandas.DataFrame`."
            ]
        },
        {
            "cell_type": "code",
            "execution_count": 3,
            "metadata": {},
            "outputs": [],
            "source": [
                "co2_0 = 0.0\n",
                "co2_delta = 0.1\n",
                "nsteps = 50\n",
                "\n",
                "df = pd.DataFrame(columns=[\"amountCO2\", \"pH\"])\n",
                "df.loc[len(df)] = [co2_0, float(aprops.pH())]\n",
                "\n",
                "for i in range(nsteps):\n",
                "\n",
                "    # Add more CO2 to the problem\n",
                "    state.add(\"CO2(g)\", co2_delta, \"mmol\")\n",
                "\n",
                "    # Equilibrate state with updated problem\n",
                "    solver.solve(state)\n",
                "\n",
                "    # Update aqueous properties\n",
                "    aprops.update(state)\n",
                "\n",
                "    # Update CO2 amount\n",
                "    co2_0 += co2_delta\n",
                "\n",
                "    # Append new calculated value to the dataframe\n",
                "    df.loc[len(df)] = [co2_0, float(aprops.pH())]"
            ]
        },
        {
            "attachments": {},
            "cell_type": "markdown",
            "metadata": {},
            "source": [
                "We plot below pH as a function of the added amount of CO<sub>2</sub> into the seawater."
            ]
        },
        {
            "cell_type": "code",
            "execution_count": 6,
            "metadata": {},
            "outputs": [
                {
                    "data": {
                        "application/vnd.plotly.v1+json": {
                            "config": {
                                "plotlyServerURL": "https://plot.ly"
                            },
                            "data": [
                                {
                                    "mode": "lines+markers",
                                    "name": "",
                                    "type": "scatter",
                                    "x": [
                                        0,
                                        0.1,
                                        0.2,
                                        0.30000000000000004,
                                        0.4,
                                        0.5,
                                        0.6,
                                        0.7,
                                        0.7999999999999999,
                                        0.8999999999999999,
                                        0.9999999999999999,
                                        1.0999999999999999,
                                        1.2,
                                        1.3,
                                        1.4000000000000001,
                                        1.5000000000000002,
                                        1.6000000000000003,
                                        1.7000000000000004,
                                        1.8000000000000005,
                                        1.9000000000000006,
                                        2.0000000000000004,
                                        2.1000000000000005,
                                        2.2000000000000006,
                                        2.3000000000000007,
                                        2.400000000000001,
                                        2.500000000000001,
                                        2.600000000000001,
                                        2.700000000000001,
                                        2.800000000000001,
                                        2.9000000000000012,
                                        3.0000000000000013,
                                        3.1000000000000014,
                                        3.2000000000000015,
                                        3.3000000000000016,
                                        3.4000000000000017,
                                        3.5000000000000018,
                                        3.600000000000002,
                                        3.700000000000002,
                                        3.800000000000002,
                                        3.900000000000002,
                                        4.000000000000002,
                                        4.100000000000001,
                                        4.200000000000001,
                                        4.300000000000001,
                                        4.4,
                                        4.5,
                                        4.6,
                                        4.699999999999999,
                                        4.799999999999999,
                                        4.899999999999999,
                                        4.999999999999998
                                    ],
                                    "y": [
                                        7.699061704247914,
                                        7.3273811847509664,
                                        7.089198069750332,
                                        6.9288626843568535,
                                        6.810103107568729,
                                        6.716261467932629,
                                        6.638841166459757,
                                        6.57300867983639,
                                        6.515773279458201,
                                        6.465162491211608,
                                        6.4198094499977545,
                                        6.378729060844511,
                                        6.341188435809331,
                                        6.306627823395508,
                                        6.274610191368156,
                                        6.244787874646951,
                                        6.216879810548032,
                                        6.190655576279867,
                                        6.165923930983753,
                                        6.14252442053935,
                                        6.120321113782553,
                                        6.099197852882966,
                                        6.079054599355598,
                                        6.059804586076115,
                                        6.041372071146907,
                                        6.02369054729647,
                                        6.0067013003524625,
                                        5.990352238242642,
                                        5.974596931844511,
                                        5.959393823322614,
                                        5.944705568061633,
                                        5.930498484037151,
                                        5.9167420882520645,
                                        5.903408704230903,
                                        5.890473127897038,
                                        5.877912341713473,
                                        5.865705268967407,
                                        5.853832561608134,
                                        5.842276416300705,
                                        5.83102041430223,
                                        5.820049381556884,
                                        5.809349266020514,
                                        5.798907029731988,
                                        5.788710553553392,
                                        5.778748552836194,
                                        5.769010502544474,
                                        5.75948657058983,
                                        5.750167558319798,
                                        5.741044847262477,
                                        5.732110351346143,
                                        5.723356473944759
                                    ]
                                }
                            ],
                            "layout": {
                                "template": {
                                    "data": {
                                        "scatter": [
                                            {
                                                "line": {
                                                    "width": 4
                                                },
                                                "marker": {
                                                    "size": 10,
                                                    "symbol": "circle"
                                                },
                                                "type": "scatter"
                                            }
                                        ]
                                    },
                                    "layout": {
                                        "colorway": [
                                            "#4C78A8",
                                            "#F58518",
                                            "#E45756",
                                            "#72B7B2",
                                            "#54A24B",
                                            "#EECA3B",
                                            "#B279A2",
                                            "#FF9DA6",
                                            "#9D755D",
                                            "#BAB0AC"
                                        ],
                                        "font": {
                                            "color": "#2e2e2e",
                                            "family": "Arial",
                                            "size": 16
                                        },
                                        "legend": {
                                            "title": {
                                                "text": ""
                                            }
                                        },
                                        "margin": {
                                            "b": 100,
                                            "l": 100,
                                            "pad": 5,
                                            "r": 100,
                                            "t": 100
                                        },
                                        "paper_bgcolor": "#f7f7f7",
                                        "plot_bgcolor": "#f7f7f7",
                                        "title": {
                                            "font": {
                                                "color": "#636363",
                                                "size": 24
                                            },
                                            "x": 0,
                                            "xref": "paper",
                                            "yanchor": "middle",
                                            "yref": "paper"
                                        },
                                        "xaxis": {
                                            "title": {
                                                "font": {
                                                    "size": 20
                                                }
                                            },
                                            "zerolinecolor": "#2e2e2e",
                                            "zerolinewidth": 0
                                        },
                                        "yaxis": {
                                            "title": {
                                                "font": {
                                                    "size": 20
                                                }
                                            },
                                            "zerolinecolor": "#2e2e2e",
                                            "zerolinewidth": 0
                                        }
                                    }
                                },
                                "title": {
                                    "text": "PH DEPENDENCE ON AMOUNT OF ADDED CO2 TO THE SEAWATER"
                                },
                                "xaxis": {
                                    "title": {
                                        "text": "CO2 [mmol]"
                                    }
                                },
                                "yaxis": {
                                    "title": {
                                        "text": "pH"
                                    }
                                }
                            }
                        },
                        "text/html": [
                            "<div>                            <div id=\"0560b3a7-5927-47fd-9630-16007d1ae4ce\" class=\"plotly-graph-div\" style=\"height:525px; width:100%;\"></div>            <script type=\"text/javascript\">                require([\"plotly\"], function(Plotly) {                    window.PLOTLYENV=window.PLOTLYENV || {};                                    if (document.getElementById(\"0560b3a7-5927-47fd-9630-16007d1ae4ce\")) {                    Plotly.newPlot(                        \"0560b3a7-5927-47fd-9630-16007d1ae4ce\",                        [{\"mode\":\"lines+markers\",\"name\":\"\",\"x\":[0.0,0.1,0.2,0.30000000000000004,0.4,0.5,0.6,0.7,0.7999999999999999,0.8999999999999999,0.9999999999999999,1.0999999999999999,1.2,1.3,1.4000000000000001,1.5000000000000002,1.6000000000000003,1.7000000000000004,1.8000000000000005,1.9000000000000006,2.0000000000000004,2.1000000000000005,2.2000000000000006,2.3000000000000007,2.400000000000001,2.500000000000001,2.600000000000001,2.700000000000001,2.800000000000001,2.9000000000000012,3.0000000000000013,3.1000000000000014,3.2000000000000015,3.3000000000000016,3.4000000000000017,3.5000000000000018,3.600000000000002,3.700000000000002,3.800000000000002,3.900000000000002,4.000000000000002,4.100000000000001,4.200000000000001,4.300000000000001,4.4,4.5,4.6,4.699999999999999,4.799999999999999,4.899999999999999,4.999999999999998],\"y\":[7.699061704247914,7.3273811847509664,7.089198069750332,6.9288626843568535,6.810103107568729,6.716261467932629,6.638841166459757,6.57300867983639,6.515773279458201,6.465162491211608,6.4198094499977545,6.378729060844511,6.341188435809331,6.306627823395508,6.274610191368156,6.244787874646951,6.216879810548032,6.190655576279867,6.165923930983753,6.14252442053935,6.120321113782553,6.099197852882966,6.079054599355598,6.059804586076115,6.041372071146907,6.02369054729647,6.0067013003524625,5.990352238242642,5.974596931844511,5.959393823322614,5.944705568061633,5.930498484037151,5.9167420882520645,5.903408704230903,5.890473127897038,5.877912341713473,5.865705268967407,5.853832561608134,5.842276416300705,5.83102041430223,5.820049381556884,5.809349266020514,5.798907029731988,5.788710553553392,5.778748552836194,5.769010502544474,5.75948657058983,5.750167558319798,5.741044847262477,5.732110351346143,5.723356473944759],\"type\":\"scatter\"}],                        {\"template\":{\"data\":{\"scatter\":[{\"line\":{\"width\":4},\"marker\":{\"size\":10,\"symbol\":\"circle\"},\"type\":\"scatter\"}]},\"layout\":{\"colorway\":[\"#4C78A8\",\"#F58518\",\"#E45756\",\"#72B7B2\",\"#54A24B\",\"#EECA3B\",\"#B279A2\",\"#FF9DA6\",\"#9D755D\",\"#BAB0AC\"],\"font\":{\"color\":\"#2e2e2e\",\"family\":\"Arial\",\"size\":16},\"legend\":{\"title\":{\"text\":\"\"}},\"margin\":{\"b\":100,\"l\":100,\"pad\":5,\"r\":100,\"t\":100},\"paper_bgcolor\":\"#f7f7f7\",\"plot_bgcolor\":\"#f7f7f7\",\"title\":{\"font\":{\"color\":\"#636363\",\"size\":24},\"x\":0.0,\"xref\":\"paper\",\"yanchor\":\"middle\",\"yref\":\"paper\"},\"xaxis\":{\"title\":{\"font\":{\"size\":20}},\"zerolinecolor\":\"#2e2e2e\",\"zerolinewidth\":0},\"yaxis\":{\"title\":{\"font\":{\"size\":20}},\"zerolinecolor\":\"#2e2e2e\",\"zerolinewidth\":0}}},\"title\":{\"text\":\"PH DEPENDENCE ON AMOUNT OF ADDED CO2 TO THE SEAWATER\"},\"xaxis\":{\"title\":{\"text\":\"CO2 [mmol]\"}},\"yaxis\":{\"title\":{\"text\":\"pH\"}}},                        {\"responsive\": true}                    ).then(function(){\n",
                            "                            \n",
                            "var gd = document.getElementById('0560b3a7-5927-47fd-9630-16007d1ae4ce');\n",
                            "var x = new MutationObserver(function (mutations, observer) {{\n",
                            "        var display = window.getComputedStyle(gd).display;\n",
                            "        if (!display || display === 'none') {{\n",
                            "            console.log([gd, 'removed!']);\n",
                            "            Plotly.purge(gd);\n",
                            "            observer.disconnect();\n",
                            "        }}\n",
                            "}});\n",
                            "\n",
                            "// Listen for the removal of the full notebook cells\n",
                            "var notebookContainer = gd.closest('#notebook-container');\n",
                            "if (notebookContainer) {{\n",
                            "    x.observe(notebookContainer, {childList: true});\n",
                            "}}\n",
                            "\n",
                            "// Listen for the clearing of the current output cell\n",
                            "var outputEl = gd.closest('.output');\n",
                            "if (outputEl) {{\n",
                            "    x.observe(outputEl, {childList: true});\n",
                            "}}\n",
                            "\n",
                            "                        })                };                });            </script>        </div>"
                        ]
                    },
                    "metadata": {},
                    "output_type": "display_data"
                }
            ],
            "source": [
                "from reaktplot import *\n",
                "\n",
                "fig = Figure()\n",
                "fig.title(\"PH DEPENDENCE ON AMOUNT OF ADDED CO2 TO THE SEAWATER\")\n",
                "fig.xaxisTitle('CO2 [mmol]')\n",
                "fig.yaxisTitle('pH')\n",
                "fig.drawLineWithMarkers(df[\"amountCO2\"], df[\"pH\"], name=\"\")\n",
                "\n",
                "fig.show()"
            ]
        },
        {
            "cell_type": "markdown",
            "metadata": {},
            "source": [
                "As expected, the pH decreases as we continue to add CO<sub>2</sub> into the seawater, the solution gradually becomes more acidic."
            ]
        }
    ],
    "metadata": {
        "kernelspec": {
            "display_name": "reaktoro-jupyter-book",
            "language": "python",
            "name": "python3"
        },
        "language_info": {
            "codemirror_mode": {
                "name": "ipython",
                "version": 3
            },
            "file_extension": ".py",
            "mimetype": "text/x-python",
            "name": "python",
            "nbconvert_exporter": "python",
            "pygments_lexer": "ipython3",
            "version": "3.10.9"
        },
        "vscode": {
            "interpreter": {
                "hash": "e4e8b2f3ae27709963f14fd23a6560d362beea55eaec742263828e04d814e23c"
            }
        }
    },
    "nbformat": 4,
    "nbformat_minor": 4
}
