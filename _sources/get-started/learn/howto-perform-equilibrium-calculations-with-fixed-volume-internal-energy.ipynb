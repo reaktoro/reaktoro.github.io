{
 "cells": [
  {
   "cell_type": "markdown",
   "metadata": {},
   "source": [
    "# How to perform chemical equilibrium calculations with fixed volume and internal energy\n",
    "\n",
    "Let's consider again the combustion of 1 mol of CH{{_4}} and 0.5 mol of O{{_2}}. This time, however, we will not specify temperature and pressure, or temperature and volume, but **volume and internal energy**. This is to model the combustion of this gas mixture in a rigid and adiabatic chamber. In this problem, both temperature and pressure are unknowns and will be calculated along with the amounts of the species that bring the system of a state of chemical equilibrium:"
   ]
  },
  {
   "cell_type": "code",
   "execution_count": 1,
   "metadata": {},
   "outputs": [],
   "source": [
    "from reaktoro import *\n",
    "\n",
    "db = NasaDatabase(\"nasa-cea\")\n",
    "\n",
    "gases = GaseousPhase(\"CH4 O2 CO2 CO H2O H2\")\n",
    "\n",
    "system = ChemicalSystem(db, gases)\n",
    "\n",
    "state0 = ChemicalState(system)\n",
    "state0.temperature(25.0, \"celsius\")\n",
    "state0.pressure(1.0, \"bar\")\n",
    "state0.set(\"CH4\", 1.0, \"mol\")\n",
    "state0.set(\"O2\",  0.5, \"mol\")\n",
    "\n",
    "props0 = ChemicalProps(state0)\n",
    "\n",
    "V0 = props0.volume()  # the initial volume of the gases\n",
    "U0 = props0.internalEnergy()  # the initial internal energy of the gases"
   ]
  },
  {
   "cell_type": "code",
   "execution_count": 2,
   "metadata": {},
   "outputs": [
    {
     "name": "stdout",
     "output_type": "stream",
     "text": [
      "+-----------------+-----------+------+\n",
      "| Property        |     Value | Unit |\n",
      "+-----------------+-----------+------+\n",
      "| Temperature     |   1230.15 |    K |\n",
      "| Pressure        |    768530 |   Pa |\n",
      "| Charge:         |         0 |  mol |\n",
      "| Element Amount: |           |      |\n",
      "| :: H            |         4 |  mol |\n",
      "| :: C            |         1 |  mol |\n",
      "| :: O            |         1 |  mol |\n",
      "| Species Amount: |           |      |\n",
      "| :: CH4          |  0.102994 |  mol |\n",
      "| :: O2           |     1e-16 |  mol |\n",
      "| :: CO2          | 0.0261655 |  mol |\n",
      "| :: CO           |   0.87084 |  mol |\n",
      "| :: H2O          | 0.0768286 |  mol |\n",
      "| :: H2           |   1.71718 |  mol |\n",
      "+-----------------+-----------+------+\n"
     ]
    }
   ],
   "source": [
    "\n",
    "specs = EquilibriumSpecs(system)\n",
    "specs.volume()\n",
    "specs.internalEnergy()\n",
    "\n",
    "conditions = EquilibriumConditions(specs)\n",
    "conditions.volume(V0)\n",
    "conditions.internalEnergy(U0)\n",
    "\n",
    "conditions.setLowerBoundPressure(1.0, \"bar\")\n",
    "conditions.setLowerBoundTemperature(25.0, \"celsius\")\n",
    "\n",
    "state = ChemicalState(state0)\n",
    "\n",
    "solver = EquilibriumSolver(specs)\n",
    "solver.solve(state, conditions)\n",
    "\n",
    "print(state)"
   ]
  },
  {
   "cell_type": "markdown",
   "metadata": {},
   "source": [
    "\n",
    "\n",
    "\n",
    "Let's see different use cases for {{EquilibriumSolver}} in the next sections."
   ]
  },
  {
   "cell_type": "markdown",
   "metadata": {},
   "source": []
  },
  {
   "cell_type": "markdown",
   "metadata": {},
   "source": [
    "## Checking if the calculation was successful\n",
    "\n",
    "Performing chemical equilibrium calculations is not a trivial task. It involves highly complicated algorithms to solve different mathematical problems (eg non-linear equations, matrix equations). Therefore, it is possible that a calculation could fail. This can happen due to many factors. However, the most common are:\n",
    "\n",
    "* the formulation of the equilibrium problem is ill-formed (e.g. specifying a set of conflicting equilibrium constraints that cannot be achieved chemically/thermodynamically)\n",
    "* the use of poor initial guesses.\n",
    "\n",
    "So you might want to check at the end of each equilibrium calculation if it was successful:"
   ]
  },
  {
   "cell_type": "code",
   "execution_count": 3,
   "metadata": {},
   "outputs": [
    {
     "name": "stdout",
     "output_type": "stream",
     "text": [
      "Succeesful? True\n"
     ]
    }
   ],
   "source": [
    "state = ChemicalState(system)\n",
    "state.temperature(1000, \"celsius\")\n",
    "state.pressure(100, \"bar\")\n",
    "state.set(\"CH4\", 1.0, \"mol\")\n",
    "state.set(\"O2\",  0.5, \"mol\")\n",
    "\n",
    "solver = EquilibriumSolver(system)\n",
    "result = solver.solve(state)\n",
    "\n",
    "print(\"Succeesful?\", result.optima.succeeded)"
   ]
  },
  {
   "cell_type": "markdown",
   "metadata": {},
   "source": [
    "The object `result` above is of type {{EquilibriumResult}} and it also contains other details about the calculation, such as the number of iterations needed for convergence:"
   ]
  },
  {
   "cell_type": "code",
   "execution_count": 4,
   "metadata": {},
   "outputs": [
    {
     "name": "stdout",
     "output_type": "stream",
     "text": [
      "Iterations: 27\n"
     ]
    }
   ],
   "source": [
    "print(\"Iterations:\", result.optima.iterations)"
   ]
  },
  {
   "cell_type": "markdown",
   "metadata": {},
   "source": [
    "## Calculations with given initial element amounts"
   ]
  }
 ],
 "metadata": {
  "interpreter": {
   "hash": "e4e8b2f3ae27709963f14fd23a6560d362beea55eaec742263828e04d814e23c"
  },
  "kernelspec": {
   "display_name": "Python 3.9.7 64-bit ('reaktoro-jupyter-book': conda)",
   "language": "python",
   "name": "python3"
  },
  "language_info": {
   "codemirror_mode": {
    "name": "ipython",
    "version": 3
   },
   "file_extension": ".py",
   "mimetype": "text/x-python",
   "name": "python",
   "nbconvert_exporter": "python",
   "pygments_lexer": "ipython3",
   "version": "3.9.7"
  },
  "orig_nbformat": 4
 },
 "nbformat": 4,
 "nbformat_minor": 2
}
