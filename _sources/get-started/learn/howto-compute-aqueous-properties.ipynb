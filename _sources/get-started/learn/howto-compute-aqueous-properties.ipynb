{
 "cells": [
  {
   "cell_type": "markdown",
   "metadata": {},
   "source": [
    "# How to compute aqueous properties\n",
    "\n",
    "If you are interested in aqueous solutions of electrolytes, you are probably wondering why there are no methods in the {{ChemicalProps}} class to obtain pH, pE, Eh, ionic strength, molalities, and other aqueous properties.\n",
    "\n",
    "{{ChemicalProps}} is a class that stores general thermodynamic and chemical properties for systems, their phases and species. Reaktoro does not assume that you always have an aqueous phase in your chemical system. So it wouldn't make sense to have specific aqueous properties on {{ChemicalProps}}.\n",
    "\n",
    "Reaktoro has what you want though: the {{AqueousProps}} class. We demonstrate its use below:"
   ]
  },
  {
   "cell_type": "code",
   "execution_count": 2,
   "metadata": {},
   "outputs": [
    {
     "name": "stdout",
     "output_type": "stream",
     "text": [
      "+--------------------------+-------------+-------+\n",
      "| Property                 |       Value |  Unit |\n",
      "+--------------------------+-------------+-------+\n",
      "| Temperature              |      333.15 |     K |\n",
      "| Pressure                 | 1.51988e+06 |    Pa |\n",
      "| Ionic Strength (Effect.) |     1.02625 | molal |\n",
      "| Ionic Strength (Stoich.) |     1.02924 | molal |\n",
      "| pH                       |     4.91762 |       |\n",
      "| pE                       |    0.502784 |       |\n",
      "| Eh                       |   0.0332361 |     V |\n",
      "| Element Molality:        |             |       |\n",
      "| :: C                     |     0.21424 | molal |\n",
      "| :: Na                    |     1.00036 | molal |\n",
      "| :: Si                    | 0.000281551 | molal |\n",
      "| :: Cl                    |     1.00036 | molal |\n",
      "| :: Ca                    |  0.00999453 | molal |\n",
      "| Species Molality:        |             |       |\n",
      "| :: CO3-2                 | 6.44809e-07 | molal |\n",
      "| :: H+                    | 1.50513e-05 | molal |\n",
      "| :: CO2                   |    0.194244 | molal |\n",
      "| :: (CO2)2                | 1.00036e-16 | molal |\n",
      "| :: HCO3-                 |   0.0164419 | molal |\n",
      "| :: CH4                   | 1.00036e-16 | molal |\n",
      "| :: Ca+2                  |   0.0094377 | molal |\n",
      "| :: CaCO3                 | 3.97169e-07 | molal |\n",
      "| :: CaHCO3+               | 0.000556432 | molal |\n",
      "| :: CaOH+                 | 4.60595e-11 | molal |\n",
      "| :: Cl-                   |     1.00036 | molal |\n",
      "| :: H2                    | 1.00036e-16 | molal |\n",
      "| :: H4SiO4                |  0.00028153 | molal |\n",
      "| :: H2SiO4-2              | 1.10546e-14 | molal |\n",
      "| :: H3SiO4-               | 2.05672e-08 | molal |\n",
      "| :: Na+                   |    0.997367 | molal |\n",
      "| :: NaCO3-                | 7.56169e-06 | molal |\n",
      "| :: NaHCO3                |  0.00298854 | molal |\n",
      "| :: OH-                   | 1.33042e-08 | molal |\n",
      "| :: NaOH                  | 1.00036e-16 | molal |\n",
      "| :: O2                    | 1.00036e-16 | molal |\n",
      "+--------------------------+-------------+-------+\n"
     ]
    }
   ],
   "source": [
    "from reaktoro import *\n",
    "\n",
    "db = PhreeqcDatabase(\"phreeqc.dat\")\n",
    "\n",
    "solution = AqueousPhase(speciate(\"H O Na Cl C Ca Si\"))\n",
    "solution.setActivityModel(ActivityModelPitzerHMW())\n",
    "\n",
    "gases = GaseousPhase()\n",
    "gases.setActivityModel(ActivityModelPengRobinson())\n",
    "\n",
    "minerals = MineralPhases()\n",
    "\n",
    "system = ChemicalSystem(db, solution, gases, minerals)\n",
    "\n",
    "state = ChemicalState(system)\n",
    "state.temperature(60.0, \"celsius\")\n",
    "state.pressure(15.0, \"atm\")\n",
    "state.set(\"H2O\"    , 1.0, \"kg\")\n",
    "state.set(\"Na+\"    , 1.0, \"mol\")\n",
    "state.set(\"Cl-\"    , 1.0, \"mol\")\n",
    "state.set(\"CO2\"    , 0.7, \"mol\")\n",
    "state.set(\"Calcite\", 1.0, \"g\")\n",
    "state.set(\"Quartz\" , 1.0, \"g\")\n",
    "\n",
    "equilibrate(state)\n",
    "\n",
    "aprops = AqueousProps(state)\n",
    "\n",
    "print(aprops)"
   ]
  },
  {
   "cell_type": "markdown",
   "metadata": {},
   "source": [
    "Let's now use some methods from class {{AqueousProps}} to retrieve some specific aqueous properties:"
   ]
  },
  {
   "cell_type": "code",
   "execution_count": 5,
   "metadata": {},
   "outputs": [
    {
     "name": "stdout",
     "output_type": "stream",
     "text": [
      "pH                              : 4.91762\n",
      "pE                              : 0.502784\n",
      "Eh                              : 0.0332361 V\n",
      "IONIC STRENGTH (EFFECTIVE)      : 1.02625 molal\n",
      "IONIC STRENGTH (STOICHIOMETRIC) : 1.02924 molal\n",
      "MOLALITY OF ELEMENT C           : 0.21424 molal\n",
      "MOLALITY OF ELEMENT Ca          : 0.00999453 molal\n",
      "MOLALITY OF AQUEOUS SPECIES CO2 : 0.194244 molal\n",
      "MOLALITY OF AQUEOUS SPECIES Na+ : 0.997367 molal\n"
     ]
    }
   ],
   "source": [
    "print(\"pH                              :\", aprops.pH())\n",
    "print(\"pE                              :\", aprops.pE())\n",
    "print(\"Eh                              :\", aprops.Eh()                         , \"V\")\n",
    "print(\"IONIC STRENGTH (EFFECTIVE)      :\", aprops.ionicStrengthEffective()     , \"molal\")\n",
    "print(\"IONIC STRENGTH (STOICHIOMETRIC) :\", aprops.ionicStrengthStoichiometric(), \"molal\")\n",
    "print(\"MOLALITY OF ELEMENT C           :\", aprops.elementMolality(\"C\")         , \"molal\")\n",
    "print(\"MOLALITY OF ELEMENT Ca          :\", aprops.elementMolality(\"Ca\")        , \"molal\")\n",
    "print(\"MOLALITY OF AQUEOUS SPECIES CO2 :\", aprops.speciesMolality(\"CO2\")       , \"molal\")\n",
    "print(\"MOLALITY OF AQUEOUS SPECIES Na+ :\", aprops.speciesMolality(\"Na+\")       , \"molal\")"
   ]
  },
  {
   "cell_type": "markdown",
   "metadata": {},
   "source": [
    "```{tip}\n",
    "Access the link {{AqueousProps}} to find out all methods available in class `AqueousProps` to get the exact data you need!\n",
    "```"
   ]
  },
  {
   "cell_type": "code",
   "execution_count": null,
   "metadata": {},
   "outputs": [],
   "source": []
  }
 ],
 "metadata": {
  "interpreter": {
   "hash": "e4e8b2f3ae27709963f14fd23a6560d362beea55eaec742263828e04d814e23c"
  },
  "kernelspec": {
   "display_name": "Python 3.9.7 64-bit ('reaktoro-jupyter-book': conda)",
   "language": "python",
   "name": "python3"
  },
  "language_info": {
   "codemirror_mode": {
    "name": "ipython",
    "version": 3
   },
   "file_extension": ".py",
   "mimetype": "text/x-python",
   "name": "python",
   "nbconvert_exporter": "python",
   "pygments_lexer": "ipython3",
   "version": "3.9.7"
  },
  "orig_nbformat": 4
 },
 "nbformat": 4,
 "nbformat_minor": 2
}
