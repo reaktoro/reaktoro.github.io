{
 "cells": [
  {
   "cell_type": "markdown",
   "metadata": {},
   "source": [
    "# How to perform chemical equilibrium calculations\n",
    "\n",
    "Reaktoro performs chemical equilibrium calculations by *minimizing the system's Gibbs energy* {cite}`Leal2017a`. In a Gibbs energy minimization problem, temperature and pressure are prescribed. The chemical system is considered **closed** (the mass of the chemical elements and the electrical charge are conserved in the reactive process). We give a simple example below in which we use class {{EquilibriumSolver}} to perform the chemical equilibrium calculation."
   ]
  },
  {
   "cell_type": "code",
   "execution_count": 18,
   "metadata": {},
   "outputs": [
    {
     "name": "stdout",
     "output_type": "stream",
     "text": [
      "=== INITIAL STATE\n",
      "+-----------------+---------+------+\n",
      "| Property        |   Value | Unit |\n",
      "+-----------------+---------+------+\n",
      "| Temperature     | 1273.15 |    K |\n",
      "| Pressure        |   1e+07 |   Pa |\n",
      "| Charge:         |       0 |  mol |\n",
      "| Element Amount: |         |      |\n",
      "| :: H            |       4 |  mol |\n",
      "| :: C            |       1 |  mol |\n",
      "| :: O            |       1 |  mol |\n",
      "| Species Amount: |         |      |\n",
      "| :: CH4          |       1 |  mol |\n",
      "| :: O2           |     0.5 |  mol |\n",
      "| :: CO2          |   1e-16 |  mol |\n",
      "| :: CO           |   1e-16 |  mol |\n",
      "| :: H2O          |   1e-16 |  mol |\n",
      "| :: H2           |   1e-16 |  mol |\n",
      "+-----------------+---------+------+\n",
      "=== FINAL STATE\n",
      "+-----------------+-----------+------+\n",
      "| Property        |     Value | Unit |\n",
      "+-----------------+-----------+------+\n",
      "| Temperature     |   1273.15 |    K |\n",
      "| Pressure        |     1e+07 |   Pa |\n",
      "| Charge:         |         0 |  mol |\n",
      "| Element Amount: |           |      |\n",
      "| :: H            |         4 |  mol |\n",
      "| :: C            |         1 |  mol |\n",
      "| :: O            |         1 |  mol |\n",
      "| Species Amount: |           |      |\n",
      "| :: CH4          |  0.376062 |  mol |\n",
      "| :: O2           |     1e-16 |  mol |\n",
      "| :: CO2          | 0.0936296 |  mol |\n",
      "| :: CO           |  0.530308 |  mol |\n",
      "| :: H2O          |  0.282433 |  mol |\n",
      "| :: H2           |  0.965442 |  mol |\n",
      "+-----------------+-----------+------+\n"
     ]
    }
   ],
   "source": [
    "from reaktoro import *\n",
    "\n",
    "db = NasaDatabase(\"nasa-cea\")\n",
    "\n",
    "gases = GaseousPhase(\"CH4 O2 CO2 CO H2O H2\")\n",
    "\n",
    "system = ChemicalSystem(db, gases)\n",
    "\n",
    "state = ChemicalState(system)\n",
    "state.temperature(1000, \"celsius\")\n",
    "state.pressure(100, \"bar\")\n",
    "state.set(\"CH4\", 1.0, \"mol\")\n",
    "state.set(\"O2\",  0.5, \"mol\")\n",
    "\n",
    "print(\"=== INITIAL STATE ===\")\n",
    "print(state)\n",
    "\n",
    "solver = EquilibriumSolver(system)\n",
    "solver.solve(state)  # compute the state of chemical equilibrium!\n",
    "\n",
    "print(\"=== FINAL STATE ===\")\n",
    "print(state)"
   ]
  },
  {
   "cell_type": "markdown",
   "metadata": {},
   "source": [
    "The final mole composition above was found by minimizing the Gibbs energy of the system. Note that the initial and final amounts of the elements H, C, and O are identical (the same would apply to the electric charge of the system if there were charged species in the problem).\n",
    "\n",
    "However, there are many different classes of equilibrium problems where:\n",
    "\n",
    "* **temperature and/or pressure may be unknown** (e.g., combustion in a rigid and adiabatic chamber where volume and internal energy are specified and temperature and pressure are calculated);\n",
    "* **the chemical system is open to certain substances** (e.g., aqueous solution in equilibrium with a mixture of gases with known partial pressures or fugacities, such as the atmosphere).\n",
    "\n",
    "Reaktoro's chemical equilibrium algorithm supports all these types of cases because it implements an algorithm to solve *parametric Gibbs energy minimization problems with general equilibrium constraints*. Thus, Reaktoro is not restricted to closed systems and prescribed conditions of temperature and pressure, as we will see in the next sections."
   ]
  },
  {
   "cell_type": "markdown",
   "metadata": {},
   "source": [
    "```{note}\n",
    "If you've read the previous guides, you've probably already encountered the use of `equilibrate(state)` to bring `state`, an object of class {{ChemicalState}}, to a state of chemical equilibrium. This method exists for convenience and performs a Gibbs energy minimization on the entire chemical system. It is equivalent to using {{EquilibriumSolver}} as follows:\n",
    "\n",
    "~~~py\n",
    "solver = EquilibriumSolver(system)\n",
    "solver.solve(state)\n",
    "~~~\n",
    "```\n",
    "\n",
    "```{tip}\n",
    "If you need many equilibrium calculations (e.g. in the context of reactive transport simulations), consider using the {{EquilibriumSolver}} class instead of the `equilibrate` method, as the latter creates an {{EquilibriumSolver}} object during each call without reuse afterwards, which can cause computation overhead.\n",
    "```"
   ]
  },
  {
   "cell_type": "markdown",
   "metadata": {},
   "source": [
    "## Calculation with given temperatures and pressures"
   ]
  },
  {
   "cell_type": "markdown",
   "metadata": {},
   "source": [
    "## Calculation with given aqueous solution pH\n",
    "\n",
    "Fixing the pH of an aqueous solution is a common procedure in biogeochemical modeling. This requires, however, the introduction of a new *degree of freedom* in the problem. This is because we cannot, in general, obtain a desired pH without titrating a substance in the solution. Thus, in the example given below, the system will be open to a substance: H<sup>+</sup>. *The unknown amount of H<sup>+</sup> necessary to enter or leave the system to attain the requested pH is the new degree of freedom*, and is calculated along with the amounts of species in equilibrium.\n",
    "\n",
    "```{note}\n",
    "The choice of H<sup>+</sup> as the *titrant* when fixing the pH of an aqueous solution may seem arbitrary and unintuitive to some coming from a different background or experienced with another convention used by other chemical modeling codes. For example, it can be questioned that a charged species not found isolated in nature (compared to HCl, for example) is chosen as the titrant. However, there are mathematical reasons behind this choice that make the problem to be solved more simply and efficiently. We will give examples later on how to combine this pH constraint with other conditions to demonstrate the full potential of this convention.\n",
    "```\n",
    "\n",
    "For our example, let's define a simple aqueous phase:"
   ]
  },
  {
   "cell_type": "code",
   "execution_count": 32,
   "metadata": {},
   "outputs": [],
   "source": [
    "db = PhreeqcDatabase(\"pitzer.dat\")\n",
    "\n",
    "solution = AqueousPhase(\"H2O H+ OH- Na+ Cl- HCO3- CO2 CO3-2\")\n",
    "\n",
    "system = ChemicalSystem(db, solution)"
   ]
  },
  {
   "cell_type": "markdown",
   "metadata": {},
   "source": [
    "For this system, let's create a chemical state representing a 1 molal NaCl solution with 0.4 molal dissolved CO{{_2}}:"
   ]
  },
  {
   "cell_type": "code",
   "execution_count": 33,
   "metadata": {},
   "outputs": [],
   "source": [
    "state = ChemicalState(system)\n",
    "state.temperature(30.0, \"celsius\")\n",
    "state.pressure(1.0, \"atm\")\n",
    "state.set(\"H2O\", 1.0, \"kg\")\n",
    "state.set(\"Na+\", 1.0, \"mol\")\n",
    "state.set(\"Cl-\", 1.0, \"mol\")\n",
    "state.set(\"CO2\", 0.4, \"mol\")"
   ]
  },
  {
   "cell_type": "markdown",
   "metadata": {},
   "source": []
  },
  {
   "cell_type": "markdown",
   "metadata": {},
   "source": [
    "## Calculation with given volume and internal energy\n",
    "\n",
    "Let's consider again the combustion of 1 mol of CH{{_4}} and 0.5 mol of O{{_2}}. This time, however, we will not specify temperature and pressure, but volume and internal energy. This is to model the combustion of this gas mixture in a rigid and adiabatic chamber."
   ]
  },
  {
   "cell_type": "code",
   "execution_count": 30,
   "metadata": {},
   "outputs": [],
   "source": [
    "state0 = ChemicalState(system)\n",
    "state0.temperature(25.0, \"celsius\")\n",
    "state0.pressure(1.0, \"bar\")\n",
    "state0.set(\"CH4\", 1.0, \"mol\")\n",
    "state0.set(\"O2\",  0.5, \"mol\")\n",
    "\n",
    "props0 = ChemicalProps(state0)\n",
    "\n",
    "V0 = props0.volume()  # the initial volume of the gases\n",
    "U0 = props0.internalEnergy()  # the initial internal energy of the gases"
   ]
  },
  {
   "cell_type": "code",
   "execution_count": 31,
   "metadata": {},
   "outputs": [
    {
     "name": "stdout",
     "output_type": "stream",
     "text": [
      "+-----------------+-----------+------+\n",
      "| Property        |     Value | Unit |\n",
      "+-----------------+-----------+------+\n",
      "| Temperature     |   1230.15 |    K |\n",
      "| Pressure        |    768530 |   Pa |\n",
      "| Charge:         |         0 |  mol |\n",
      "| Element Amount: |           |      |\n",
      "| :: H            |         4 |  mol |\n",
      "| :: C            |         1 |  mol |\n",
      "| :: O            |         1 |  mol |\n",
      "| Species Amount: |           |      |\n",
      "| :: CH4          |  0.102994 |  mol |\n",
      "| :: O2           |     1e-16 |  mol |\n",
      "| :: CO2          | 0.0261655 |  mol |\n",
      "| :: CO           |   0.87084 |  mol |\n",
      "| :: H2O          | 0.0768286 |  mol |\n",
      "| :: H2           |   1.71718 |  mol |\n",
      "+-----------------+-----------+------+\n"
     ]
    }
   ],
   "source": [
    "\n",
    "specs = EquilibriumSpecs(system)\n",
    "specs.volume()\n",
    "specs.internalEnergy()\n",
    "\n",
    "conditions = EquilibriumConditions(specs)\n",
    "conditions.volume(V0)\n",
    "conditions.internalEnergy(U0)\n",
    "\n",
    "conditions.setLowerBoundPressure(1.0, \"bar\")\n",
    "conditions.setLowerBoundTemperature(25.0, \"celsius\")\n",
    "\n",
    "state = ChemicalState(state0)\n",
    "\n",
    "solver = EquilibriumSolver(specs)\n",
    "solver.solve(state, conditions)\n",
    "\n",
    "print(state)"
   ]
  },
  {
   "cell_type": "markdown",
   "metadata": {},
   "source": [
    "\n",
    "\n",
    "\n",
    "Let's see different use cases for {{EquilibriumSolver}} in the next sections."
   ]
  },
  {
   "cell_type": "markdown",
   "metadata": {},
   "source": []
  },
  {
   "cell_type": "markdown",
   "metadata": {},
   "source": [
    "## Checking if the calculation was successful\n",
    "\n",
    "Performing chemical equilibrium calculations is not a trivial task. It involves highly complicated algorithms to solve different mathematical problems (eg non-linear equations, matrix equations). Therefore, it is possible that a calculation could fail. This can happen due to many factors. However, the most common are:\n",
    "\n",
    "* the formulation of the equilibrium problem is ill-formed (e.g. specifying a set of conflicting equilibrium constraints that cannot be achieved chemically/thermodynamically)\n",
    "* the use of poor initial guesses.\n",
    "\n",
    "So you might want to check at the end of each equilibrium calculation if it was successful:"
   ]
  },
  {
   "cell_type": "code",
   "execution_count": 13,
   "metadata": {},
   "outputs": [
    {
     "name": "stdout",
     "output_type": "stream",
     "text": [
      "Succeesful? True\n"
     ]
    }
   ],
   "source": [
    "state = ChemicalState(system)\n",
    "state.temperature(1000, \"celsius\")\n",
    "state.pressure(100, \"bar\")\n",
    "state.set(\"CH4\", 1.0, \"mol\")\n",
    "state.set(\"O2\",  0.5, \"mol\")\n",
    "\n",
    "solver = EquilibriumSolver(system)\n",
    "result = solver.solve(state)\n",
    "\n",
    "print(\"Succeesful?\", result.optima.succeeded)"
   ]
  },
  {
   "cell_type": "markdown",
   "metadata": {},
   "source": [
    "The object `result` above is of type {{EquilibriumResult}} and it also contains other details about the calculation, such as the number of iterations needed for convergence:"
   ]
  },
  {
   "cell_type": "code",
   "execution_count": 12,
   "metadata": {},
   "outputs": [
    {
     "name": "stdout",
     "output_type": "stream",
     "text": [
      "Iterations: 27\n"
     ]
    }
   ],
   "source": [
    "print(\"Iterations:\", result.optima.iterations)"
   ]
  },
  {
   "cell_type": "markdown",
   "metadata": {},
   "source": [
    "## Calculations with given initial element amounts"
   ]
  }
 ],
 "metadata": {
  "interpreter": {
   "hash": "e4e8b2f3ae27709963f14fd23a6560d362beea55eaec742263828e04d814e23c"
  },
  "kernelspec": {
   "display_name": "Python 3.9.7 64-bit ('reaktoro-jupyter-book': conda)",
   "language": "python",
   "name": "python3"
  },
  "language_info": {
   "codemirror_mode": {
    "name": "ipython",
    "version": 3
   },
   "file_extension": ".py",
   "mimetype": "text/x-python",
   "name": "python",
   "nbconvert_exporter": "python",
   "pygments_lexer": "ipython3",
   "version": "3.9.7"
  },
  "orig_nbformat": 4
 },
 "nbformat": 4,
 "nbformat_minor": 2
}
