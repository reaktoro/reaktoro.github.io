{
 "cells": [
  {
   "cell_type": "markdown",
   "metadata": {},
   "source": [
    "# How to perform chemical equilibrium calculations with fixed pH\n",
    "\n",
    "Fixing the pH of an aqueous solution is a common procedure in biogeochemical modeling. This requires, however, the introduction of a new *degree of freedom* in the problem. This is because we cannot, in general, obtain a desired pH without titrating a substance in the solution. Thus, in the example given below, the system will be open to a substance: H<sup>+</sup>. *The unknown amount of H<sup>+</sup> necessary to enter or leave the system to attain the requested pH is the new degree of freedom*, and is calculated along with the amounts of species in equilibrium.\n",
    "\n",
    "```{note}\n",
    "The choice of H<sup>+</sup> as the *titrant* when fixing the pH of an aqueous solution may seem arbitrary and unintuitive to some coming from a different background or experienced with another convention used by other chemical modeling codes. For example, it can be questioned that a charged species not found isolated in nature (compared to HCl, for example) is chosen as the titrant. However, there are mathematical reasons behind this choice that make the problem to be solved more simply and efficiently. We will give examples later on how to combine this pH constraint with other conditions to demonstrate the full potential of this convention.\n",
    "```\n",
    "\n",
    "For our example, let's define a simple aqueous phase:"
   ]
  },
  {
   "cell_type": "code",
   "execution_count": 5,
   "metadata": {},
   "outputs": [],
   "source": [
    "from reaktoro import *\n",
    "\n",
    "db = PhreeqcDatabase(\"pitzer.dat\")\n",
    "\n",
    "solution = AqueousPhase(\"H2O H+ OH- Na+ Cl- HCO3- CO2 CO3-2\")\n",
    "\n",
    "system = ChemicalSystem(db, solution)"
   ]
  },
  {
   "cell_type": "markdown",
   "metadata": {},
   "source": [
    "For this system, let's create a chemical state representing a 1 molal NaCl solution with 0.4 molal dissolved CO{{_2}}:"
   ]
  },
  {
   "cell_type": "code",
   "execution_count": 6,
   "metadata": {},
   "outputs": [],
   "source": [
    "state = ChemicalState(system)\n",
    "state.temperature(30.0, \"celsius\")\n",
    "state.pressure(1.0, \"atm\")\n",
    "state.set(\"H2O\", 1.0, \"kg\")\n",
    "state.set(\"Na+\", 1.0, \"mol\")\n",
    "state.set(\"Cl-\", 1.0, \"mol\")\n",
    "state.set(\"CO2\", 0.4, \"mol\")"
   ]
  }
 ],
 "metadata": {
  "interpreter": {
   "hash": "e4e8b2f3ae27709963f14fd23a6560d362beea55eaec742263828e04d814e23c"
  },
  "kernelspec": {
   "display_name": "Python 3.9.7 64-bit ('reaktoro-jupyter-book': conda)",
   "language": "python",
   "name": "python3"
  },
  "language_info": {
   "codemirror_mode": {
    "name": "ipython",
    "version": 3
   },
   "file_extension": ".py",
   "mimetype": "text/x-python",
   "name": "python",
   "nbconvert_exporter": "python",
   "pygments_lexer": "ipython3",
   "version": "3.9.7"
  },
  "orig_nbformat": 4
 },
 "nbformat": 4,
 "nbformat_minor": 2
}
