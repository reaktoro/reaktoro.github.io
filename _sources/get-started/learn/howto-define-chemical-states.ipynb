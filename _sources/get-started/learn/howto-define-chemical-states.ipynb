{
 "cells": [
  {
   "cell_type": "markdown",
   "metadata": {},
   "source": [
    "# How to create and define chemical states\n",
    "\n",
    "After learning how to define chemical systems and create a {{ChemicalSystem}} object, it is time to create some chemical states. In your applications, you will most often deal with a single {{ChemicalSystem}} object and multiple {{ChemicalState}} objects in which the system's temperature, pressure, and species amounts are specified.\n",
    "\n",
    "Let's check the following simple example, in which a chemical system is constructed with a gaseous phase only."
   ]
  },
  {
   "cell_type": "code",
   "execution_count": 1,
   "metadata": {},
   "outputs": [],
   "source": [
    "from reaktoro import *\n",
    "\n",
    "db = NasaDatabase(\"nasa-cea\")\n",
    "\n",
    "gases = GaseousPhase(\"CO2 O2 H2 H2O CH4 CO\")\n",
    "\n",
    "system = ChemicalSystem(db, gases)"
   ]
  },
  {
   "cell_type": "markdown",
   "metadata": {},
   "source": [
    "We can now create a {{ChemicalState}} object to represent the state of the system: "
   ]
  },
  {
   "cell_type": "code",
   "execution_count": 2,
   "metadata": {},
   "outputs": [],
   "source": [
    "state = ChemicalState(system)\n",
    "state.temperature(1000, \"celsius\")\n",
    "state.pressure(10, \"MPa\")\n",
    "state.set(\"CO2\", 0.1, \"mol\")\n",
    "state.set(\"O2\" , 0.2, \"mol\")\n",
    "state.set(\"H2\" , 0.3, \"mol\")\n",
    "state.set(\"H2O\", 0.4, \"mol\")\n",
    "state.set(\"CH4\", 0.5, \"mol\")\n",
    "state.set(\"CO\" , 0.6, \"mol\")"
   ]
  },
  {
   "cell_type": "markdown",
   "metadata": {},
   "source": [
    "We can print this chemical state to have an idea of what information it contains: "
   ]
  },
  {
   "cell_type": "code",
   "execution_count": 3,
   "metadata": {},
   "outputs": [
    {
     "name": "stdout",
     "output_type": "stream",
     "text": [
      "+-----------------+---------+------+\n",
      "| Property        |   Value | Unit |\n",
      "+-----------------+---------+------+\n",
      "| Temperature     | 1273.15 |    K |\n",
      "| Pressure        |   1e+07 |   Pa |\n",
      "| Charge:         |       0 |  mol |\n",
      "| Element Amount: |         |      |\n",
      "| :: H            |     3.4 |  mol |\n",
      "| :: C            |     1.2 |  mol |\n",
      "| :: O            |     1.6 |  mol |\n",
      "| Species Amount: |         |      |\n",
      "| :: CO2          |     0.1 |  mol |\n",
      "| :: O2           |     0.2 |  mol |\n",
      "| :: H2           |     0.3 |  mol |\n",
      "| :: H2O          |     0.4 |  mol |\n",
      "| :: CH4          |     0.5 |  mol |\n",
      "| :: CO           |     0.6 |  mol |\n",
      "+-----------------+---------+------+\n"
     ]
    }
   ],
   "source": [
    "print(state)"
   ]
  },
  {
   "cell_type": "markdown",
   "metadata": {},
   "source": [
    "```{tip}\n",
    "Access the link {{ChemicalState}} to find out all methods available in class `ChemicalState`!\n",
    "```\n",
    "\n",
    "From the table above we see that {{ChemicalState}} objects do not have thermodynamic properties of the system; only temperature, pressure, species amounts, element amounts, and the electric charge. We will learn in the next guide how to evaluate thermodynamic and chemical properties of the system such as Gibbs energy, enthalpy, volume, heat capacities, species activities, etc.\n",
    "\n",
    "```{note}\n",
    "You will often use class {{ChemicalState}} for: \n",
    "\n",
    "* specifying initial conditions for chemical equilibrium and kinetics calculations\n",
    "* storing computed states from the above computations (e.g., chemical equilibrium states)\n",
    "\n",
    "We will learn all these use cases in subsequent guides.\n",
    "```\n",
    "\n",
    "Let's consider now a more complicated chemical system and create a chemical state for it:"
   ]
  },
  {
   "cell_type": "code",
   "execution_count": 6,
   "metadata": {},
   "outputs": [
    {
     "name": "stdout",
     "output_type": "stream",
     "text": [
      "+-----------------+-------------+------+\n",
      "| Property        |       Value | Unit |\n",
      "+-----------------+-------------+------+\n",
      "| Temperature     |      323.15 |    K |\n",
      "| Pressure        |      506625 |   Pa |\n",
      "| Charge:         |       0.002 |  mol |\n",
      "| Element Amount: |             |      |\n",
      "| :: H            |     111.012 |  mol |\n",
      "| :: C            | 1.00017e-05 |  mol |\n",
      "| :: O            |     2055.51 |  mol |\n",
      "| :: Na           |         0.1 |  mol |\n",
      "| :: Mg           | 0.000500005 |  mol |\n",
      "| :: Si           |        1000 |  mol |\n",
      "| :: Cl           |         0.1 |  mol |\n",
      "| :: Ca           | 0.000509996 |  mol |\n",
      "| Species Amount: |             |      |\n",
      "| :: H+           |       1e-16 |  mol |\n",
      "| :: H2O          |     55.5062 |  mol |\n",
      "| :: CO3-2        |       1e-16 |  mol |\n",
      "| :: CO2          |       1e-16 |  mol |\n",
      "| :: Ca+2         |      0.0005 |  mol |\n",
      "| :: Cl-          |         0.1 |  mol |\n",
      "| :: H4SiO4       |       1e-16 |  mol |\n",
      "| :: H2SiO4-2     |       1e-16 |  mol |\n",
      "| :: H3SiO4-      |       1e-16 |  mol |\n",
      "| :: HCO3-        |       1e-16 |  mol |\n",
      "| :: Mg+2         |      0.0005 |  mol |\n",
      "| :: MgCO3        |       1e-16 |  mol |\n",
      "| :: MgOH+        |       1e-16 |  mol |\n",
      "| :: Na+          |         0.1 |  mol |\n",
      "| :: OH-          |       1e-16 |  mol |\n",
      "| :: Halite       |       1e-16 |  mol |\n",
      "| :: Calcite      |  9.9909e-06 |  mol |\n",
      "| :: Dolomite     | 5.42278e-09 |  mol |\n",
      "| :: Quartz       |        1000 |  mol |\n",
      "+-----------------+-------------+------+\n"
     ]
    }
   ],
   "source": [
    "db = PhreeqcDatabase(\"pitzer.dat\")\n",
    "\n",
    "solution = AqueousPhase()\n",
    "minerals = MineralPhase(\"Halite Calcite Dolomite Quartz\")\n",
    "\n",
    "system = ChemicalSystem(db, solution, minerals)\n",
    "\n",
    "state = ChemicalState(system)\n",
    "state.temperature(50.0, \"celsius\")\n",
    "state.pressure(5.0, \"atm\")\n",
    "state.set(\"H2O\"     , 1.00, \"kg\")\n",
    "state.set(\"Na+\"     , 0.10, \"mol\")\n",
    "state.set(\"Cl-\"     , 0.10, \"mol\")\n",
    "state.set(\"Ca+2\"    , 0.50, \"mmol\")\n",
    "state.set(\"Mg+2\"    , 0.50, \"mmol\")\n",
    "state.set(\"Calcite\" , 1.00, \"mg\")\n",
    "state.set(\"Dolomite\", 1.00, \"ug\")\n",
    "state.set(\"Quartz\"  , 1.00, \"kmol\")\n",
    "\n",
    "print(state)"
   ]
  },
  {
   "cell_type": "markdown",
   "metadata": {},
   "source": [
    "```{tip}\n",
    "By default, a {{ChemicalState}} object is initialized with the following conditions:\n",
    "\n",
    "* 273.15 K (or 25 °C)\n",
    "* 10<sup>5</sup> Pa (or 1 bar)\n",
    "* 10<sup>-16</sup> mol as the amounts of every species\n",
    "\n",
    "Zero is a numerically problematic value for species amounts; that's why we set it to a very small positive value instead. This should not be an issue for you in most cases, but if for some reason 10<sup>-16</sup> is not small enough, you can use the method `ChemicalState.setSpeciesAmount(1e-40)` to set a common amount value for all species in the system.\n",
    "\n",
    "**Try:** Create a {{ChemicalState}} object and print it before setting any property. \n",
    "```\n",
    "\n",
    "Continue reading to learn more interesting use cases for {{ChemicalState}}, such as computing thermodynamic and chemical properties for the system using class {{ChemicalProps}}!"
   ]
  }
 ],
 "metadata": {
  "interpreter": {
   "hash": "e4e8b2f3ae27709963f14fd23a6560d362beea55eaec742263828e04d814e23c"
  },
  "kernelspec": {
   "display_name": "Python 3.9.7 64-bit ('reaktoro-jupyter-book': conda)",
   "language": "python",
   "name": "python3"
  },
  "language_info": {
   "codemirror_mode": {
    "name": "ipython",
    "version": 3
   },
   "file_extension": ".py",
   "mimetype": "text/x-python",
   "name": "python",
   "nbconvert_exporter": "python",
   "pygments_lexer": "ipython3",
   "version": "3.9.7"
  },
  "orig_nbformat": 4
 },
 "nbformat": 4,
 "nbformat_minor": 2
}
