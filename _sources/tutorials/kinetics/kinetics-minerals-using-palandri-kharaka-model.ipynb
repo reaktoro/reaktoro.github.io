{
 "cells": [
  {
   "cell_type": "markdown",
   "metadata": {},
   "source": [
    "# Chemical kinetics for mineral reactions using Palandri-Kharaka model\n",
    "\n",
    "In the making...available in the next hours!\n",
    "\n",
    "<!-- <p class=\"acknowledgement\">Written by Allan Leal (ETH Zurich) on Nov 21th, 2022</p>\n",
    "\n",
    "In the previous tutorial, we learned how to define our own reaction rate model to calculate the dissolution of halite mineral over time in pure water. In this tutorial, we'll instead use a reaction rate model already available in Reaktoro (implemented in C++) based on the model of {cite}`Palandri2004`.\n",
    "\n",
    "$$\n",
    "    \\dfrac{dn_{m}}{dt}=-\\mathrm{SA}\\sum_{i}\\left\\{ k_{i}^{\\circ}\\exp\\left[-\\dfrac{E_{i}}{R}\\left(\\dfrac{1}{T}-\\dfrac{1}{298.15}\\right)\\right]\\prod_{j}a_{i,j}^{w_{i,j}}(1-\\Omega^{p_{i}})^{q_{i}}\\right\\}\n",
    "$$\n",
    "\n",
    "1. The crystal remains a cube as it dissolves and its surface area over time can be computed as *current crystal volume* × 6 cm²/cm³.\n",
    "2. The reactions among aqueous species are much faster than that of the crystal dissolution. As a result, all aqueous species are assumed in equilibrium at all times.\n",
    "\n",
    "```{note}\n",
    "There is no need to define the aqueous reactions because Reaktoro uses a Gibbs energy minimization algorithm to compute the equilibrium state of all species in the system that are not restricted by chemical kinetics constraints.\n",
    "``` -->"
   ]
  }
 ],
 "metadata": {
  "interpreter": {
   "hash": "e4e8b2f3ae27709963f14fd23a6560d362beea55eaec742263828e04d814e23c"
  },
  "kernelspec": {
   "display_name": "Python 3.9.7 64-bit ('reaktoro-jupyter-book': conda)",
   "language": "python",
   "name": "python3"
  },
  "language_info": {
   "codemirror_mode": {
    "name": "ipython",
    "version": 3
   },
   "file_extension": ".py",
   "mimetype": "text/x-python",
   "name": "python",
   "nbconvert_exporter": "python",
   "pygments_lexer": "ipython3",
   "version": "3.9.9"
  },
  "orig_nbformat": 4
 },
 "nbformat": 4,
 "nbformat_minor": 2
}
