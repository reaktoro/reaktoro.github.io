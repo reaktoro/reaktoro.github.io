{
 "cells": [
  {
   "cell_type": "markdown",
   "metadata": {},
   "source": [
    "# Chemical equilibrium with fixed volume and internal energy\n",
    "\n",
    "> In the making. Stay tuned!\n",
    "\n",
    "Let's consider again the combustion of 1 mol of CH{{_4}} and 0.5 mol of O{{_2}}. This time, however, we will not specify temperature and pressure, or temperature and volume, but **volume and internal energy**. This is to model the combustion of this gas mixture in a rigid and adiabatic chamber. In this problem, both temperature and pressure are unknowns and will be calculated along with the amounts of the species that bring the system of a state of chemical equilibrium:"
   ]
  },
  {
   "cell_type": "code",
   "execution_count": 1,
   "metadata": {},
   "outputs": [],
   "source": [
    "from reaktoro import *\n",
    "\n",
    "db = NasaDatabase(\"nasa-cea\")\n",
    "\n",
    "gases = GaseousPhase(\"CH4 O2 CO2 CO H2O H2\")\n",
    "\n",
    "system = ChemicalSystem(db, gases)\n",
    "\n",
    "state0 = ChemicalState(system)\n",
    "state0.temperature(25.0, \"celsius\")\n",
    "state0.pressure(1.0, \"bar\")\n",
    "state0.set(\"CH4\", 1.0, \"mol\")\n",
    "state0.set(\"O2\",  0.5, \"mol\")\n",
    "\n",
    "props0 = ChemicalProps(state0)\n",
    "\n",
    "V0 = props0.volume()  # the initial volume of the gases\n",
    "U0 = props0.internalEnergy()  # the initial internal energy of the gases"
   ]
  },
  {
   "cell_type": "code",
   "execution_count": 2,
   "metadata": {},
   "outputs": [
    {
     "name": "stdout",
     "output_type": "stream",
     "text": [
      "+-----------------+-----------+------+\n",
      "| Property        |     Value | Unit |\n",
      "+-----------------+-----------+------+\n",
      "| Temperature     |   1230.15 |    K |\n",
      "| Pressure        |    768530 |   Pa |\n",
      "| Charge:         |         0 |  mol |\n",
      "| Element Amount: |           |      |\n",
      "| :: H            |         4 |  mol |\n",
      "| :: C            |         1 |  mol |\n",
      "| :: O            |         1 |  mol |\n",
      "| Species Amount: |           |      |\n",
      "| :: CH4          |  0.102994 |  mol |\n",
      "| :: O2           |     1e-16 |  mol |\n",
      "| :: CO2          | 0.0261655 |  mol |\n",
      "| :: CO           |   0.87084 |  mol |\n",
      "| :: H2O          | 0.0768286 |  mol |\n",
      "| :: H2           |   1.71718 |  mol |\n",
      "+-----------------+-----------+------+\n"
     ]
    }
   ],
   "source": [
    "\n",
    "specs = EquilibriumSpecs(system)\n",
    "specs.volume()\n",
    "specs.internalEnergy()\n",
    "\n",
    "conditions = EquilibriumConditions(specs)\n",
    "conditions.volume(V0)\n",
    "conditions.internalEnergy(U0)\n",
    "\n",
    "conditions.setLowerBoundPressure(1.0, \"bar\")\n",
    "conditions.setLowerBoundTemperature(25.0, \"celsius\")\n",
    "\n",
    "state = ChemicalState(state0)\n",
    "\n",
    "solver = EquilibriumSolver(specs)\n",
    "solver.solve(state, conditions)\n",
    "\n",
    "print(state)"
   ]
  }
 ],
 "metadata": {
  "interpreter": {
   "hash": "e4e8b2f3ae27709963f14fd23a6560d362beea55eaec742263828e04d814e23c"
  },
  "kernelspec": {
   "display_name": "Python 3.9.7 64-bit ('reaktoro-jupyter-book': conda)",
   "language": "python",
   "name": "python3"
  },
  "language_info": {
   "codemirror_mode": {
    "name": "ipython",
    "version": 3
   },
   "file_extension": ".py",
   "mimetype": "text/x-python",
   "name": "python",
   "nbconvert_exporter": "python",
   "pygments_lexer": "ipython3",
   "version": "3.9.7"
  },
  "orig_nbformat": 4
 },
 "nbformat": 4,
 "nbformat_minor": 2
}
