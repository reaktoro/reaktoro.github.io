{
 "cells": [
  {
   "cell_type": "markdown",
   "metadata": {},
   "source": [
    "# Chemical equilibrium with fixed volume and internal energy\n",
    "\n",
    "<p class=\"acknowledgement\">Written by Allan Leal (ETH Zurich) on Jan 7th, 2022</p>\n",
    "\n",
    "Let's consider again the combustion of 1 mol of CH{{_4}} and 0.5 mol of O{{_2}}. This time, however, we will specify **volume and internal energy** as known properties at the equilibrium state.\n",
    "\n",
    "We want to model the combustion of this gaseous mixture in a rigid and adiabatic chamber (volume and internal energy must be preserved). In this problem, both temperature and pressure are unknown and will be calculated together with the amounts of species that bring the system to a state of chemical equilibrium. \n",
    "\n",
    "Let's create our {{ChemicalSystem}} object (one with a single gaseous phase):"
   ]
  },
  {
   "cell_type": "code",
   "execution_count": 18,
   "metadata": {},
   "outputs": [],
   "source": [
    "from reaktoro import *\n",
    "\n",
    "db = NasaDatabase(\"nasa-cea\")\n",
    "\n",
    "gases = GaseousPhase(\"CH4 O2 CO2 CO H2O H2\")\n",
    "\n",
    "system = ChemicalSystem(db, gases)"
   ]
  },
  {
   "cell_type": "markdown",
   "metadata": {},
   "source": [
    "Next, we create an initial chemical state for this system:"
   ]
  },
  {
   "cell_type": "code",
   "execution_count": 19,
   "metadata": {},
   "outputs": [
    {
     "name": "stdout",
     "output_type": "stream",
     "text": [
      "INITIAL STATE\n",
      "+-----------------+--------+------+\n",
      "| Property        |  Value | Unit |\n",
      "+-----------------+--------+------+\n",
      "| Temperature     | 298.15 |    K |\n",
      "| Pressure        | 100000 |   Pa |\n",
      "| Charge:         |      0 |  mol |\n",
      "| Element Amount: |        |      |\n",
      "| :: H            |      4 |  mol |\n",
      "| :: C            |      1 |  mol |\n",
      "| :: O            |      1 |  mol |\n",
      "| Species Amount: |        |      |\n",
      "| :: CH4          |      1 |  mol |\n",
      "| :: O2           |    0.5 |  mol |\n",
      "| :: CO2          |  1e-16 |  mol |\n",
      "| :: CO           |  1e-16 |  mol |\n",
      "| :: H2O          |  1e-16 |  mol |\n",
      "| :: H2           |  1e-16 |  mol |\n",
      "+-----------------+--------+------+\n"
     ]
    }
   ],
   "source": [
    "state0 = ChemicalState(system)\n",
    "state0.temperature(25.0, \"celsius\")\n",
    "state0.pressure(1.0, \"bar\")\n",
    "state0.set(\"CH4\", 1.0, \"mol\")\n",
    "state0.set(\"O2\",  0.5, \"mol\")\n",
    "props0 = ChemicalProps(state0)\n",
    "\n",
    "V0 = props0.volume()  # the initial volume of the gases\n",
    "U0 = props0.internalEnergy()  # the initial internal energy of the gases\n",
    "\n",
    "print(\"INITIAL STATE\")\n",
    "print(state0)"
   ]
  },
  {
   "cell_type": "markdown",
   "metadata": {},
   "source": [
    "Note above that we compute the chemical properties of the system in the initial state (using {{ChemicalProps}}) and store its initial volume and initial internal energy in the variables `V0` and `U0` respectively. \n",
    "\n",
    "Our chemical equilibrium problem imposes the following properties at equilibrium:\n",
    "\n",
    "* volume; and\n",
    "* internal energy.\n",
    "\n",
    "The code below creates an {{EquilibriumSpecs}} object to reflect these specifications for the equilibrium constraints, which is then used to create our {{EquilibriumSolver}} object."
   ]
  },
  {
   "cell_type": "code",
   "execution_count": 20,
   "metadata": {},
   "outputs": [],
   "source": [
    "specs = EquilibriumSpecs(system)\n",
    "specs.volume()\n",
    "specs.internalEnergy()\n",
    "\n",
    "solver = EquilibriumSolver(specs)"
   ]
  },
  {
   "cell_type": "markdown",
   "metadata": {},
   "source": [
    "The next step is to create an {{EquilibriumConditions}} object in which we specify the values of volume and internal energy at equilibrium (which should be those values at the initial state). We do this in the next code block, which also sets lower bounds for temperature and pressure (to avoid negative values for these positive quantities during the equilibrium calculation!):"
   ]
  },
  {
   "cell_type": "code",
   "execution_count": 21,
   "metadata": {},
   "outputs": [],
   "source": [
    "conditions = EquilibriumConditions(specs)\n",
    "conditions.volume(V0)\n",
    "conditions.internalEnergy(U0)\n",
    "\n",
    "conditions.setLowerBoundTemperature(25.0, \"celsius\")\n",
    "conditions.setLowerBoundPressure(1.0, \"bar\")"
   ]
  },
  {
   "cell_type": "markdown",
   "metadata": {},
   "source": [
    "We have everything we need now to perform the equilibrium calculation, which is done next:"
   ]
  },
  {
   "cell_type": "code",
   "execution_count": 22,
   "metadata": {},
   "outputs": [
    {
     "name": "stdout",
     "output_type": "stream",
     "text": [
      "FINAL STATE\n",
      "+-----------------+-----------+------+\n",
      "| Property        |     Value | Unit |\n",
      "+-----------------+-----------+------+\n",
      "| Temperature     |   1230.15 |    K |\n",
      "| Pressure        |    768530 |   Pa |\n",
      "| Charge:         |         0 |  mol |\n",
      "| Element Amount: |           |      |\n",
      "| :: H            |         4 |  mol |\n",
      "| :: C            |         1 |  mol |\n",
      "| :: O            |         1 |  mol |\n",
      "| Species Amount: |           |      |\n",
      "| :: CH4          |  0.102994 |  mol |\n",
      "| :: O2           |     1e-16 |  mol |\n",
      "| :: CO2          | 0.0261655 |  mol |\n",
      "| :: CO           |   0.87084 |  mol |\n",
      "| :: H2O          | 0.0768286 |  mol |\n",
      "| :: H2           |   1.71718 |  mol |\n",
      "+-----------------+-----------+------+\n"
     ]
    }
   ],
   "source": [
    "state = ChemicalState(state0)  # let's create a copy of the initial state\n",
    "\n",
    "solver.solve(state, conditions)\n",
    "\n",
    "print(\"FINAL STATE\")\n",
    "print(state)"
   ]
  },
  {
   "cell_type": "markdown",
   "metadata": {},
   "source": [
    "The printed state above does not show volume and internal energy. To verify our equilibrium state stored in `state` has volume and internal energy equal to `V0` and `U0` respectively, we do the following:"
   ]
  },
  {
   "cell_type": "code",
   "execution_count": 23,
   "metadata": {},
   "outputs": [
    {
     "name": "stdout",
     "output_type": "stream",
     "text": [
      "Volume at initial state: 0.0371844 m3\n",
      "Volume at final state: 0.0371844 m3\n",
      "Internal energy at initial state: -78318 J\n",
      "Internal energy at final state: -78318 J\n"
     ]
    }
   ],
   "source": [
    "V = state.props().volume()\n",
    "U = state.props().internalEnergy()\n",
    "\n",
    "print(\"Volume at initial state:\", V0, \"m3\")\n",
    "print(\"Volume at final state:\", V, \"m3\")\n",
    "\n",
    "print(\"Internal energy at initial state:\", U0, \"J\")\n",
    "print(\"Internal energy at final state:\", U, \"J\")"
   ]
  },
  {
   "cell_type": "markdown",
   "metadata": {},
   "source": [
    "The verification above demonstrates we found an equilibrium state in which volume and internal energy were preserved.\n",
    "\n",
    "Let's now check what is the final temperature and pressure when we burn 1 mol of CH{{_4}} and 0.5 mol of O{{_2}} in a rigid and adiabatic chamber:"
   ]
  },
  {
   "cell_type": "code",
   "execution_count": 25,
   "metadata": {},
   "outputs": [
    {
     "name": "stdout",
     "output_type": "stream",
     "text": [
      "Temperature at final state: 957.002 °C\n",
      "Pressure at final state: 7.6853 bar\n"
     ]
    }
   ],
   "source": [
    "T = units.convert(state.temperature(), \"K\", \"degC\")  # convert from K to °C\n",
    "P = units.convert(state.pressure(), \"Pa\", \"bar\")  # convert from Pa to bar\n",
    "\n",
    "print(\"Temperature at final state:\", T, \"°C\")\n",
    "print(\"Pressure at final state:\", P, \"bar\")"
   ]
  },
  {
   "cell_type": "markdown",
   "metadata": {},
   "source": [
    "This concludes this tutorial, which demonstrated how Reaktoro can be used to perform chemical equilibrium calculations with given volume and internal energy."
   ]
  }
 ],
 "metadata": {
  "interpreter": {
   "hash": "e4e8b2f3ae27709963f14fd23a6560d362beea55eaec742263828e04d814e23c"
  },
  "kernelspec": {
   "display_name": "Python 3.9.7 64-bit ('reaktoro-jupyter-book': conda)",
   "language": "python",
   "name": "python3"
  },
  "language_info": {
   "codemirror_mode": {
    "name": "ipython",
    "version": 3
   },
   "file_extension": ".py",
   "mimetype": "text/x-python",
   "name": "python",
   "nbconvert_exporter": "python",
   "pygments_lexer": "ipython3",
   "version": "3.9.7"
  },
  "orig_nbformat": 4
 },
 "nbformat": 4,
 "nbformat_minor": 2
}
