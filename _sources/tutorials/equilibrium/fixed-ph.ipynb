{
 "cells": [
  {
   "cell_type": "markdown",
   "metadata": {},
   "source": [
    "# Chemical equilibrium with fixed pH\n"
   ]
  },
  {
   "cell_type": "markdown",
   "metadata": {},
   "source": [
    "In this tutorial we demonstrate how chemical equilibrium calculations with a\n",
    "fixed pH value can be accomplished in Reaktoro.\n",
    "\n",
    "We'll consider a relatively simple chemical description of an aqueous solution.\n",
    "This will permit us to describe the concepts and implications of such pH\n",
    "constraint on the computed equilibrium state.\n",
    "\n",
    "Let's then create a chemical system with just a single aqueous phase containing\n",
    "some selected species (instead of all possible species in the database with a\n",
    "given list of elements). For this phase, we use a Debye–Hückel activity model.\n",
    "See code below:"
   ]
  },
  {
   "cell_type": "code",
   "execution_count": 17,
   "metadata": {},
   "outputs": [],
   "source": [
    "import reaktoro as rkt\n",
    "import numpy as np\n",
    "\n",
    "db = rkt.SupcrtDatabase(\"supcrtbl\")\n",
    "\n",
    "solution = rkt.AqueousPhase(\"H2O(aq) H+ OH- Na+ Cl- HCO3- CO2(aq) CO3-2\")\n",
    "solution.setActivityModel(rkt.ActivityModelDebyeHuckel())\n",
    "\n",
    "system = rkt.ChemicalSystem(db, solution)"
   ]
  },
  {
   "cell_type": "markdown",
   "metadata": {},
   "source": [
    "We want to perform a chemical equilibrium calculation in which the following\n",
    "properties are constrained:\n",
    "\n",
    "* temperature;\n",
    "* pressure; and\n",
    "* pH;\n",
    "\n",
    "Let's create a dedicated and optimized chemical equilibrium solver to deal with\n",
    "these types of problems. \n",
    "\n",
    "First, we create an object of class {{EquilibriumSpecs}}, which we use to provide\n",
    "the equilibrium specifications for our solver later on:"
   ]
  },
  {
   "cell_type": "code",
   "execution_count": 18,
   "metadata": {},
   "outputs": [],
   "source": [
    "specs = rkt.EquilibriumSpecs(system)\n",
    "specs.temperature()\n",
    "specs.pressure()\n",
    "specs.pH()"
   ]
  },
  {
   "cell_type": "markdown",
   "metadata": {},
   "source": [
    "```{note}\n",
    "By specifying that pH is constrained, we will be constructing later an\n",
    "equilibrium solver that presumes that the system is open to H<sup>+</sup>. Thus,\n",
    "during the calculation, a certain amount of H<sup>+</sup> will be added or removed\n",
    "from the system so that the pH constraint is satisfied. Because H<sup>+</sup> is a\n",
    "charged species, this will most likely produce a chemical state with non-zero\n",
    "electrical charge. If zero electrical charge is expected, then a charge balance\n",
    "constraint must be enforced, and the system needs to be additionally open to a\n",
    "negative ion such as Cl<sup>-</sup>. We'll demonstrate how this is accomplished\n",
    "later.\n",
    "```\n",
    "\n",
    "Once we have created this specifications object, we can now create our\n",
    "equilibrium solver:"
   ]
  },
  {
   "cell_type": "code",
   "execution_count": 19,
   "metadata": {},
   "outputs": [],
   "source": [
    "solver = rkt.EquilibriumSolver(specs)"
   ]
  },
  {
   "cell_type": "markdown",
   "metadata": {},
   "source": [
    "Let's now create an initial chemical state for our chemical system:"
   ]
  },
  {
   "cell_type": "code",
   "execution_count": 20,
   "metadata": {},
   "outputs": [],
   "source": [
    "state = rkt.ChemicalState(system)\n",
    "state.temperature(30.0, \"celsius\")\n",
    "state.pressure(1.0, \"bar\")\n",
    "state.set(\"H2O(aq)\", 1.0, \"kg\")\n",
    "state.set(\"Na+\", 0.01, \"mol\")\n",
    "state.set(\"Cl-\", 0.01, \"mol\")\n",
    "state.set(\"CO2(aq)\", 0.1, \"mol\")"
   ]
  },
  {
   "cell_type": "markdown",
   "metadata": {},
   "source": [
    "This state is not in chemical equilibrium. Before we equilibrate it\n",
    "with our equilibrium solver, let's create a copy of the vector of element\n",
    "amounts in this state, which we call `b0` below. We do this because we will\n",
    "compare the amounts of each element before and after equilibration, in which\n",
    "temperature, pressure, and pH are prescribed."
   ]
  },
  {
   "cell_type": "code",
   "execution_count": 21,
   "metadata": {},
   "outputs": [],
   "source": [
    "b0 = state.elementAmounts().asarray()"
   ]
  },
  {
   "cell_type": "markdown",
   "metadata": {},
   "source": [
    "Let's now define the temperature, pressure, and pH conditions we want to impose\n",
    "at equilibrium for this aqueous solution currently in disequilibrium. We do\n",
    "this by using an object of class {{EquilibriumConditions}}:"
   ]
  },
  {
   "cell_type": "code",
   "execution_count": 22,
   "metadata": {},
   "outputs": [],
   "source": [
    "conditions = rkt.EquilibriumConditions(specs)\n",
    "conditions.temperature(50.0, \"celsius\")\n",
    "conditions.pressure(10.0, \"bar\")\n",
    "conditions.pH(2.0)"
   ]
  },
  {
   "cell_type": "markdown",
   "metadata": {},
   "source": [
    "We have everything we need now to perform the equilibrium calculation:\n",
    "\n",
    "* an equilibrium solver (the `solver` object of class {{EquilibriumSolver}});\n",
    "* a chemical state to equilibrate (the `state` object of class {{ChemicalState}}); and\n",
    "* the conditions we are imposing for this equilibrium state (the `conditions`\n",
    "  object of class {{EquilibriumConditions}}).\n",
    "\n",
    "The code below will perform the equilibrium calculation and modify the `state`\n",
    "object to reflect the computed chemical equilibrium state:"
   ]
  },
  {
   "cell_type": "code",
   "execution_count": 23,
   "metadata": {},
   "outputs": [],
   "source": [
    "result = solver.solve(state, conditions)"
   ]
  },
  {
   "cell_type": "markdown",
   "metadata": {},
   "source": [
    "It's always advisable to verify if the calculation succeeded:"
   ]
  },
  {
   "cell_type": "code",
   "execution_count": 24,
   "metadata": {},
   "outputs": [
    {
     "name": "stdout",
     "output_type": "stream",
     "text": [
      "Successful computation!\n"
     ]
    }
   ],
   "source": [
    "print(\"Successful computation!\" if result.optima.succeeded else \"Computation has failed!\")"
   ]
  },
  {
   "cell_type": "markdown",
   "metadata": {},
   "source": [
    "Let's check the computed chemical equilibrium state: "
   ]
  },
  {
   "cell_type": "code",
   "execution_count": 25,
   "metadata": {},
   "outputs": [
    {
     "name": "stdout",
     "output_type": "stream",
     "text": [
      "+-----------------+-------------+------+\n",
      "| Property        |       Value | Unit |\n",
      "+-----------------+-------------+------+\n",
      "| Temperature     |      323.15 |    K |\n",
      "| Pressure        |       1e+06 |   Pa |\n",
      "| Element Amount: |             |      |\n",
      "| :: H            |     111.028 |  mol |\n",
      "| :: C            |         0.1 |  mol |\n",
      "| :: O            |     55.7084 |  mol |\n",
      "| :: Na           |        0.01 |  mol |\n",
      "| :: Cl           |        0.01 |  mol |\n",
      "| Species Amount: |             |      |\n",
      "| :: H2O(aq)      |     55.5084 |  mol |\n",
      "| :: H+           |   0.0110073 |  mol |\n",
      "| :: OH-          | 6.03742e-12 |  mol |\n",
      "| :: Na+          |        0.01 |  mol |\n",
      "| :: Cl-          |        0.01 |  mol |\n",
      "| :: HCO3-        | 6.05697e-06 |  mol |\n",
      "| :: CO2(aq)      |   0.0999939 |  mol |\n",
      "| :: CO3-2        | 5.72532e-14 |  mol |\n",
      "+-----------------+-------------+------+\n"
     ]
    }
   ],
   "source": [
    "print(state)"
   ]
  },
  {
   "cell_type": "markdown",
   "metadata": {},
   "source": [
    "Well, there is no pH in this table because {{ChemicalState}} objects only store\n",
    "temperature, pressure, and species amounts. \n",
    "\n",
    "What we need now is an object of class {{AqueousProps}}. This class was\n",
    "specifically designed to inspect thermodynamic and chemical properties related\n",
    "to aqueous solutions. Let's create an {{AqueousProps}} object and print it:"
   ]
  },
  {
   "cell_type": "code",
   "execution_count": 26,
   "metadata": {
    "tags": []
   },
   "outputs": [
    {
     "name": "stdout",
     "output_type": "stream",
     "text": [
      "+--------------------------+-------------+-------+\n",
      "| Property                 |       Value |  Unit |\n",
      "+--------------------------+-------------+-------+\n",
      "| Temperature              |      323.15 |     K |\n",
      "| Pressure                 |       1e+06 |    Pa |\n",
      "| Ionic Strength (Effect.) |   0.0155067 | molal |\n",
      "| Ionic Strength (Stoich.) |   0.0155067 | molal |\n",
      "| pH                       |           2 |       |\n",
      "| pE                       |    -1.34192 |       |\n",
      "| Eh                       |  -0.0860438 |     V |\n",
      "| Element Molality:        |             |       |\n",
      "| :: C                     |         0.1 | molal |\n",
      "| :: Na                    |        0.01 | molal |\n",
      "| :: Cl                    |        0.01 | molal |\n",
      "| Species Molality:        |             |       |\n",
      "| :: H+                    |   0.0110073 | molal |\n",
      "| :: OH-                   | 6.03743e-12 | molal |\n",
      "| :: Na+                   |        0.01 | molal |\n",
      "| :: Cl-                   |        0.01 | molal |\n",
      "| :: HCO3-                 | 6.05697e-06 | molal |\n",
      "| :: CO2(aq)               |    0.099994 | molal |\n",
      "| :: CO3-2                 | 5.72532e-14 | molal |\n",
      "+--------------------------+-------------+-------+\n"
     ]
    }
   ],
   "source": [
    "aprops = rkt.AqueousProps(state)\n",
    "print(aprops)"
   ]
  },
  {
   "cell_type": "markdown",
   "metadata": {},
   "source": [
    "Great! We can now see that pH is exactly 2, as we enforced, and temperature and\n",
    "pressure are 50 °C and 10 bar (but displayed in the table as 323.15 K and\n",
    "10<sup>6</sup> Pa respectively).\n",
    "\n",
    "Let's now compare the amounts of elements at equilibrium state with that at the\n",
    "initial state. "
   ]
  },
  {
   "cell_type": "code",
   "execution_count": 27,
   "metadata": {},
   "outputs": [
    {
     "name": "stdout",
     "output_type": "stream",
     "text": [
      "Δb[H] = 0.011001266746177407\n",
      "Δb[C] = 1.4155343563970746e-15\n",
      "Δb[O] = 0.0\n",
      "Δb[Na] = 0.0\n",
      "Δb[Cl] = 0.0\n"
     ]
    }
   ],
   "source": [
    "b = state.elementAmounts().asarray()\n",
    "\n",
    "for i, element in enumerate(system.elements()):\n",
    "    print(f\"Δb[{element.symbol()}] = {b[i] - b0[i]}\")"
   ]
  },
  {
   "cell_type": "markdown",
   "metadata": {},
   "source": [
    "Note elements Na, Cl, C, and O are numerically conserved (i.e., their final\n",
    "and initial amounts are zero or close to machine precision, \n",
    "approximately 1.11e-16). This conservation is not observed for element H, however.\n",
    "\n",
    "Let's check the electrical charge of the state:"
   ]
  },
  {
   "cell_type": "code",
   "execution_count": 28,
   "metadata": {},
   "outputs": [
    {
     "name": "stdout",
     "output_type": "stream",
     "text": [
      "0.0110013\n"
     ]
    }
   ],
   "source": [
    "print(state.charge())"
   ]
  },
  {
   "cell_type": "markdown",
   "metadata": {},
   "source": [
    "Recall that specifying pH implies that the system is open to H<sup>+</sup> during the\n",
    "chemical equilibrium calculation. Thus, the values above for element H and\n",
    "electric charge reflect this behavior. It indicates that H<sup>+</sup> was added into\n",
    "the system to obtain an aqueous state with the stipulated pH value.\n",
    "\n",
    "Let's now create an equilibrium solver that considers not only temperature,\n",
    "pressure, and pH constraints, but also an additional charge constraint. We want\n",
    "electrical charge balance to be attained by adding/removing Cl<sup>-</sup> as much as\n",
    "needed. Because of this, we specify below in the {{EquilibriumSpecs}} object that\n",
    "the system is open to Cl<sup>-</sup>.\n",
    "\n",
    "```{note}\n",
    "The formulation below equivalent to the task of finding an aqueous solution\n",
    "state in which a desired pH is obtained by titrating HCl.\n",
    "```"
   ]
  },
  {
   "cell_type": "code",
   "execution_count": 35,
   "metadata": {},
   "outputs": [
    {
     "name": "stdout",
     "output_type": "stream",
     "text": [
      "+-----------------+-------------+------+\n",
      "| Property        |       Value | Unit |\n",
      "+-----------------+-------------+------+\n",
      "| Temperature     |      323.15 |    K |\n",
      "| Pressure        |       1e+06 |   Pa |\n",
      "| Element Amount: |             |      |\n",
      "| :: H            |     111.028 |  mol |\n",
      "| :: C            |         0.1 |  mol |\n",
      "| :: O            |     55.7084 |  mol |\n",
      "| :: Na           |        0.01 |  mol |\n",
      "| :: Cl           |    0.021127 |  mol |\n",
      "| Species Amount: |             |      |\n",
      "| :: H2O(aq)      |     55.5084 |  mol |\n",
      "| :: H+           |   0.0111332 |  mol |\n",
      "| :: OH-          | 6.13581e-12 |  mol |\n",
      "| :: Na+          |        0.01 |  mol |\n",
      "| :: Cl-          |    0.021127 |  mol |\n",
      "| :: HCO3-        | 6.15075e-06 |  mol |\n",
      "| :: CO2(aq)      |   0.0999938 |  mol |\n",
      "| :: CO3-2        | 6.07025e-14 |  mol |\n",
      "+-----------------+-------------+------+\n"
     ]
    }
   ],
   "source": [
    "specs = rkt.EquilibriumSpecs(system)\n",
    "specs.temperature()\n",
    "specs.pressure()\n",
    "specs.pH()\n",
    "specs.charge()\n",
    "specs.openTo(\"Cl-\")\n",
    "\n",
    "solver = rkt.EquilibriumSolver(specs)\n",
    "\n",
    "conditions = rkt.EquilibriumConditions(specs)\n",
    "conditions.temperature(50.0, \"celsius\")\n",
    "conditions.pressure(10.0, \"bar\")\n",
    "conditions.pH(2.0)\n",
    "conditions.charge(0.0)\n",
    "\n",
    "solver.solve(state, conditions)\n"
   ]
  },
  {
   "cell_type": "markdown",
   "metadata": {},
   "source": [
    "The new equilibrium state is:"
   ]
  },
  {
   "cell_type": "code",
   "execution_count": null,
   "metadata": {},
   "outputs": [],
   "source": [
    "\n",
    "print(state)"
   ]
  },
  {
   "cell_type": "markdown",
   "metadata": {},
   "source": [
    "It's electrical charge should be zero or close to machine precision:"
   ]
  },
  {
   "cell_type": "code",
   "execution_count": 36,
   "metadata": {},
   "outputs": [
    {
     "name": "stdout",
     "output_type": "stream",
     "text": [
      "-2.23045e-16\n"
     ]
    }
   ],
   "source": [
    "print(state.charge())"
   ]
  },
  {
   "cell_type": "markdown",
   "metadata": {},
   "source": [
    "And its pH should be 2:"
   ]
  },
  {
   "cell_type": "code",
   "execution_count": 37,
   "metadata": {},
   "outputs": [
    {
     "name": "stdout",
     "output_type": "stream",
     "text": [
      "2\n"
     ]
    }
   ],
   "source": [
    "aprops = rkt.AqueousProps(state)\n",
    "print(aprops.pH())"
   ]
  },
  {
   "cell_type": "markdown",
   "metadata": {},
   "source": [
    "This is the end of this tutorial. We have demonstrated here how to perform\n",
    "chemical equilibrium calculations with fixed pH with and without electrical\n",
    "charge balance. "
   ]
  }
 ],
 "metadata": {
  "interpreter": {
   "hash": "e4e8b2f3ae27709963f14fd23a6560d362beea55eaec742263828e04d814e23c"
  },
  "kernelspec": {
   "display_name": "Python 3.9.7 64-bit ('reaktoro-jupyter-book': conda)",
   "name": "python3"
  },
  "language_info": {
   "codemirror_mode": {
    "name": "ipython",
    "version": 3
   },
   "file_extension": ".py",
   "mimetype": "text/x-python",
   "name": "python",
   "nbconvert_exporter": "python",
   "pygments_lexer": "ipython3",
   "version": "3.9.7"
  },
  "orig_nbformat": 4
 },
 "nbformat": 4,
 "nbformat_minor": 2
}
